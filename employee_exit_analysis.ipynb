{
 "cells": [
  {
   "cell_type": "markdown",
   "metadata": {},
   "source": [
    "# Employee Resignation Analysis in Queensland's Education Institutes\n",
    "\n",
    "In this project, I'll work with exit surveys from employees of the Department of Education, Training and Employment (DETE) and the Technical and Further Education (TAFE) institute in Queensland, Australia. \n",
    "\n",
    "## Project Objectives:\n",
    "In this project, I'll play the role of data analyst and pretend that stakeholders want to know the following:\n",
    "\n",
    "* Are employees who only worked for the institutes for a short period of time resigning due to some kind of dissatisfaction? What about employees who have been there longer?\n",
    "* Are younger employees resigning due to some kind of dissatisfaction? What about older employees?\n",
    "\n",
    "## Quick Summary of Findings:\n",
    "The analysis of employee exit surveys in Queensland's education institutes reveals that:\n",
    "\n",
    "* Short-tenured and veteran employees resign due to dissatisfaction. \n",
    "* Dissatisfaction is prominent among employees aged 25 to 50, with minimal resignations in younger and older age groups. \n",
    "* Female employees account for the majority of dissatisfied staff. \n",
    "* Non-teaching staff in DETE and new employees in TAFE exhibit higher dissatisfaction rates. \n",
    "* Permanent full-time roles in DETE and temporary part-time roles in TAFE are associated with higher dissatisfaction. \n",
    "\n",
    "Targeted measures to address these insights can enhance employee satisfaction and retention in both institutes.\n",
    "\n",
    "## Data Dictionary\n",
    "A data dictionary wasn't provided with the dataset. But for this project, we'll use our general knowledge to define the columns.\n",
    "\n",
    "Below is a preview of a couple columns I'll work with from the `dete_survey.csv`:\n",
    "\n",
    "* `ID`: An id used to identify the participant of the survey\n",
    "* `SeparationType`: The reason why the person's employment ended\n",
    "* `Cease Date`: The year or month the person's employment ended\n",
    "* `DETE Start Date`: The year the person began employment with the DETE\n",
    "\n",
    "Below is a preview of a couple columns I'll work with from the `tafe_survey.csv`:\n",
    "\n",
    "* `Record ID`: An id used to identify the participant of the survey\n",
    "* `Reason for ceasing employment`: The reason why the person's employment ended\n",
    "* `LengthofServiceOverall. Overall Length of Service at Institute (in years)`: The length of the person's employment (in years)"
   ]
  },
  {
   "cell_type": "markdown",
   "metadata": {},
   "source": [
    "## Part 1: Data Exploration"
   ]
  },
  {
   "cell_type": "markdown",
   "metadata": {},
   "source": [
    "To begin this analysis, I first start by doing a basic exploration of the dataset to better understand the imformation contained in our dataset. \n",
    "\n",
    "To better understand the dataset, I'll;\n",
    "* Check the number of rows and columns\n",
    "* Check if there are missing values\n",
    "* Identity dtypes of each columns, and identify numerical and categorical columns\n",
    "* Identify the distribution of values in columns, and the number of unique values in categorical columns\n",
    "* Check for duplicate and missing values, or inconsistencies on the data\n",
    "* Get a descriptive statistics for the data\n"
   ]
  },
  {
   "cell_type": "markdown",
   "metadata": {},
   "source": [
    "### 1.1: Importing Libraries; Pandas, Numpy, Seaborn, etc"
   ]
  },
  {
   "cell_type": "code",
   "execution_count": 1,
   "metadata": {},
   "outputs": [],
   "source": [
    "# Importing Libraries\n",
    "import pandas as pd\n",
    "pd.set_option('display.max_columns', None)\n",
    "\n",
    "import numpy as np\n",
    "\n",
    "\n",
    "import matplotlib.pyplot as plt\n",
    "import seaborn as sns\n",
    "\n",
    "import warnings\n",
    "warnings.filterwarnings(action='ignore')"
   ]
  },
  {
   "cell_type": "code",
   "execution_count": 2,
   "metadata": {},
   "outputs": [],
   "source": [
    "# Reading in the datasets\n",
    "dete_survey = pd.read_csv('dete_survey.csv', encoding='UTF-8', na_values='Not Stated')\n",
    "tafe_survey = pd.read_csv('tafe_survey.csv', encoding='UTF-8')"
   ]
  },
  {
   "cell_type": "markdown",
   "metadata": {},
   "source": [
    "The `dete_survey` dataframe contains 'Not Stated' values to indicate that there are are missing, but they aren't represented as NaN. To handle this, I'll read the `dete_survey.csv` CSV file into pandas to read the `Not Stated` values in as `NaN`, by setting the `na_values` parameter to `Not Stated`."
   ]
  },
  {
   "cell_type": "markdown",
   "metadata": {},
   "source": [
    "### 1.2: Exploring datasets"
   ]
  },
  {
   "cell_type": "code",
   "execution_count": 3,
   "metadata": {},
   "outputs": [
    {
     "data": {
      "text/html": [
       "<div>\n",
       "<style scoped>\n",
       "    .dataframe tbody tr th:only-of-type {\n",
       "        vertical-align: middle;\n",
       "    }\n",
       "\n",
       "    .dataframe tbody tr th {\n",
       "        vertical-align: top;\n",
       "    }\n",
       "\n",
       "    .dataframe thead th {\n",
       "        text-align: right;\n",
       "    }\n",
       "</style>\n",
       "<table border=\"1\" class=\"dataframe\">\n",
       "  <thead>\n",
       "    <tr style=\"text-align: right;\">\n",
       "      <th></th>\n",
       "      <th>ID</th>\n",
       "      <th>SeparationType</th>\n",
       "      <th>Cease Date</th>\n",
       "      <th>DETE Start Date</th>\n",
       "      <th>Role Start Date</th>\n",
       "      <th>Position</th>\n",
       "      <th>Classification</th>\n",
       "      <th>Region</th>\n",
       "      <th>Business Unit</th>\n",
       "      <th>Employment Status</th>\n",
       "      <th>Career move to public sector</th>\n",
       "      <th>Career move to private sector</th>\n",
       "      <th>Interpersonal conflicts</th>\n",
       "      <th>Job dissatisfaction</th>\n",
       "      <th>Dissatisfaction with the department</th>\n",
       "      <th>Physical work environment</th>\n",
       "      <th>Lack of recognition</th>\n",
       "      <th>Lack of job security</th>\n",
       "      <th>Work location</th>\n",
       "      <th>Employment conditions</th>\n",
       "      <th>Maternity/family</th>\n",
       "      <th>Relocation</th>\n",
       "      <th>Study/Travel</th>\n",
       "      <th>Ill Health</th>\n",
       "      <th>Traumatic incident</th>\n",
       "      <th>Work life balance</th>\n",
       "      <th>Workload</th>\n",
       "      <th>None of the above</th>\n",
       "      <th>Professional Development</th>\n",
       "      <th>Opportunities for promotion</th>\n",
       "      <th>Staff morale</th>\n",
       "      <th>Workplace issue</th>\n",
       "      <th>Physical environment</th>\n",
       "      <th>Worklife balance</th>\n",
       "      <th>Stress and pressure support</th>\n",
       "      <th>Performance of supervisor</th>\n",
       "      <th>Peer support</th>\n",
       "      <th>Initiative</th>\n",
       "      <th>Skills</th>\n",
       "      <th>Coach</th>\n",
       "      <th>Career Aspirations</th>\n",
       "      <th>Feedback</th>\n",
       "      <th>Further PD</th>\n",
       "      <th>Communication</th>\n",
       "      <th>My say</th>\n",
       "      <th>Information</th>\n",
       "      <th>Kept informed</th>\n",
       "      <th>Wellness programs</th>\n",
       "      <th>Health &amp; Safety</th>\n",
       "      <th>Gender</th>\n",
       "      <th>Age</th>\n",
       "      <th>Aboriginal</th>\n",
       "      <th>Torres Strait</th>\n",
       "      <th>South Sea</th>\n",
       "      <th>Disability</th>\n",
       "      <th>NESB</th>\n",
       "    </tr>\n",
       "  </thead>\n",
       "  <tbody>\n",
       "    <tr>\n",
       "      <th>0</th>\n",
       "      <td>1</td>\n",
       "      <td>Ill Health Retirement</td>\n",
       "      <td>08/2012</td>\n",
       "      <td>1984.0</td>\n",
       "      <td>2004.0</td>\n",
       "      <td>Public Servant</td>\n",
       "      <td>A01-A04</td>\n",
       "      <td>Central Office</td>\n",
       "      <td>Corporate Strategy and Peformance</td>\n",
       "      <td>Permanent Full-time</td>\n",
       "      <td>True</td>\n",
       "      <td>False</td>\n",
       "      <td>False</td>\n",
       "      <td>True</td>\n",
       "      <td>False</td>\n",
       "      <td>False</td>\n",
       "      <td>True</td>\n",
       "      <td>False</td>\n",
       "      <td>False</td>\n",
       "      <td>False</td>\n",
       "      <td>False</td>\n",
       "      <td>False</td>\n",
       "      <td>False</td>\n",
       "      <td>False</td>\n",
       "      <td>False</td>\n",
       "      <td>False</td>\n",
       "      <td>False</td>\n",
       "      <td>True</td>\n",
       "      <td>A</td>\n",
       "      <td>A</td>\n",
       "      <td>N</td>\n",
       "      <td>N</td>\n",
       "      <td>N</td>\n",
       "      <td>A</td>\n",
       "      <td>A</td>\n",
       "      <td>A</td>\n",
       "      <td>A</td>\n",
       "      <td>N</td>\n",
       "      <td>N</td>\n",
       "      <td>N</td>\n",
       "      <td>A</td>\n",
       "      <td>A</td>\n",
       "      <td>A</td>\n",
       "      <td>N</td>\n",
       "      <td>A</td>\n",
       "      <td>A</td>\n",
       "      <td>N</td>\n",
       "      <td>N</td>\n",
       "      <td>N</td>\n",
       "      <td>Male</td>\n",
       "      <td>56-60</td>\n",
       "      <td>NaN</td>\n",
       "      <td>NaN</td>\n",
       "      <td>NaN</td>\n",
       "      <td>NaN</td>\n",
       "      <td>Yes</td>\n",
       "    </tr>\n",
       "    <tr>\n",
       "      <th>1</th>\n",
       "      <td>2</td>\n",
       "      <td>Voluntary Early Retirement (VER)</td>\n",
       "      <td>08/2012</td>\n",
       "      <td>NaN</td>\n",
       "      <td>NaN</td>\n",
       "      <td>Public Servant</td>\n",
       "      <td>AO5-AO7</td>\n",
       "      <td>Central Office</td>\n",
       "      <td>Corporate Strategy and Peformance</td>\n",
       "      <td>Permanent Full-time</td>\n",
       "      <td>False</td>\n",
       "      <td>False</td>\n",
       "      <td>False</td>\n",
       "      <td>False</td>\n",
       "      <td>False</td>\n",
       "      <td>False</td>\n",
       "      <td>False</td>\n",
       "      <td>False</td>\n",
       "      <td>False</td>\n",
       "      <td>False</td>\n",
       "      <td>False</td>\n",
       "      <td>False</td>\n",
       "      <td>False</td>\n",
       "      <td>False</td>\n",
       "      <td>False</td>\n",
       "      <td>False</td>\n",
       "      <td>False</td>\n",
       "      <td>False</td>\n",
       "      <td>A</td>\n",
       "      <td>A</td>\n",
       "      <td>N</td>\n",
       "      <td>N</td>\n",
       "      <td>N</td>\n",
       "      <td>N</td>\n",
       "      <td>A</td>\n",
       "      <td>A</td>\n",
       "      <td>A</td>\n",
       "      <td>N</td>\n",
       "      <td>N</td>\n",
       "      <td>N</td>\n",
       "      <td>A</td>\n",
       "      <td>A</td>\n",
       "      <td>A</td>\n",
       "      <td>N</td>\n",
       "      <td>A</td>\n",
       "      <td>A</td>\n",
       "      <td>N</td>\n",
       "      <td>N</td>\n",
       "      <td>N</td>\n",
       "      <td>Male</td>\n",
       "      <td>56-60</td>\n",
       "      <td>NaN</td>\n",
       "      <td>NaN</td>\n",
       "      <td>NaN</td>\n",
       "      <td>NaN</td>\n",
       "      <td>NaN</td>\n",
       "    </tr>\n",
       "    <tr>\n",
       "      <th>2</th>\n",
       "      <td>3</td>\n",
       "      <td>Voluntary Early Retirement (VER)</td>\n",
       "      <td>05/2012</td>\n",
       "      <td>2011.0</td>\n",
       "      <td>2011.0</td>\n",
       "      <td>Schools Officer</td>\n",
       "      <td>NaN</td>\n",
       "      <td>Central Office</td>\n",
       "      <td>Education Queensland</td>\n",
       "      <td>Permanent Full-time</td>\n",
       "      <td>False</td>\n",
       "      <td>False</td>\n",
       "      <td>False</td>\n",
       "      <td>False</td>\n",
       "      <td>False</td>\n",
       "      <td>False</td>\n",
       "      <td>False</td>\n",
       "      <td>False</td>\n",
       "      <td>False</td>\n",
       "      <td>False</td>\n",
       "      <td>False</td>\n",
       "      <td>False</td>\n",
       "      <td>False</td>\n",
       "      <td>False</td>\n",
       "      <td>False</td>\n",
       "      <td>False</td>\n",
       "      <td>False</td>\n",
       "      <td>True</td>\n",
       "      <td>N</td>\n",
       "      <td>N</td>\n",
       "      <td>N</td>\n",
       "      <td>N</td>\n",
       "      <td>N</td>\n",
       "      <td>N</td>\n",
       "      <td>N</td>\n",
       "      <td>N</td>\n",
       "      <td>N</td>\n",
       "      <td>N</td>\n",
       "      <td>N</td>\n",
       "      <td>N</td>\n",
       "      <td>N</td>\n",
       "      <td>N</td>\n",
       "      <td>N</td>\n",
       "      <td>A</td>\n",
       "      <td>A</td>\n",
       "      <td>N</td>\n",
       "      <td>N</td>\n",
       "      <td>N</td>\n",
       "      <td>N</td>\n",
       "      <td>Male</td>\n",
       "      <td>61 or older</td>\n",
       "      <td>NaN</td>\n",
       "      <td>NaN</td>\n",
       "      <td>NaN</td>\n",
       "      <td>NaN</td>\n",
       "      <td>NaN</td>\n",
       "    </tr>\n",
       "  </tbody>\n",
       "</table>\n",
       "</div>"
      ],
      "text/plain": [
       "   ID                    SeparationType Cease Date  DETE Start Date  \\\n",
       "0   1             Ill Health Retirement    08/2012           1984.0   \n",
       "1   2  Voluntary Early Retirement (VER)    08/2012              NaN   \n",
       "2   3  Voluntary Early Retirement (VER)    05/2012           2011.0   \n",
       "\n",
       "   Role Start Date         Position Classification          Region  \\\n",
       "0           2004.0   Public Servant        A01-A04  Central Office   \n",
       "1              NaN   Public Servant        AO5-AO7  Central Office   \n",
       "2           2011.0  Schools Officer            NaN  Central Office   \n",
       "\n",
       "                       Business Unit    Employment Status  \\\n",
       "0  Corporate Strategy and Peformance  Permanent Full-time   \n",
       "1  Corporate Strategy and Peformance  Permanent Full-time   \n",
       "2               Education Queensland  Permanent Full-time   \n",
       "\n",
       "   Career move to public sector  Career move to private sector  \\\n",
       "0                          True                          False   \n",
       "1                         False                          False   \n",
       "2                         False                          False   \n",
       "\n",
       "   Interpersonal conflicts  Job dissatisfaction  \\\n",
       "0                    False                 True   \n",
       "1                    False                False   \n",
       "2                    False                False   \n",
       "\n",
       "   Dissatisfaction with the department  Physical work environment  \\\n",
       "0                                False                      False   \n",
       "1                                False                      False   \n",
       "2                                False                      False   \n",
       "\n",
       "   Lack of recognition  Lack of job security  Work location  \\\n",
       "0                 True                 False          False   \n",
       "1                False                 False          False   \n",
       "2                False                 False          False   \n",
       "\n",
       "   Employment conditions  Maternity/family  Relocation  Study/Travel  \\\n",
       "0                  False             False       False         False   \n",
       "1                  False             False       False         False   \n",
       "2                  False             False       False         False   \n",
       "\n",
       "   Ill Health  Traumatic incident  Work life balance  Workload  \\\n",
       "0       False               False              False     False   \n",
       "1       False               False              False     False   \n",
       "2       False               False              False     False   \n",
       "\n",
       "   None of the above Professional Development Opportunities for promotion  \\\n",
       "0               True                        A                           A   \n",
       "1              False                        A                           A   \n",
       "2               True                        N                           N   \n",
       "\n",
       "  Staff morale Workplace issue Physical environment Worklife balance  \\\n",
       "0            N               N                    N                A   \n",
       "1            N               N                    N                N   \n",
       "2            N               N                    N                N   \n",
       "\n",
       "  Stress and pressure support Performance of supervisor Peer support  \\\n",
       "0                           A                         A            A   \n",
       "1                           A                         A            A   \n",
       "2                           N                         N            N   \n",
       "\n",
       "  Initiative Skills Coach Career Aspirations Feedback Further PD  \\\n",
       "0          N      N     N                  A        A          A   \n",
       "1          N      N     N                  A        A          A   \n",
       "2          N      N     N                  N        N          N   \n",
       "\n",
       "  Communication My say Information Kept informed Wellness programs  \\\n",
       "0             N      A           A             N                 N   \n",
       "1             N      A           A             N                 N   \n",
       "2             A      A           N             N                 N   \n",
       "\n",
       "  Health & Safety Gender          Age Aboriginal Torres Strait South Sea  \\\n",
       "0               N   Male        56-60        NaN           NaN       NaN   \n",
       "1               N   Male        56-60        NaN           NaN       NaN   \n",
       "2               N   Male  61 or older        NaN           NaN       NaN   \n",
       "\n",
       "  Disability NESB  \n",
       "0        NaN  Yes  \n",
       "1        NaN  NaN  \n",
       "2        NaN  NaN  "
      ]
     },
     "execution_count": 3,
     "metadata": {},
     "output_type": "execute_result"
    }
   ],
   "source": [
    "dete_survey.head(3)"
   ]
  },
  {
   "cell_type": "code",
   "execution_count": 4,
   "metadata": {},
   "outputs": [
    {
     "data": {
      "text/html": [
       "<div>\n",
       "<style scoped>\n",
       "    .dataframe tbody tr th:only-of-type {\n",
       "        vertical-align: middle;\n",
       "    }\n",
       "\n",
       "    .dataframe tbody tr th {\n",
       "        vertical-align: top;\n",
       "    }\n",
       "\n",
       "    .dataframe thead th {\n",
       "        text-align: right;\n",
       "    }\n",
       "</style>\n",
       "<table border=\"1\" class=\"dataframe\">\n",
       "  <thead>\n",
       "    <tr style=\"text-align: right;\">\n",
       "      <th></th>\n",
       "      <th>Record ID</th>\n",
       "      <th>Institute</th>\n",
       "      <th>WorkArea</th>\n",
       "      <th>CESSATION YEAR</th>\n",
       "      <th>Reason for ceasing employment</th>\n",
       "      <th>Contributing Factors. Career Move - Public Sector</th>\n",
       "      <th>Contributing Factors. Career Move - Private Sector</th>\n",
       "      <th>Contributing Factors. Career Move - Self-employment</th>\n",
       "      <th>Contributing Factors. Ill Health</th>\n",
       "      <th>Contributing Factors. Maternity/Family</th>\n",
       "      <th>Contributing Factors. Dissatisfaction</th>\n",
       "      <th>Contributing Factors. Job Dissatisfaction</th>\n",
       "      <th>Contributing Factors. Interpersonal Conflict</th>\n",
       "      <th>Contributing Factors. Study</th>\n",
       "      <th>Contributing Factors. Travel</th>\n",
       "      <th>Contributing Factors. Other</th>\n",
       "      <th>Contributing Factors. NONE</th>\n",
       "      <th>Main Factor. Which of these was the main factor for leaving?</th>\n",
       "      <th>InstituteViews. Topic:1. I feel the senior leadership had a clear vision and direction</th>\n",
       "      <th>InstituteViews. Topic:2. I was given access to skills training to help me do my job better</th>\n",
       "      <th>InstituteViews. Topic:3. I was given adequate opportunities for personal development</th>\n",
       "      <th>InstituteViews. Topic:4. I was given adequate opportunities for promotion within %Institute]Q25LBL%</th>\n",
       "      <th>InstituteViews. Topic:5. I felt the salary for the job was right for the responsibilities I had</th>\n",
       "      <th>InstituteViews. Topic:6. The organisation recognised when staff did good work</th>\n",
       "      <th>InstituteViews. Topic:7. Management was generally supportive of me</th>\n",
       "      <th>InstituteViews. Topic:8. Management was generally supportive of my team</th>\n",
       "      <th>InstituteViews. Topic:9. I was kept informed of the changes in the organisation which would affect me</th>\n",
       "      <th>InstituteViews. Topic:10. Staff morale was positive within the Institute</th>\n",
       "      <th>InstituteViews. Topic:11. If I had a workplace issue it was dealt with quickly</th>\n",
       "      <th>InstituteViews. Topic:12. If I had a workplace issue it was dealt with efficiently</th>\n",
       "      <th>InstituteViews. Topic:13. If I had a workplace issue it was dealt with discreetly</th>\n",
       "      <th>WorkUnitViews. Topic:14. I was satisfied with the quality of the management and supervision within my work unit</th>\n",
       "      <th>WorkUnitViews. Topic:15. I worked well with my colleagues</th>\n",
       "      <th>WorkUnitViews. Topic:16. My job was challenging and interesting</th>\n",
       "      <th>WorkUnitViews. Topic:17. I was encouraged to use my initiative in the course of my work</th>\n",
       "      <th>WorkUnitViews. Topic:18. I had sufficient contact with other people in my job</th>\n",
       "      <th>WorkUnitViews. Topic:19. I was given adequate support and co-operation by my peers to enable me to do my job</th>\n",
       "      <th>WorkUnitViews. Topic:20. I was able to use the full range of my skills in my job</th>\n",
       "      <th>WorkUnitViews. Topic:21. I was able to use the full range of my abilities in my job. ; Category:Level of Agreement; Question:YOUR VIEWS ABOUT YOUR WORK UNIT]</th>\n",
       "      <th>WorkUnitViews. Topic:22. I was able to use the full range of my knowledge in my job</th>\n",
       "      <th>WorkUnitViews. Topic:23. My job provided sufficient variety</th>\n",
       "      <th>WorkUnitViews. Topic:24. I was able to cope with the level of stress and pressure in my job</th>\n",
       "      <th>WorkUnitViews. Topic:25. My job allowed me to balance the demands of work and family to my satisfaction</th>\n",
       "      <th>WorkUnitViews. Topic:26. My supervisor gave me adequate personal recognition and feedback on my performance</th>\n",
       "      <th>WorkUnitViews. Topic:27. My working environment was satisfactory e.g. sufficient space, good lighting, suitable seating and working area</th>\n",
       "      <th>WorkUnitViews. Topic:28. I was given the opportunity to mentor and coach others in order for me to pass on my skills and knowledge prior to my cessation date</th>\n",
       "      <th>WorkUnitViews. Topic:29. There was adequate communication between staff in my unit</th>\n",
       "      <th>WorkUnitViews. Topic:30. Staff morale was positive within my work unit</th>\n",
       "      <th>Induction. Did you undertake Workplace Induction?</th>\n",
       "      <th>InductionInfo. Topic:Did you undertake a Corporate Induction?</th>\n",
       "      <th>InductionInfo. Topic:Did you undertake a Institute Induction?</th>\n",
       "      <th>InductionInfo. Topic: Did you undertake Team Induction?</th>\n",
       "      <th>InductionInfo. Face to Face Topic:Did you undertake a Corporate Induction; Category:How it was conducted?</th>\n",
       "      <th>InductionInfo. On-line Topic:Did you undertake a Corporate Induction; Category:How it was conducted?</th>\n",
       "      <th>InductionInfo. Induction Manual Topic:Did you undertake a Corporate Induction?</th>\n",
       "      <th>InductionInfo. Face to Face Topic:Did you undertake a Institute Induction?</th>\n",
       "      <th>InductionInfo. On-line Topic:Did you undertake a Institute Induction?</th>\n",
       "      <th>InductionInfo. Induction Manual Topic:Did you undertake a Institute Induction?</th>\n",
       "      <th>InductionInfo. Face to Face Topic: Did you undertake Team Induction; Category?</th>\n",
       "      <th>InductionInfo. On-line Topic: Did you undertake Team Induction?process you undertook and how it was conducted.]</th>\n",
       "      <th>InductionInfo. Induction Manual Topic: Did you undertake Team Induction?</th>\n",
       "      <th>Workplace. Topic:Did you and your Manager develop a Performance and Professional Development Plan (PPDP)?</th>\n",
       "      <th>Workplace. Topic:Does your workplace promote a work culture free from all forms of unlawful discrimination?</th>\n",
       "      <th>Workplace. Topic:Does your workplace promote and practice the principles of employment equity?</th>\n",
       "      <th>Workplace. Topic:Does your workplace value the diversity of its employees?</th>\n",
       "      <th>Workplace. Topic:Would you recommend the Institute as an employer to others?</th>\n",
       "      <th>Gender. What is your Gender?</th>\n",
       "      <th>CurrentAge. Current Age</th>\n",
       "      <th>Employment Type. Employment Type</th>\n",
       "      <th>Classification. Classification</th>\n",
       "      <th>LengthofServiceOverall. Overall Length of Service at Institute (in years)</th>\n",
       "      <th>LengthofServiceCurrent. Length of Service at current workplace (in years)</th>\n",
       "    </tr>\n",
       "  </thead>\n",
       "  <tbody>\n",
       "    <tr>\n",
       "      <th>0</th>\n",
       "      <td>6.341330e+17</td>\n",
       "      <td>Southern Queensland Institute of TAFE</td>\n",
       "      <td>Non-Delivery (corporate)</td>\n",
       "      <td>2010.0</td>\n",
       "      <td>Contract Expired</td>\n",
       "      <td>NaN</td>\n",
       "      <td>NaN</td>\n",
       "      <td>NaN</td>\n",
       "      <td>NaN</td>\n",
       "      <td>NaN</td>\n",
       "      <td>NaN</td>\n",
       "      <td>NaN</td>\n",
       "      <td>NaN</td>\n",
       "      <td>NaN</td>\n",
       "      <td>NaN</td>\n",
       "      <td>NaN</td>\n",
       "      <td>NaN</td>\n",
       "      <td>NaN</td>\n",
       "      <td>Agree</td>\n",
       "      <td>Agree</td>\n",
       "      <td>Agree</td>\n",
       "      <td>Neutral</td>\n",
       "      <td>Agree</td>\n",
       "      <td>Agree</td>\n",
       "      <td>Agree</td>\n",
       "      <td>Agree</td>\n",
       "      <td>Agree</td>\n",
       "      <td>Agree</td>\n",
       "      <td>Agree</td>\n",
       "      <td>Agree</td>\n",
       "      <td>Agree</td>\n",
       "      <td>Agree</td>\n",
       "      <td>Agree</td>\n",
       "      <td>Agree</td>\n",
       "      <td>Strongly Agree</td>\n",
       "      <td>Agree</td>\n",
       "      <td>Agree</td>\n",
       "      <td>Agree</td>\n",
       "      <td>Agree</td>\n",
       "      <td>Agree</td>\n",
       "      <td>Agree</td>\n",
       "      <td>Agree</td>\n",
       "      <td>Agree</td>\n",
       "      <td>Agree</td>\n",
       "      <td>Agree</td>\n",
       "      <td>Neutral</td>\n",
       "      <td>Agree</td>\n",
       "      <td>Agree</td>\n",
       "      <td>Yes</td>\n",
       "      <td>Yes</td>\n",
       "      <td>Yes</td>\n",
       "      <td>Yes</td>\n",
       "      <td>Face to Face</td>\n",
       "      <td>-</td>\n",
       "      <td>-</td>\n",
       "      <td>Face to Face</td>\n",
       "      <td>-</td>\n",
       "      <td>-</td>\n",
       "      <td>Face to Face</td>\n",
       "      <td>-</td>\n",
       "      <td>-</td>\n",
       "      <td>Yes</td>\n",
       "      <td>Yes</td>\n",
       "      <td>Yes</td>\n",
       "      <td>Yes</td>\n",
       "      <td>Yes</td>\n",
       "      <td>Female</td>\n",
       "      <td>26  30</td>\n",
       "      <td>Temporary Full-time</td>\n",
       "      <td>Administration (AO)</td>\n",
       "      <td>1-2</td>\n",
       "      <td>1-2</td>\n",
       "    </tr>\n",
       "    <tr>\n",
       "      <th>1</th>\n",
       "      <td>6.341337e+17</td>\n",
       "      <td>Mount Isa Institute of TAFE</td>\n",
       "      <td>Non-Delivery (corporate)</td>\n",
       "      <td>2010.0</td>\n",
       "      <td>Retirement</td>\n",
       "      <td>-</td>\n",
       "      <td>-</td>\n",
       "      <td>-</td>\n",
       "      <td>-</td>\n",
       "      <td>-</td>\n",
       "      <td>-</td>\n",
       "      <td>-</td>\n",
       "      <td>-</td>\n",
       "      <td>-</td>\n",
       "      <td>Travel</td>\n",
       "      <td>-</td>\n",
       "      <td>-</td>\n",
       "      <td>NaN</td>\n",
       "      <td>Agree</td>\n",
       "      <td>Agree</td>\n",
       "      <td>Agree</td>\n",
       "      <td>Agree</td>\n",
       "      <td>Agree</td>\n",
       "      <td>Strongly Agree</td>\n",
       "      <td>Strongly Agree</td>\n",
       "      <td>Agree</td>\n",
       "      <td>Strongly Agree</td>\n",
       "      <td>Agree</td>\n",
       "      <td>Agree</td>\n",
       "      <td>Agree</td>\n",
       "      <td>Disagree</td>\n",
       "      <td>Strongly Agree</td>\n",
       "      <td>Strongly Agree</td>\n",
       "      <td>Strongly Agree</td>\n",
       "      <td>Agree</td>\n",
       "      <td>Agree</td>\n",
       "      <td>Agree</td>\n",
       "      <td>Strongly Agree</td>\n",
       "      <td>Agree</td>\n",
       "      <td>Agree</td>\n",
       "      <td>Agree</td>\n",
       "      <td>Strongly Agree</td>\n",
       "      <td>Agree</td>\n",
       "      <td>Strongly Agree</td>\n",
       "      <td>Strongly Agree</td>\n",
       "      <td>Agree</td>\n",
       "      <td>Agree</td>\n",
       "      <td>Strongly Agree</td>\n",
       "      <td>No</td>\n",
       "      <td>NaN</td>\n",
       "      <td>NaN</td>\n",
       "      <td>NaN</td>\n",
       "      <td>NaN</td>\n",
       "      <td>NaN</td>\n",
       "      <td>NaN</td>\n",
       "      <td>NaN</td>\n",
       "      <td>NaN</td>\n",
       "      <td>NaN</td>\n",
       "      <td>NaN</td>\n",
       "      <td>NaN</td>\n",
       "      <td>NaN</td>\n",
       "      <td>Yes</td>\n",
       "      <td>Yes</td>\n",
       "      <td>Yes</td>\n",
       "      <td>Yes</td>\n",
       "      <td>Yes</td>\n",
       "      <td>NaN</td>\n",
       "      <td>NaN</td>\n",
       "      <td>NaN</td>\n",
       "      <td>NaN</td>\n",
       "      <td>NaN</td>\n",
       "      <td>NaN</td>\n",
       "    </tr>\n",
       "    <tr>\n",
       "      <th>2</th>\n",
       "      <td>6.341388e+17</td>\n",
       "      <td>Mount Isa Institute of TAFE</td>\n",
       "      <td>Delivery (teaching)</td>\n",
       "      <td>2010.0</td>\n",
       "      <td>Retirement</td>\n",
       "      <td>-</td>\n",
       "      <td>-</td>\n",
       "      <td>-</td>\n",
       "      <td>-</td>\n",
       "      <td>-</td>\n",
       "      <td>-</td>\n",
       "      <td>-</td>\n",
       "      <td>-</td>\n",
       "      <td>-</td>\n",
       "      <td>-</td>\n",
       "      <td>-</td>\n",
       "      <td>NONE</td>\n",
       "      <td>NaN</td>\n",
       "      <td>Agree</td>\n",
       "      <td>Agree</td>\n",
       "      <td>Agree</td>\n",
       "      <td>Agree</td>\n",
       "      <td>Agree</td>\n",
       "      <td>Agree</td>\n",
       "      <td>Strongly Agree</td>\n",
       "      <td>Agree</td>\n",
       "      <td>Agree</td>\n",
       "      <td>Agree</td>\n",
       "      <td>Agree</td>\n",
       "      <td>Neutral</td>\n",
       "      <td>Neutral</td>\n",
       "      <td>Strongly Agree</td>\n",
       "      <td>Strongly Agree</td>\n",
       "      <td>Agree</td>\n",
       "      <td>Agree</td>\n",
       "      <td>Agree</td>\n",
       "      <td>Agree</td>\n",
       "      <td>Agree</td>\n",
       "      <td>Agree</td>\n",
       "      <td>Agree</td>\n",
       "      <td>Agree</td>\n",
       "      <td>Agree</td>\n",
       "      <td>Agree</td>\n",
       "      <td>Agree</td>\n",
       "      <td>Agree</td>\n",
       "      <td>Agree</td>\n",
       "      <td>Agree</td>\n",
       "      <td>Agree</td>\n",
       "      <td>No</td>\n",
       "      <td>NaN</td>\n",
       "      <td>NaN</td>\n",
       "      <td>NaN</td>\n",
       "      <td>NaN</td>\n",
       "      <td>NaN</td>\n",
       "      <td>NaN</td>\n",
       "      <td>NaN</td>\n",
       "      <td>NaN</td>\n",
       "      <td>NaN</td>\n",
       "      <td>NaN</td>\n",
       "      <td>NaN</td>\n",
       "      <td>NaN</td>\n",
       "      <td>Yes</td>\n",
       "      <td>Yes</td>\n",
       "      <td>Yes</td>\n",
       "      <td>Yes</td>\n",
       "      <td>Yes</td>\n",
       "      <td>NaN</td>\n",
       "      <td>NaN</td>\n",
       "      <td>NaN</td>\n",
       "      <td>NaN</td>\n",
       "      <td>NaN</td>\n",
       "      <td>NaN</td>\n",
       "    </tr>\n",
       "  </tbody>\n",
       "</table>\n",
       "</div>"
      ],
      "text/plain": [
       "      Record ID                              Institute  \\\n",
       "0  6.341330e+17  Southern Queensland Institute of TAFE   \n",
       "1  6.341337e+17            Mount Isa Institute of TAFE   \n",
       "2  6.341388e+17            Mount Isa Institute of TAFE   \n",
       "\n",
       "                   WorkArea  CESSATION YEAR Reason for ceasing employment  \\\n",
       "0  Non-Delivery (corporate)          2010.0              Contract Expired   \n",
       "1  Non-Delivery (corporate)          2010.0                    Retirement   \n",
       "2       Delivery (teaching)          2010.0                    Retirement   \n",
       "\n",
       "  Contributing Factors. Career Move - Public Sector   \\\n",
       "0                                                NaN   \n",
       "1                                                  -   \n",
       "2                                                  -   \n",
       "\n",
       "  Contributing Factors. Career Move - Private Sector   \\\n",
       "0                                                NaN    \n",
       "1                                                  -    \n",
       "2                                                  -    \n",
       "\n",
       "  Contributing Factors. Career Move - Self-employment  \\\n",
       "0                                                NaN    \n",
       "1                                                  -    \n",
       "2                                                  -    \n",
       "\n",
       "  Contributing Factors. Ill Health Contributing Factors. Maternity/Family  \\\n",
       "0                              NaN                                    NaN   \n",
       "1                                -                                      -   \n",
       "2                                -                                      -   \n",
       "\n",
       "  Contributing Factors. Dissatisfaction  \\\n",
       "0                                   NaN   \n",
       "1                                     -   \n",
       "2                                     -   \n",
       "\n",
       "  Contributing Factors. Job Dissatisfaction  \\\n",
       "0                                       NaN   \n",
       "1                                         -   \n",
       "2                                         -   \n",
       "\n",
       "  Contributing Factors. Interpersonal Conflict Contributing Factors. Study  \\\n",
       "0                                          NaN                         NaN   \n",
       "1                                            -                           -   \n",
       "2                                            -                           -   \n",
       "\n",
       "  Contributing Factors. Travel Contributing Factors. Other  \\\n",
       "0                          NaN                         NaN   \n",
       "1                       Travel                           -   \n",
       "2                            -                           -   \n",
       "\n",
       "  Contributing Factors. NONE  \\\n",
       "0                        NaN   \n",
       "1                          -   \n",
       "2                       NONE   \n",
       "\n",
       "  Main Factor. Which of these was the main factor for leaving?  \\\n",
       "0                                                NaN             \n",
       "1                                                NaN             \n",
       "2                                                NaN             \n",
       "\n",
       "  InstituteViews. Topic:1. I feel the senior leadership had a clear vision and direction  \\\n",
       "0                                              Agree                                       \n",
       "1                                              Agree                                       \n",
       "2                                              Agree                                       \n",
       "\n",
       "  InstituteViews. Topic:2. I was given access to skills training to help me do my job better  \\\n",
       "0                                              Agree                                           \n",
       "1                                              Agree                                           \n",
       "2                                              Agree                                           \n",
       "\n",
       "  InstituteViews. Topic:3. I was given adequate opportunities for personal development  \\\n",
       "0                                              Agree                                     \n",
       "1                                              Agree                                     \n",
       "2                                              Agree                                     \n",
       "\n",
       "  InstituteViews. Topic:4. I was given adequate opportunities for promotion within %Institute]Q25LBL%  \\\n",
       "0                                            Neutral                                                    \n",
       "1                                              Agree                                                    \n",
       "2                                              Agree                                                    \n",
       "\n",
       "  InstituteViews. Topic:5. I felt the salary for the job was right for the responsibilities I had  \\\n",
       "0                                              Agree                                                \n",
       "1                                              Agree                                                \n",
       "2                                              Agree                                                \n",
       "\n",
       "  InstituteViews. Topic:6. The organisation recognised when staff did good work  \\\n",
       "0                                              Agree                              \n",
       "1                                     Strongly Agree                              \n",
       "2                                              Agree                              \n",
       "\n",
       "  InstituteViews. Topic:7. Management was generally supportive of me  \\\n",
       "0                                              Agree                   \n",
       "1                                     Strongly Agree                   \n",
       "2                                     Strongly Agree                   \n",
       "\n",
       "  InstituteViews. Topic:8. Management was generally supportive of my team  \\\n",
       "0                                              Agree                        \n",
       "1                                              Agree                        \n",
       "2                                              Agree                        \n",
       "\n",
       "  InstituteViews. Topic:9. I was kept informed of the changes in the organisation which would affect me  \\\n",
       "0                                              Agree                                                      \n",
       "1                                     Strongly Agree                                                      \n",
       "2                                              Agree                                                      \n",
       "\n",
       "  InstituteViews. Topic:10. Staff morale was positive within the Institute  \\\n",
       "0                                              Agree                         \n",
       "1                                              Agree                         \n",
       "2                                              Agree                         \n",
       "\n",
       "  InstituteViews. Topic:11. If I had a workplace issue it was dealt with quickly  \\\n",
       "0                                              Agree                               \n",
       "1                                              Agree                               \n",
       "2                                              Agree                               \n",
       "\n",
       "  InstituteViews. Topic:12. If I had a workplace issue it was dealt with efficiently  \\\n",
       "0                                              Agree                                   \n",
       "1                                              Agree                                   \n",
       "2                                            Neutral                                   \n",
       "\n",
       "  InstituteViews. Topic:13. If I had a workplace issue it was dealt with discreetly  \\\n",
       "0                                              Agree                                  \n",
       "1                                           Disagree                                  \n",
       "2                                            Neutral                                  \n",
       "\n",
       "  WorkUnitViews. Topic:14. I was satisfied with the quality of the management and supervision within my work unit  \\\n",
       "0                                              Agree                                                                \n",
       "1                                     Strongly Agree                                                                \n",
       "2                                     Strongly Agree                                                                \n",
       "\n",
       "  WorkUnitViews. Topic:15. I worked well with my colleagues  \\\n",
       "0                                              Agree          \n",
       "1                                     Strongly Agree          \n",
       "2                                     Strongly Agree          \n",
       "\n",
       "  WorkUnitViews. Topic:16. My job was challenging and interesting  \\\n",
       "0                                              Agree                \n",
       "1                                     Strongly Agree                \n",
       "2                                              Agree                \n",
       "\n",
       "  WorkUnitViews. Topic:17. I was encouraged to use my initiative in the course of my work  \\\n",
       "0                                     Strongly Agree                                        \n",
       "1                                              Agree                                        \n",
       "2                                              Agree                                        \n",
       "\n",
       "  WorkUnitViews. Topic:18. I had sufficient contact with other people in my job  \\\n",
       "0                                              Agree                              \n",
       "1                                              Agree                              \n",
       "2                                              Agree                              \n",
       "\n",
       "  WorkUnitViews. Topic:19. I was given adequate support and co-operation by my peers to enable me to do my job  \\\n",
       "0                                              Agree                                                             \n",
       "1                                              Agree                                                             \n",
       "2                                              Agree                                                             \n",
       "\n",
       "  WorkUnitViews. Topic:20. I was able to use the full range of my skills in my job  \\\n",
       "0                                              Agree                                 \n",
       "1                                     Strongly Agree                                 \n",
       "2                                              Agree                                 \n",
       "\n",
       "  WorkUnitViews. Topic:21. I was able to use the full range of my abilities in my job. ; Category:Level of Agreement; Question:YOUR VIEWS ABOUT YOUR WORK UNIT]  \\\n",
       "0                                              Agree                                                                                                              \n",
       "1                                              Agree                                                                                                              \n",
       "2                                              Agree                                                                                                              \n",
       "\n",
       "  WorkUnitViews. Topic:22. I was able to use the full range of my knowledge in my job  \\\n",
       "0                                              Agree                                    \n",
       "1                                              Agree                                    \n",
       "2                                              Agree                                    \n",
       "\n",
       "  WorkUnitViews. Topic:23. My job provided sufficient variety  \\\n",
       "0                                              Agree            \n",
       "1                                              Agree            \n",
       "2                                              Agree            \n",
       "\n",
       "  WorkUnitViews. Topic:24. I was able to cope with the level of stress and pressure in my job  \\\n",
       "0                                              Agree                                            \n",
       "1                                     Strongly Agree                                            \n",
       "2                                              Agree                                            \n",
       "\n",
       "  WorkUnitViews. Topic:25. My job allowed me to balance the demands of work and family to my satisfaction  \\\n",
       "0                                              Agree                                                        \n",
       "1                                              Agree                                                        \n",
       "2                                              Agree                                                        \n",
       "\n",
       "  WorkUnitViews. Topic:26. My supervisor gave me adequate personal recognition and feedback on my performance  \\\n",
       "0                                              Agree                                                            \n",
       "1                                     Strongly Agree                                                            \n",
       "2                                              Agree                                                            \n",
       "\n",
       "  WorkUnitViews. Topic:27. My working environment was satisfactory e.g. sufficient space, good lighting, suitable seating and working area  \\\n",
       "0                                              Agree                                                                                         \n",
       "1                                     Strongly Agree                                                                                         \n",
       "2                                              Agree                                                                                         \n",
       "\n",
       "  WorkUnitViews. Topic:28. I was given the opportunity to mentor and coach others in order for me to pass on my skills and knowledge prior to my cessation date  \\\n",
       "0                                            Neutral                                                                                                              \n",
       "1                                              Agree                                                                                                              \n",
       "2                                              Agree                                                                                                              \n",
       "\n",
       "  WorkUnitViews. Topic:29. There was adequate communication between staff in my unit  \\\n",
       "0                                              Agree                                   \n",
       "1                                              Agree                                   \n",
       "2                                              Agree                                   \n",
       "\n",
       "  WorkUnitViews. Topic:30. Staff morale was positive within my work unit  \\\n",
       "0                                              Agree                       \n",
       "1                                     Strongly Agree                       \n",
       "2                                              Agree                       \n",
       "\n",
       "  Induction. Did you undertake Workplace Induction?  \\\n",
       "0                                               Yes   \n",
       "1                                                No   \n",
       "2                                                No   \n",
       "\n",
       "  InductionInfo. Topic:Did you undertake a Corporate Induction?  \\\n",
       "0                                                Yes              \n",
       "1                                                NaN              \n",
       "2                                                NaN              \n",
       "\n",
       "  InductionInfo. Topic:Did you undertake a Institute Induction?  \\\n",
       "0                                                Yes              \n",
       "1                                                NaN              \n",
       "2                                                NaN              \n",
       "\n",
       "  InductionInfo. Topic: Did you undertake Team Induction?  \\\n",
       "0                                                Yes        \n",
       "1                                                NaN        \n",
       "2                                                NaN        \n",
       "\n",
       "  InductionInfo. Face to Face Topic:Did you undertake a Corporate Induction; Category:How it was conducted?  \\\n",
       "0                                       Face to Face                                                          \n",
       "1                                                NaN                                                          \n",
       "2                                                NaN                                                          \n",
       "\n",
       "  InductionInfo. On-line Topic:Did you undertake a Corporate Induction; Category:How it was conducted?  \\\n",
       "0                                                  -                                                     \n",
       "1                                                NaN                                                     \n",
       "2                                                NaN                                                     \n",
       "\n",
       "  InductionInfo. Induction Manual Topic:Did you undertake a Corporate Induction?  \\\n",
       "0                                                  -                               \n",
       "1                                                NaN                               \n",
       "2                                                NaN                               \n",
       "\n",
       "  InductionInfo. Face to Face Topic:Did you undertake a Institute Induction?  \\\n",
       "0                                       Face to Face                           \n",
       "1                                                NaN                           \n",
       "2                                                NaN                           \n",
       "\n",
       "  InductionInfo. On-line Topic:Did you undertake a Institute Induction?  \\\n",
       "0                                                  -                      \n",
       "1                                                NaN                      \n",
       "2                                                NaN                      \n",
       "\n",
       "  InductionInfo. Induction Manual Topic:Did you undertake a Institute Induction?  \\\n",
       "0                                                  -                               \n",
       "1                                                NaN                               \n",
       "2                                                NaN                               \n",
       "\n",
       "  InductionInfo. Face to Face Topic: Did you undertake Team Induction; Category?  \\\n",
       "0                                       Face to Face                               \n",
       "1                                                NaN                               \n",
       "2                                                NaN                               \n",
       "\n",
       "  InductionInfo. On-line Topic: Did you undertake Team Induction?process you undertook and how it was conducted.]  \\\n",
       "0                                                  -                                                                \n",
       "1                                                NaN                                                                \n",
       "2                                                NaN                                                                \n",
       "\n",
       "  InductionInfo. Induction Manual Topic: Did you undertake Team Induction?  \\\n",
       "0                                                  -                         \n",
       "1                                                NaN                         \n",
       "2                                                NaN                         \n",
       "\n",
       "  Workplace. Topic:Did you and your Manager develop a Performance and Professional Development Plan (PPDP)?  \\\n",
       "0                                                Yes                                                          \n",
       "1                                                Yes                                                          \n",
       "2                                                Yes                                                          \n",
       "\n",
       "  Workplace. Topic:Does your workplace promote a work culture free from all forms of unlawful discrimination?  \\\n",
       "0                                                Yes                                                            \n",
       "1                                                Yes                                                            \n",
       "2                                                Yes                                                            \n",
       "\n",
       "  Workplace. Topic:Does your workplace promote and practice the principles of employment equity?  \\\n",
       "0                                                Yes                                               \n",
       "1                                                Yes                                               \n",
       "2                                                Yes                                               \n",
       "\n",
       "  Workplace. Topic:Does your workplace value the diversity of its employees?  \\\n",
       "0                                                Yes                           \n",
       "1                                                Yes                           \n",
       "2                                                Yes                           \n",
       "\n",
       "  Workplace. Topic:Would you recommend the Institute as an employer to others?  \\\n",
       "0                                                Yes                             \n",
       "1                                                Yes                             \n",
       "2                                                Yes                             \n",
       "\n",
       "  Gender. What is your Gender? CurrentAge. Current Age  \\\n",
       "0                       Female                  26  30   \n",
       "1                          NaN                     NaN   \n",
       "2                          NaN                     NaN   \n",
       "\n",
       "  Employment Type. Employment Type Classification. Classification  \\\n",
       "0              Temporary Full-time            Administration (AO)   \n",
       "1                              NaN                            NaN   \n",
       "2                              NaN                            NaN   \n",
       "\n",
       "  LengthofServiceOverall. Overall Length of Service at Institute (in years)  \\\n",
       "0                                                1-2                          \n",
       "1                                                NaN                          \n",
       "2                                                NaN                          \n",
       "\n",
       "  LengthofServiceCurrent. Length of Service at current workplace (in years)  \n",
       "0                                                1-2                         \n",
       "1                                                NaN                         \n",
       "2                                                NaN                         "
      ]
     },
     "execution_count": 4,
     "metadata": {},
     "output_type": "execute_result"
    }
   ],
   "source": [
    "tafe_survey.head(3)"
   ]
  },
  {
   "cell_type": "code",
   "execution_count": 5,
   "metadata": {},
   "outputs": [
    {
     "name": "stdout",
     "output_type": "stream",
     "text": [
      "Number of rows and columns in dete_survey dataset: (822, 56)\n",
      "\n",
      "Number of rows and columns in tafe_survey dataset: (702, 72)\n"
     ]
    }
   ],
   "source": [
    "# Number of rows and columns in each df\n",
    "print(f\"Number of rows and columns in dete_survey dataset: {dete_survey.shape}\")\n",
    "print(f\"\\nNumber of rows and columns in tafe_survey dataset: {tafe_survey.shape}\")"
   ]
  },
  {
   "cell_type": "code",
   "execution_count": 6,
   "metadata": {},
   "outputs": [
    {
     "name": "stdout",
     "output_type": "stream",
     "text": [
      "Number of string columns in the dete_survey df: 35\n",
      "\n",
      "Number of columns with numerical and boolean values in the dete_survey df: 21\n"
     ]
    }
   ],
   "source": [
    "# Identity dtypes of each columns, and identify numerical and categorical columns\n",
    "\n",
    "print(f\"Number of string columns in the dete_survey df: {len(dete_survey.select_dtypes(include='O').columns)}\")\n",
    "print(f\"\\nNumber of columns with numerical and boolean values in the dete_survey df: {len(dete_survey.select_dtypes(exclude='O').columns)}\")"
   ]
  },
  {
   "cell_type": "code",
   "execution_count": 7,
   "metadata": {},
   "outputs": [
    {
     "name": "stdout",
     "output_type": "stream",
     "text": [
      "Number of string columns in the tafe_survey df: 70\n",
      "\n",
      "Number of numerical columns in the tafe_survey df: 2\n"
     ]
    }
   ],
   "source": [
    "# Identity dtypes of each columns, and identify numerical and categorical columns\n",
    "\n",
    "print(f\"Number of string columns in the tafe_survey df: {len(tafe_survey.select_dtypes(include='O').columns)}\")\n",
    "print(f\"\\nNumber of numerical columns in the tafe_survey df: {len(tafe_survey.select_dtypes(exclude='O').columns)}\")"
   ]
  },
  {
   "cell_type": "code",
   "execution_count": 8,
   "metadata": {},
   "outputs": [
    {
     "data": {
      "text/html": [
       "<div>\n",
       "<style scoped>\n",
       "    .dataframe tbody tr th:only-of-type {\n",
       "        vertical-align: middle;\n",
       "    }\n",
       "\n",
       "    .dataframe tbody tr th {\n",
       "        vertical-align: top;\n",
       "    }\n",
       "\n",
       "    .dataframe thead th {\n",
       "        text-align: right;\n",
       "    }\n",
       "</style>\n",
       "<table border=\"1\" class=\"dataframe\">\n",
       "  <thead>\n",
       "    <tr style=\"text-align: right;\">\n",
       "      <th></th>\n",
       "      <th>SeparationType</th>\n",
       "      <th>Cease Date</th>\n",
       "      <th>Position</th>\n",
       "      <th>Classification</th>\n",
       "      <th>Region</th>\n",
       "      <th>Business Unit</th>\n",
       "      <th>Employment Status</th>\n",
       "      <th>Professional Development</th>\n",
       "      <th>Opportunities for promotion</th>\n",
       "      <th>Staff morale</th>\n",
       "      <th>Workplace issue</th>\n",
       "      <th>Physical environment</th>\n",
       "      <th>Worklife balance</th>\n",
       "      <th>Stress and pressure support</th>\n",
       "      <th>Performance of supervisor</th>\n",
       "      <th>Peer support</th>\n",
       "      <th>Initiative</th>\n",
       "      <th>Skills</th>\n",
       "      <th>Coach</th>\n",
       "      <th>Career Aspirations</th>\n",
       "      <th>Feedback</th>\n",
       "      <th>Further PD</th>\n",
       "      <th>Communication</th>\n",
       "      <th>My say</th>\n",
       "      <th>Information</th>\n",
       "      <th>Kept informed</th>\n",
       "      <th>Wellness programs</th>\n",
       "      <th>Health &amp; Safety</th>\n",
       "      <th>Gender</th>\n",
       "      <th>Age</th>\n",
       "      <th>Aboriginal</th>\n",
       "      <th>Torres Strait</th>\n",
       "      <th>South Sea</th>\n",
       "      <th>Disability</th>\n",
       "      <th>NESB</th>\n",
       "    </tr>\n",
       "  </thead>\n",
       "  <tbody>\n",
       "    <tr>\n",
       "      <th>count</th>\n",
       "      <td>822</td>\n",
       "      <td>788</td>\n",
       "      <td>817</td>\n",
       "      <td>455</td>\n",
       "      <td>717</td>\n",
       "      <td>126</td>\n",
       "      <td>817</td>\n",
       "      <td>808</td>\n",
       "      <td>735</td>\n",
       "      <td>816</td>\n",
       "      <td>788</td>\n",
       "      <td>817</td>\n",
       "      <td>815</td>\n",
       "      <td>810</td>\n",
       "      <td>813</td>\n",
       "      <td>812</td>\n",
       "      <td>813</td>\n",
       "      <td>811</td>\n",
       "      <td>767</td>\n",
       "      <td>746</td>\n",
       "      <td>792</td>\n",
       "      <td>768</td>\n",
       "      <td>814</td>\n",
       "      <td>812</td>\n",
       "      <td>816</td>\n",
       "      <td>813</td>\n",
       "      <td>766</td>\n",
       "      <td>793</td>\n",
       "      <td>798</td>\n",
       "      <td>811</td>\n",
       "      <td>16</td>\n",
       "      <td>3</td>\n",
       "      <td>7</td>\n",
       "      <td>23</td>\n",
       "      <td>32</td>\n",
       "    </tr>\n",
       "    <tr>\n",
       "      <th>unique</th>\n",
       "      <td>9</td>\n",
       "      <td>24</td>\n",
       "      <td>15</td>\n",
       "      <td>8</td>\n",
       "      <td>8</td>\n",
       "      <td>14</td>\n",
       "      <td>5</td>\n",
       "      <td>6</td>\n",
       "      <td>6</td>\n",
       "      <td>6</td>\n",
       "      <td>6</td>\n",
       "      <td>6</td>\n",
       "      <td>6</td>\n",
       "      <td>6</td>\n",
       "      <td>6</td>\n",
       "      <td>6</td>\n",
       "      <td>6</td>\n",
       "      <td>6</td>\n",
       "      <td>6</td>\n",
       "      <td>6</td>\n",
       "      <td>6</td>\n",
       "      <td>6</td>\n",
       "      <td>6</td>\n",
       "      <td>6</td>\n",
       "      <td>6</td>\n",
       "      <td>6</td>\n",
       "      <td>6</td>\n",
       "      <td>6</td>\n",
       "      <td>2</td>\n",
       "      <td>10</td>\n",
       "      <td>1</td>\n",
       "      <td>1</td>\n",
       "      <td>1</td>\n",
       "      <td>1</td>\n",
       "      <td>1</td>\n",
       "    </tr>\n",
       "    <tr>\n",
       "      <th>top</th>\n",
       "      <td>Age Retirement</td>\n",
       "      <td>2012</td>\n",
       "      <td>Teacher</td>\n",
       "      <td>Primary</td>\n",
       "      <td>Metropolitan</td>\n",
       "      <td>Education Queensland</td>\n",
       "      <td>Permanent Full-time</td>\n",
       "      <td>A</td>\n",
       "      <td>A</td>\n",
       "      <td>A</td>\n",
       "      <td>A</td>\n",
       "      <td>A</td>\n",
       "      <td>A</td>\n",
       "      <td>A</td>\n",
       "      <td>A</td>\n",
       "      <td>A</td>\n",
       "      <td>A</td>\n",
       "      <td>A</td>\n",
       "      <td>A</td>\n",
       "      <td>A</td>\n",
       "      <td>A</td>\n",
       "      <td>A</td>\n",
       "      <td>A</td>\n",
       "      <td>A</td>\n",
       "      <td>A</td>\n",
       "      <td>A</td>\n",
       "      <td>A</td>\n",
       "      <td>A</td>\n",
       "      <td>Female</td>\n",
       "      <td>61 or older</td>\n",
       "      <td>Yes</td>\n",
       "      <td>Yes</td>\n",
       "      <td>Yes</td>\n",
       "      <td>Yes</td>\n",
       "      <td>Yes</td>\n",
       "    </tr>\n",
       "    <tr>\n",
       "      <th>freq</th>\n",
       "      <td>285</td>\n",
       "      <td>344</td>\n",
       "      <td>324</td>\n",
       "      <td>161</td>\n",
       "      <td>135</td>\n",
       "      <td>54</td>\n",
       "      <td>434</td>\n",
       "      <td>413</td>\n",
       "      <td>242</td>\n",
       "      <td>335</td>\n",
       "      <td>357</td>\n",
       "      <td>467</td>\n",
       "      <td>359</td>\n",
       "      <td>342</td>\n",
       "      <td>349</td>\n",
       "      <td>401</td>\n",
       "      <td>396</td>\n",
       "      <td>372</td>\n",
       "      <td>345</td>\n",
       "      <td>246</td>\n",
       "      <td>348</td>\n",
       "      <td>293</td>\n",
       "      <td>399</td>\n",
       "      <td>400</td>\n",
       "      <td>436</td>\n",
       "      <td>401</td>\n",
       "      <td>253</td>\n",
       "      <td>386</td>\n",
       "      <td>573</td>\n",
       "      <td>222</td>\n",
       "      <td>16</td>\n",
       "      <td>3</td>\n",
       "      <td>7</td>\n",
       "      <td>23</td>\n",
       "      <td>32</td>\n",
       "    </tr>\n",
       "  </tbody>\n",
       "</table>\n",
       "</div>"
      ],
      "text/plain": [
       "        SeparationType Cease Date Position Classification        Region  \\\n",
       "count              822        788      817            455           717   \n",
       "unique               9         24       15              8             8   \n",
       "top     Age Retirement       2012  Teacher        Primary  Metropolitan   \n",
       "freq               285        344      324            161           135   \n",
       "\n",
       "               Business Unit    Employment Status Professional Development  \\\n",
       "count                    126                  817                      808   \n",
       "unique                    14                    5                        6   \n",
       "top     Education Queensland  Permanent Full-time                        A   \n",
       "freq                      54                  434                      413   \n",
       "\n",
       "       Opportunities for promotion Staff morale Workplace issue  \\\n",
       "count                          735          816             788   \n",
       "unique                           6            6               6   \n",
       "top                              A            A               A   \n",
       "freq                           242          335             357   \n",
       "\n",
       "       Physical environment Worklife balance Stress and pressure support  \\\n",
       "count                   817              815                         810   \n",
       "unique                    6                6                           6   \n",
       "top                       A                A                           A   \n",
       "freq                    467              359                         342   \n",
       "\n",
       "       Performance of supervisor Peer support Initiative Skills Coach  \\\n",
       "count                        813          812        813    811   767   \n",
       "unique                         6            6          6      6     6   \n",
       "top                            A            A          A      A     A   \n",
       "freq                         349          401        396    372   345   \n",
       "\n",
       "       Career Aspirations Feedback Further PD Communication My say  \\\n",
       "count                 746      792        768           814    812   \n",
       "unique                  6        6          6             6      6   \n",
       "top                     A        A          A             A      A   \n",
       "freq                  246      348        293           399    400   \n",
       "\n",
       "       Information Kept informed Wellness programs Health & Safety  Gender  \\\n",
       "count          816           813               766             793     798   \n",
       "unique           6             6                 6               6       2   \n",
       "top              A             A                 A               A  Female   \n",
       "freq           436           401               253             386     573   \n",
       "\n",
       "                Age Aboriginal Torres Strait South Sea Disability NESB  \n",
       "count           811         16             3         7         23   32  \n",
       "unique           10          1             1         1          1    1  \n",
       "top     61 or older        Yes           Yes       Yes        Yes  Yes  \n",
       "freq            222         16             3         7         23   32  "
      ]
     },
     "execution_count": 8,
     "metadata": {},
     "output_type": "execute_result"
    }
   ],
   "source": [
    "dete_survey.select_dtypes(include=object).describe()"
   ]
  },
  {
   "cell_type": "markdown",
   "metadata": {},
   "source": [
    "### Insights:\n",
    "Just by looking at the descriptive statistics for the categorical values in the dete_survey dataset, it's clear that:\n",
    "* Majority of survey participants were teachers in a permanent full time position\n",
    "* And most of them left employment due to age retirement "
   ]
  },
  {
   "cell_type": "code",
   "execution_count": 9,
   "metadata": {},
   "outputs": [
    {
     "data": {
      "text/html": [
       "<div>\n",
       "<style scoped>\n",
       "    .dataframe tbody tr th:only-of-type {\n",
       "        vertical-align: middle;\n",
       "    }\n",
       "\n",
       "    .dataframe tbody tr th {\n",
       "        vertical-align: top;\n",
       "    }\n",
       "\n",
       "    .dataframe thead th {\n",
       "        text-align: right;\n",
       "    }\n",
       "</style>\n",
       "<table border=\"1\" class=\"dataframe\">\n",
       "  <thead>\n",
       "    <tr style=\"text-align: right;\">\n",
       "      <th></th>\n",
       "      <th>Institute</th>\n",
       "      <th>WorkArea</th>\n",
       "      <th>Reason for ceasing employment</th>\n",
       "      <th>Contributing Factors. Career Move - Public Sector</th>\n",
       "      <th>Contributing Factors. Career Move - Private Sector</th>\n",
       "      <th>Contributing Factors. Career Move - Self-employment</th>\n",
       "      <th>Contributing Factors. Ill Health</th>\n",
       "      <th>Contributing Factors. Maternity/Family</th>\n",
       "      <th>Contributing Factors. Dissatisfaction</th>\n",
       "      <th>Contributing Factors. Job Dissatisfaction</th>\n",
       "      <th>Contributing Factors. Interpersonal Conflict</th>\n",
       "      <th>Contributing Factors. Study</th>\n",
       "      <th>Contributing Factors. Travel</th>\n",
       "      <th>Contributing Factors. Other</th>\n",
       "      <th>Contributing Factors. NONE</th>\n",
       "      <th>Main Factor. Which of these was the main factor for leaving?</th>\n",
       "      <th>InstituteViews. Topic:1. I feel the senior leadership had a clear vision and direction</th>\n",
       "      <th>InstituteViews. Topic:2. I was given access to skills training to help me do my job better</th>\n",
       "      <th>InstituteViews. Topic:3. I was given adequate opportunities for personal development</th>\n",
       "      <th>InstituteViews. Topic:4. I was given adequate opportunities for promotion within %Institute]Q25LBL%</th>\n",
       "      <th>InstituteViews. Topic:5. I felt the salary for the job was right for the responsibilities I had</th>\n",
       "      <th>InstituteViews. Topic:6. The organisation recognised when staff did good work</th>\n",
       "      <th>InstituteViews. Topic:7. Management was generally supportive of me</th>\n",
       "      <th>InstituteViews. Topic:8. Management was generally supportive of my team</th>\n",
       "      <th>InstituteViews. Topic:9. I was kept informed of the changes in the organisation which would affect me</th>\n",
       "      <th>InstituteViews. Topic:10. Staff morale was positive within the Institute</th>\n",
       "      <th>InstituteViews. Topic:11. If I had a workplace issue it was dealt with quickly</th>\n",
       "      <th>InstituteViews. Topic:12. If I had a workplace issue it was dealt with efficiently</th>\n",
       "      <th>InstituteViews. Topic:13. If I had a workplace issue it was dealt with discreetly</th>\n",
       "      <th>WorkUnitViews. Topic:14. I was satisfied with the quality of the management and supervision within my work unit</th>\n",
       "      <th>WorkUnitViews. Topic:15. I worked well with my colleagues</th>\n",
       "      <th>WorkUnitViews. Topic:16. My job was challenging and interesting</th>\n",
       "      <th>WorkUnitViews. Topic:17. I was encouraged to use my initiative in the course of my work</th>\n",
       "      <th>WorkUnitViews. Topic:18. I had sufficient contact with other people in my job</th>\n",
       "      <th>WorkUnitViews. Topic:19. I was given adequate support and co-operation by my peers to enable me to do my job</th>\n",
       "      <th>WorkUnitViews. Topic:20. I was able to use the full range of my skills in my job</th>\n",
       "      <th>WorkUnitViews. Topic:21. I was able to use the full range of my abilities in my job. ; Category:Level of Agreement; Question:YOUR VIEWS ABOUT YOUR WORK UNIT]</th>\n",
       "      <th>WorkUnitViews. Topic:22. I was able to use the full range of my knowledge in my job</th>\n",
       "      <th>WorkUnitViews. Topic:23. My job provided sufficient variety</th>\n",
       "      <th>WorkUnitViews. Topic:24. I was able to cope with the level of stress and pressure in my job</th>\n",
       "      <th>WorkUnitViews. Topic:25. My job allowed me to balance the demands of work and family to my satisfaction</th>\n",
       "      <th>WorkUnitViews. Topic:26. My supervisor gave me adequate personal recognition and feedback on my performance</th>\n",
       "      <th>WorkUnitViews. Topic:27. My working environment was satisfactory e.g. sufficient space, good lighting, suitable seating and working area</th>\n",
       "      <th>WorkUnitViews. Topic:28. I was given the opportunity to mentor and coach others in order for me to pass on my skills and knowledge prior to my cessation date</th>\n",
       "      <th>WorkUnitViews. Topic:29. There was adequate communication between staff in my unit</th>\n",
       "      <th>WorkUnitViews. Topic:30. Staff morale was positive within my work unit</th>\n",
       "      <th>Induction. Did you undertake Workplace Induction?</th>\n",
       "      <th>InductionInfo. Topic:Did you undertake a Corporate Induction?</th>\n",
       "      <th>InductionInfo. Topic:Did you undertake a Institute Induction?</th>\n",
       "      <th>InductionInfo. Topic: Did you undertake Team Induction?</th>\n",
       "      <th>InductionInfo. Face to Face Topic:Did you undertake a Corporate Induction; Category:How it was conducted?</th>\n",
       "      <th>InductionInfo. On-line Topic:Did you undertake a Corporate Induction; Category:How it was conducted?</th>\n",
       "      <th>InductionInfo. Induction Manual Topic:Did you undertake a Corporate Induction?</th>\n",
       "      <th>InductionInfo. Face to Face Topic:Did you undertake a Institute Induction?</th>\n",
       "      <th>InductionInfo. On-line Topic:Did you undertake a Institute Induction?</th>\n",
       "      <th>InductionInfo. Induction Manual Topic:Did you undertake a Institute Induction?</th>\n",
       "      <th>InductionInfo. Face to Face Topic: Did you undertake Team Induction; Category?</th>\n",
       "      <th>InductionInfo. On-line Topic: Did you undertake Team Induction?process you undertook and how it was conducted.]</th>\n",
       "      <th>InductionInfo. Induction Manual Topic: Did you undertake Team Induction?</th>\n",
       "      <th>Workplace. Topic:Did you and your Manager develop a Performance and Professional Development Plan (PPDP)?</th>\n",
       "      <th>Workplace. Topic:Does your workplace promote a work culture free from all forms of unlawful discrimination?</th>\n",
       "      <th>Workplace. Topic:Does your workplace promote and practice the principles of employment equity?</th>\n",
       "      <th>Workplace. Topic:Does your workplace value the diversity of its employees?</th>\n",
       "      <th>Workplace. Topic:Would you recommend the Institute as an employer to others?</th>\n",
       "      <th>Gender. What is your Gender?</th>\n",
       "      <th>CurrentAge. Current Age</th>\n",
       "      <th>Employment Type. Employment Type</th>\n",
       "      <th>Classification. Classification</th>\n",
       "      <th>LengthofServiceOverall. Overall Length of Service at Institute (in years)</th>\n",
       "      <th>LengthofServiceCurrent. Length of Service at current workplace (in years)</th>\n",
       "    </tr>\n",
       "  </thead>\n",
       "  <tbody>\n",
       "    <tr>\n",
       "      <th>count</th>\n",
       "      <td>702</td>\n",
       "      <td>702</td>\n",
       "      <td>701</td>\n",
       "      <td>437</td>\n",
       "      <td>437</td>\n",
       "      <td>437</td>\n",
       "      <td>437</td>\n",
       "      <td>437</td>\n",
       "      <td>437</td>\n",
       "      <td>437</td>\n",
       "      <td>437</td>\n",
       "      <td>437</td>\n",
       "      <td>437</td>\n",
       "      <td>437</td>\n",
       "      <td>437</td>\n",
       "      <td>113</td>\n",
       "      <td>608</td>\n",
       "      <td>613</td>\n",
       "      <td>610</td>\n",
       "      <td>608</td>\n",
       "      <td>615</td>\n",
       "      <td>607</td>\n",
       "      <td>614</td>\n",
       "      <td>608</td>\n",
       "      <td>610</td>\n",
       "      <td>602</td>\n",
       "      <td>601</td>\n",
       "      <td>597</td>\n",
       "      <td>601</td>\n",
       "      <td>609</td>\n",
       "      <td>605</td>\n",
       "      <td>607</td>\n",
       "      <td>610</td>\n",
       "      <td>613</td>\n",
       "      <td>609</td>\n",
       "      <td>609</td>\n",
       "      <td>608</td>\n",
       "      <td>608</td>\n",
       "      <td>611</td>\n",
       "      <td>610</td>\n",
       "      <td>611</td>\n",
       "      <td>606</td>\n",
       "      <td>610</td>\n",
       "      <td>609</td>\n",
       "      <td>603</td>\n",
       "      <td>606</td>\n",
       "      <td>619</td>\n",
       "      <td>432</td>\n",
       "      <td>483</td>\n",
       "      <td>440</td>\n",
       "      <td>555</td>\n",
       "      <td>555</td>\n",
       "      <td>555</td>\n",
       "      <td>530</td>\n",
       "      <td>555</td>\n",
       "      <td>553</td>\n",
       "      <td>555</td>\n",
       "      <td>555</td>\n",
       "      <td>555</td>\n",
       "      <td>608</td>\n",
       "      <td>594</td>\n",
       "      <td>587</td>\n",
       "      <td>586</td>\n",
       "      <td>581</td>\n",
       "      <td>596</td>\n",
       "      <td>596</td>\n",
       "      <td>596</td>\n",
       "      <td>596</td>\n",
       "      <td>596</td>\n",
       "      <td>596</td>\n",
       "    </tr>\n",
       "    <tr>\n",
       "      <th>unique</th>\n",
       "      <td>12</td>\n",
       "      <td>2</td>\n",
       "      <td>6</td>\n",
       "      <td>2</td>\n",
       "      <td>2</td>\n",
       "      <td>2</td>\n",
       "      <td>2</td>\n",
       "      <td>2</td>\n",
       "      <td>2</td>\n",
       "      <td>2</td>\n",
       "      <td>2</td>\n",
       "      <td>2</td>\n",
       "      <td>2</td>\n",
       "      <td>2</td>\n",
       "      <td>2</td>\n",
       "      <td>11</td>\n",
       "      <td>6</td>\n",
       "      <td>6</td>\n",
       "      <td>6</td>\n",
       "      <td>6</td>\n",
       "      <td>6</td>\n",
       "      <td>6</td>\n",
       "      <td>6</td>\n",
       "      <td>6</td>\n",
       "      <td>6</td>\n",
       "      <td>6</td>\n",
       "      <td>6</td>\n",
       "      <td>6</td>\n",
       "      <td>6</td>\n",
       "      <td>6</td>\n",
       "      <td>6</td>\n",
       "      <td>6</td>\n",
       "      <td>6</td>\n",
       "      <td>6</td>\n",
       "      <td>6</td>\n",
       "      <td>6</td>\n",
       "      <td>6</td>\n",
       "      <td>6</td>\n",
       "      <td>6</td>\n",
       "      <td>6</td>\n",
       "      <td>6</td>\n",
       "      <td>6</td>\n",
       "      <td>6</td>\n",
       "      <td>6</td>\n",
       "      <td>6</td>\n",
       "      <td>6</td>\n",
       "      <td>2</td>\n",
       "      <td>2</td>\n",
       "      <td>2</td>\n",
       "      <td>2</td>\n",
       "      <td>2</td>\n",
       "      <td>2</td>\n",
       "      <td>2</td>\n",
       "      <td>2</td>\n",
       "      <td>2</td>\n",
       "      <td>2</td>\n",
       "      <td>2</td>\n",
       "      <td>1</td>\n",
       "      <td>2</td>\n",
       "      <td>2</td>\n",
       "      <td>2</td>\n",
       "      <td>2</td>\n",
       "      <td>2</td>\n",
       "      <td>2</td>\n",
       "      <td>2</td>\n",
       "      <td>9</td>\n",
       "      <td>5</td>\n",
       "      <td>9</td>\n",
       "      <td>7</td>\n",
       "      <td>7</td>\n",
       "    </tr>\n",
       "    <tr>\n",
       "      <th>top</th>\n",
       "      <td>Brisbane North Institute of TAFE</td>\n",
       "      <td>Non-Delivery (corporate)</td>\n",
       "      <td>Resignation</td>\n",
       "      <td>-</td>\n",
       "      <td>-</td>\n",
       "      <td>-</td>\n",
       "      <td>-</td>\n",
       "      <td>-</td>\n",
       "      <td>-</td>\n",
       "      <td>-</td>\n",
       "      <td>-</td>\n",
       "      <td>-</td>\n",
       "      <td>-</td>\n",
       "      <td>-</td>\n",
       "      <td>-</td>\n",
       "      <td>Dissatisfaction with %[Institute]Q25LBL%</td>\n",
       "      <td>Agree</td>\n",
       "      <td>Agree</td>\n",
       "      <td>Agree</td>\n",
       "      <td>Neutral</td>\n",
       "      <td>Agree</td>\n",
       "      <td>Agree</td>\n",
       "      <td>Agree</td>\n",
       "      <td>Agree</td>\n",
       "      <td>Agree</td>\n",
       "      <td>Neutral</td>\n",
       "      <td>Agree</td>\n",
       "      <td>Agree</td>\n",
       "      <td>Agree</td>\n",
       "      <td>Agree</td>\n",
       "      <td>Agree</td>\n",
       "      <td>Agree</td>\n",
       "      <td>Agree</td>\n",
       "      <td>Agree</td>\n",
       "      <td>Agree</td>\n",
       "      <td>Agree</td>\n",
       "      <td>Agree</td>\n",
       "      <td>Agree</td>\n",
       "      <td>Agree</td>\n",
       "      <td>Agree</td>\n",
       "      <td>Agree</td>\n",
       "      <td>Agree</td>\n",
       "      <td>Agree</td>\n",
       "      <td>Agree</td>\n",
       "      <td>Agree</td>\n",
       "      <td>Agree</td>\n",
       "      <td>Yes</td>\n",
       "      <td>Yes</td>\n",
       "      <td>Yes</td>\n",
       "      <td>Yes</td>\n",
       "      <td>-</td>\n",
       "      <td>-</td>\n",
       "      <td>-</td>\n",
       "      <td>-</td>\n",
       "      <td>-</td>\n",
       "      <td>-</td>\n",
       "      <td>-</td>\n",
       "      <td>-</td>\n",
       "      <td>-</td>\n",
       "      <td>Yes</td>\n",
       "      <td>Yes</td>\n",
       "      <td>Yes</td>\n",
       "      <td>Yes</td>\n",
       "      <td>Yes</td>\n",
       "      <td>Female</td>\n",
       "      <td>56 or older</td>\n",
       "      <td>Permanent Full-time</td>\n",
       "      <td>Administration (AO)</td>\n",
       "      <td>Less than 1 year</td>\n",
       "      <td>Less than 1 year</td>\n",
       "    </tr>\n",
       "    <tr>\n",
       "      <th>freq</th>\n",
       "      <td>161</td>\n",
       "      <td>432</td>\n",
       "      <td>340</td>\n",
       "      <td>375</td>\n",
       "      <td>336</td>\n",
       "      <td>420</td>\n",
       "      <td>403</td>\n",
       "      <td>411</td>\n",
       "      <td>371</td>\n",
       "      <td>360</td>\n",
       "      <td>410</td>\n",
       "      <td>421</td>\n",
       "      <td>415</td>\n",
       "      <td>331</td>\n",
       "      <td>391</td>\n",
       "      <td>23</td>\n",
       "      <td>233</td>\n",
       "      <td>275</td>\n",
       "      <td>247</td>\n",
       "      <td>175</td>\n",
       "      <td>255</td>\n",
       "      <td>212</td>\n",
       "      <td>267</td>\n",
       "      <td>268</td>\n",
       "      <td>284</td>\n",
       "      <td>154</td>\n",
       "      <td>216</td>\n",
       "      <td>209</td>\n",
       "      <td>226</td>\n",
       "      <td>234</td>\n",
       "      <td>281</td>\n",
       "      <td>284</td>\n",
       "      <td>253</td>\n",
       "      <td>331</td>\n",
       "      <td>286</td>\n",
       "      <td>230</td>\n",
       "      <td>232</td>\n",
       "      <td>237</td>\n",
       "      <td>296</td>\n",
       "      <td>298</td>\n",
       "      <td>290</td>\n",
       "      <td>231</td>\n",
       "      <td>269</td>\n",
       "      <td>234</td>\n",
       "      <td>300</td>\n",
       "      <td>236</td>\n",
       "      <td>541</td>\n",
       "      <td>232</td>\n",
       "      <td>441</td>\n",
       "      <td>285</td>\n",
       "      <td>412</td>\n",
       "      <td>502</td>\n",
       "      <td>539</td>\n",
       "      <td>270</td>\n",
       "      <td>473</td>\n",
       "      <td>518</td>\n",
       "      <td>366</td>\n",
       "      <td>555</td>\n",
       "      <td>541</td>\n",
       "      <td>382</td>\n",
       "      <td>536</td>\n",
       "      <td>512</td>\n",
       "      <td>488</td>\n",
       "      <td>416</td>\n",
       "      <td>389</td>\n",
       "      <td>162</td>\n",
       "      <td>237</td>\n",
       "      <td>293</td>\n",
       "      <td>147</td>\n",
       "      <td>177</td>\n",
       "    </tr>\n",
       "  </tbody>\n",
       "</table>\n",
       "</div>"
      ],
      "text/plain": [
       "                               Institute                  WorkArea  \\\n",
       "count                                702                       702   \n",
       "unique                                12                         2   \n",
       "top     Brisbane North Institute of TAFE  Non-Delivery (corporate)   \n",
       "freq                                 161                       432   \n",
       "\n",
       "       Reason for ceasing employment  \\\n",
       "count                            701   \n",
       "unique                             6   \n",
       "top                      Resignation   \n",
       "freq                             340   \n",
       "\n",
       "       Contributing Factors. Career Move - Public Sector   \\\n",
       "count                                                 437   \n",
       "unique                                                  2   \n",
       "top                                                     -   \n",
       "freq                                                  375   \n",
       "\n",
       "       Contributing Factors. Career Move - Private Sector   \\\n",
       "count                                                 437    \n",
       "unique                                                  2    \n",
       "top                                                     -    \n",
       "freq                                                  336    \n",
       "\n",
       "       Contributing Factors. Career Move - Self-employment  \\\n",
       "count                                                 437    \n",
       "unique                                                  2    \n",
       "top                                                     -    \n",
       "freq                                                  420    \n",
       "\n",
       "       Contributing Factors. Ill Health  \\\n",
       "count                               437   \n",
       "unique                                2   \n",
       "top                                   -   \n",
       "freq                                403   \n",
       "\n",
       "       Contributing Factors. Maternity/Family  \\\n",
       "count                                     437   \n",
       "unique                                      2   \n",
       "top                                         -   \n",
       "freq                                      411   \n",
       "\n",
       "       Contributing Factors. Dissatisfaction  \\\n",
       "count                                    437   \n",
       "unique                                     2   \n",
       "top                                        -   \n",
       "freq                                     371   \n",
       "\n",
       "       Contributing Factors. Job Dissatisfaction  \\\n",
       "count                                        437   \n",
       "unique                                         2   \n",
       "top                                            -   \n",
       "freq                                         360   \n",
       "\n",
       "       Contributing Factors. Interpersonal Conflict  \\\n",
       "count                                           437   \n",
       "unique                                            2   \n",
       "top                                               -   \n",
       "freq                                            410   \n",
       "\n",
       "       Contributing Factors. Study Contributing Factors. Travel  \\\n",
       "count                          437                          437   \n",
       "unique                           2                            2   \n",
       "top                              -                            -   \n",
       "freq                           421                          415   \n",
       "\n",
       "       Contributing Factors. Other Contributing Factors. NONE  \\\n",
       "count                          437                        437   \n",
       "unique                           2                          2   \n",
       "top                              -                          -   \n",
       "freq                           331                        391   \n",
       "\n",
       "       Main Factor. Which of these was the main factor for leaving?  \\\n",
       "count                                                 113             \n",
       "unique                                                 11             \n",
       "top              Dissatisfaction with %[Institute]Q25LBL%             \n",
       "freq                                                   23             \n",
       "\n",
       "       InstituteViews. Topic:1. I feel the senior leadership had a clear vision and direction  \\\n",
       "count                                                 608                                       \n",
       "unique                                                  6                                       \n",
       "top                                                 Agree                                       \n",
       "freq                                                  233                                       \n",
       "\n",
       "       InstituteViews. Topic:2. I was given access to skills training to help me do my job better  \\\n",
       "count                                                 613                                           \n",
       "unique                                                  6                                           \n",
       "top                                                 Agree                                           \n",
       "freq                                                  275                                           \n",
       "\n",
       "       InstituteViews. Topic:3. I was given adequate opportunities for personal development  \\\n",
       "count                                                 610                                     \n",
       "unique                                                  6                                     \n",
       "top                                                 Agree                                     \n",
       "freq                                                  247                                     \n",
       "\n",
       "       InstituteViews. Topic:4. I was given adequate opportunities for promotion within %Institute]Q25LBL%  \\\n",
       "count                                                 608                                                    \n",
       "unique                                                  6                                                    \n",
       "top                                               Neutral                                                    \n",
       "freq                                                  175                                                    \n",
       "\n",
       "       InstituteViews. Topic:5. I felt the salary for the job was right for the responsibilities I had  \\\n",
       "count                                                 615                                                \n",
       "unique                                                  6                                                \n",
       "top                                                 Agree                                                \n",
       "freq                                                  255                                                \n",
       "\n",
       "       InstituteViews. Topic:6. The organisation recognised when staff did good work  \\\n",
       "count                                                 607                              \n",
       "unique                                                  6                              \n",
       "top                                                 Agree                              \n",
       "freq                                                  212                              \n",
       "\n",
       "       InstituteViews. Topic:7. Management was generally supportive of me  \\\n",
       "count                                                 614                   \n",
       "unique                                                  6                   \n",
       "top                                                 Agree                   \n",
       "freq                                                  267                   \n",
       "\n",
       "       InstituteViews. Topic:8. Management was generally supportive of my team  \\\n",
       "count                                                 608                        \n",
       "unique                                                  6                        \n",
       "top                                                 Agree                        \n",
       "freq                                                  268                        \n",
       "\n",
       "       InstituteViews. Topic:9. I was kept informed of the changes in the organisation which would affect me  \\\n",
       "count                                                 610                                                      \n",
       "unique                                                  6                                                      \n",
       "top                                                 Agree                                                      \n",
       "freq                                                  284                                                      \n",
       "\n",
       "       InstituteViews. Topic:10. Staff morale was positive within the Institute  \\\n",
       "count                                                 602                         \n",
       "unique                                                  6                         \n",
       "top                                               Neutral                         \n",
       "freq                                                  154                         \n",
       "\n",
       "       InstituteViews. Topic:11. If I had a workplace issue it was dealt with quickly  \\\n",
       "count                                                 601                               \n",
       "unique                                                  6                               \n",
       "top                                                 Agree                               \n",
       "freq                                                  216                               \n",
       "\n",
       "       InstituteViews. Topic:12. If I had a workplace issue it was dealt with efficiently  \\\n",
       "count                                                 597                                   \n",
       "unique                                                  6                                   \n",
       "top                                                 Agree                                   \n",
       "freq                                                  209                                   \n",
       "\n",
       "       InstituteViews. Topic:13. If I had a workplace issue it was dealt with discreetly  \\\n",
       "count                                                 601                                  \n",
       "unique                                                  6                                  \n",
       "top                                                 Agree                                  \n",
       "freq                                                  226                                  \n",
       "\n",
       "       WorkUnitViews. Topic:14. I was satisfied with the quality of the management and supervision within my work unit  \\\n",
       "count                                                 609                                                                \n",
       "unique                                                  6                                                                \n",
       "top                                                 Agree                                                                \n",
       "freq                                                  234                                                                \n",
       "\n",
       "       WorkUnitViews. Topic:15. I worked well with my colleagues  \\\n",
       "count                                                 605          \n",
       "unique                                                  6          \n",
       "top                                                 Agree          \n",
       "freq                                                  281          \n",
       "\n",
       "       WorkUnitViews. Topic:16. My job was challenging and interesting  \\\n",
       "count                                                 607                \n",
       "unique                                                  6                \n",
       "top                                                 Agree                \n",
       "freq                                                  284                \n",
       "\n",
       "       WorkUnitViews. Topic:17. I was encouraged to use my initiative in the course of my work  \\\n",
       "count                                                 610                                        \n",
       "unique                                                  6                                        \n",
       "top                                                 Agree                                        \n",
       "freq                                                  253                                        \n",
       "\n",
       "       WorkUnitViews. Topic:18. I had sufficient contact with other people in my job  \\\n",
       "count                                                 613                              \n",
       "unique                                                  6                              \n",
       "top                                                 Agree                              \n",
       "freq                                                  331                              \n",
       "\n",
       "       WorkUnitViews. Topic:19. I was given adequate support and co-operation by my peers to enable me to do my job  \\\n",
       "count                                                 609                                                             \n",
       "unique                                                  6                                                             \n",
       "top                                                 Agree                                                             \n",
       "freq                                                  286                                                             \n",
       "\n",
       "       WorkUnitViews. Topic:20. I was able to use the full range of my skills in my job  \\\n",
       "count                                                 609                                 \n",
       "unique                                                  6                                 \n",
       "top                                                 Agree                                 \n",
       "freq                                                  230                                 \n",
       "\n",
       "       WorkUnitViews. Topic:21. I was able to use the full range of my abilities in my job. ; Category:Level of Agreement; Question:YOUR VIEWS ABOUT YOUR WORK UNIT]  \\\n",
       "count                                                 608                                                                                                              \n",
       "unique                                                  6                                                                                                              \n",
       "top                                                 Agree                                                                                                              \n",
       "freq                                                  232                                                                                                              \n",
       "\n",
       "       WorkUnitViews. Topic:22. I was able to use the full range of my knowledge in my job  \\\n",
       "count                                                 608                                    \n",
       "unique                                                  6                                    \n",
       "top                                                 Agree                                    \n",
       "freq                                                  237                                    \n",
       "\n",
       "       WorkUnitViews. Topic:23. My job provided sufficient variety  \\\n",
       "count                                                 611            \n",
       "unique                                                  6            \n",
       "top                                                 Agree            \n",
       "freq                                                  296            \n",
       "\n",
       "       WorkUnitViews. Topic:24. I was able to cope with the level of stress and pressure in my job  \\\n",
       "count                                                 610                                            \n",
       "unique                                                  6                                            \n",
       "top                                                 Agree                                            \n",
       "freq                                                  298                                            \n",
       "\n",
       "       WorkUnitViews. Topic:25. My job allowed me to balance the demands of work and family to my satisfaction  \\\n",
       "count                                                 611                                                        \n",
       "unique                                                  6                                                        \n",
       "top                                                 Agree                                                        \n",
       "freq                                                  290                                                        \n",
       "\n",
       "       WorkUnitViews. Topic:26. My supervisor gave me adequate personal recognition and feedback on my performance  \\\n",
       "count                                                 606                                                            \n",
       "unique                                                  6                                                            \n",
       "top                                                 Agree                                                            \n",
       "freq                                                  231                                                            \n",
       "\n",
       "       WorkUnitViews. Topic:27. My working environment was satisfactory e.g. sufficient space, good lighting, suitable seating and working area  \\\n",
       "count                                                 610                                                                                         \n",
       "unique                                                  6                                                                                         \n",
       "top                                                 Agree                                                                                         \n",
       "freq                                                  269                                                                                         \n",
       "\n",
       "       WorkUnitViews. Topic:28. I was given the opportunity to mentor and coach others in order for me to pass on my skills and knowledge prior to my cessation date  \\\n",
       "count                                                 609                                                                                                              \n",
       "unique                                                  6                                                                                                              \n",
       "top                                                 Agree                                                                                                              \n",
       "freq                                                  234                                                                                                              \n",
       "\n",
       "       WorkUnitViews. Topic:29. There was adequate communication between staff in my unit  \\\n",
       "count                                                 603                                   \n",
       "unique                                                  6                                   \n",
       "top                                                 Agree                                   \n",
       "freq                                                  300                                   \n",
       "\n",
       "       WorkUnitViews. Topic:30. Staff morale was positive within my work unit  \\\n",
       "count                                                 606                       \n",
       "unique                                                  6                       \n",
       "top                                                 Agree                       \n",
       "freq                                                  236                       \n",
       "\n",
       "       Induction. Did you undertake Workplace Induction?  \\\n",
       "count                                                619   \n",
       "unique                                                 2   \n",
       "top                                                  Yes   \n",
       "freq                                                 541   \n",
       "\n",
       "       InductionInfo. Topic:Did you undertake a Corporate Induction?  \\\n",
       "count                                                 432              \n",
       "unique                                                  2              \n",
       "top                                                   Yes              \n",
       "freq                                                  232              \n",
       "\n",
       "       InductionInfo. Topic:Did you undertake a Institute Induction?  \\\n",
       "count                                                 483              \n",
       "unique                                                  2              \n",
       "top                                                   Yes              \n",
       "freq                                                  441              \n",
       "\n",
       "       InductionInfo. Topic: Did you undertake Team Induction?  \\\n",
       "count                                                 440        \n",
       "unique                                                  2        \n",
       "top                                                   Yes        \n",
       "freq                                                  285        \n",
       "\n",
       "       InductionInfo. Face to Face Topic:Did you undertake a Corporate Induction; Category:How it was conducted?  \\\n",
       "count                                                 555                                                          \n",
       "unique                                                  2                                                          \n",
       "top                                                     -                                                          \n",
       "freq                                                  412                                                          \n",
       "\n",
       "       InductionInfo. On-line Topic:Did you undertake a Corporate Induction; Category:How it was conducted?  \\\n",
       "count                                                 555                                                     \n",
       "unique                                                  2                                                     \n",
       "top                                                     -                                                     \n",
       "freq                                                  502                                                     \n",
       "\n",
       "       InductionInfo. Induction Manual Topic:Did you undertake a Corporate Induction?  \\\n",
       "count                                                 555                               \n",
       "unique                                                  2                               \n",
       "top                                                     -                               \n",
       "freq                                                  539                               \n",
       "\n",
       "       InductionInfo. Face to Face Topic:Did you undertake a Institute Induction?  \\\n",
       "count                                                 530                           \n",
       "unique                                                  2                           \n",
       "top                                                     -                           \n",
       "freq                                                  270                           \n",
       "\n",
       "       InductionInfo. On-line Topic:Did you undertake a Institute Induction?  \\\n",
       "count                                                 555                      \n",
       "unique                                                  2                      \n",
       "top                                                     -                      \n",
       "freq                                                  473                      \n",
       "\n",
       "       InductionInfo. Induction Manual Topic:Did you undertake a Institute Induction?  \\\n",
       "count                                                 553                               \n",
       "unique                                                  2                               \n",
       "top                                                     -                               \n",
       "freq                                                  518                               \n",
       "\n",
       "       InductionInfo. Face to Face Topic: Did you undertake Team Induction; Category?  \\\n",
       "count                                                 555                               \n",
       "unique                                                  2                               \n",
       "top                                                     -                               \n",
       "freq                                                  366                               \n",
       "\n",
       "       InductionInfo. On-line Topic: Did you undertake Team Induction?process you undertook and how it was conducted.]  \\\n",
       "count                                                 555                                                                \n",
       "unique                                                  1                                                                \n",
       "top                                                     -                                                                \n",
       "freq                                                  555                                                                \n",
       "\n",
       "       InductionInfo. Induction Manual Topic: Did you undertake Team Induction?  \\\n",
       "count                                                 555                         \n",
       "unique                                                  2                         \n",
       "top                                                     -                         \n",
       "freq                                                  541                         \n",
       "\n",
       "       Workplace. Topic:Did you and your Manager develop a Performance and Professional Development Plan (PPDP)?  \\\n",
       "count                                                 608                                                          \n",
       "unique                                                  2                                                          \n",
       "top                                                   Yes                                                          \n",
       "freq                                                  382                                                          \n",
       "\n",
       "       Workplace. Topic:Does your workplace promote a work culture free from all forms of unlawful discrimination?  \\\n",
       "count                                                 594                                                            \n",
       "unique                                                  2                                                            \n",
       "top                                                   Yes                                                            \n",
       "freq                                                  536                                                            \n",
       "\n",
       "       Workplace. Topic:Does your workplace promote and practice the principles of employment equity?  \\\n",
       "count                                                 587                                               \n",
       "unique                                                  2                                               \n",
       "top                                                   Yes                                               \n",
       "freq                                                  512                                               \n",
       "\n",
       "       Workplace. Topic:Does your workplace value the diversity of its employees?  \\\n",
       "count                                                 586                           \n",
       "unique                                                  2                           \n",
       "top                                                   Yes                           \n",
       "freq                                                  488                           \n",
       "\n",
       "       Workplace. Topic:Would you recommend the Institute as an employer to others?  \\\n",
       "count                                                 581                             \n",
       "unique                                                  2                             \n",
       "top                                                   Yes                             \n",
       "freq                                                  416                             \n",
       "\n",
       "       Gender. What is your Gender? CurrentAge. Current Age  \\\n",
       "count                           596                     596   \n",
       "unique                            2                       9   \n",
       "top                          Female             56 or older   \n",
       "freq                            389                     162   \n",
       "\n",
       "       Employment Type. Employment Type Classification. Classification  \\\n",
       "count                               596                            596   \n",
       "unique                                5                              9   \n",
       "top                 Permanent Full-time            Administration (AO)   \n",
       "freq                                237                            293   \n",
       "\n",
       "       LengthofServiceOverall. Overall Length of Service at Institute (in years)  \\\n",
       "count                                                 596                          \n",
       "unique                                                  7                          \n",
       "top                                      Less than 1 year                          \n",
       "freq                                                  147                          \n",
       "\n",
       "       LengthofServiceCurrent. Length of Service at current workplace (in years)  \n",
       "count                                                 596                         \n",
       "unique                                                  7                         \n",
       "top                                      Less than 1 year                         \n",
       "freq                                                  177                         "
      ]
     },
     "execution_count": 9,
     "metadata": {},
     "output_type": "execute_result"
    }
   ],
   "source": [
    "tafe_survey.select_dtypes(include=object).describe()"
   ]
  },
  {
   "cell_type": "markdown",
   "metadata": {},
   "source": [
    "At first glance, the descriptive statistics for the tafe_survey dataset tells us that:\n",
    "* Majority of the survey participants resigned from their position due to dissatisfaction. This is contrary to what we saw in the dete_survey dataset."
   ]
  },
  {
   "cell_type": "markdown",
   "metadata": {},
   "source": [
    "## Part 2: Data Cleaning"
   ]
  },
  {
   "cell_type": "markdown",
   "metadata": {},
   "source": [
    "### 2.1: Checking for duplicate and missing values"
   ]
  },
  {
   "cell_type": "code",
   "execution_count": 10,
   "metadata": {},
   "outputs": [
    {
     "data": {
      "text/plain": [
       "Cease Date                      34\n",
       "DETE Start Date                 73\n",
       "Role Start Date                 98\n",
       "Position                         5\n",
       "Classification                 367\n",
       "Region                         105\n",
       "Business Unit                  696\n",
       "Employment Status                5\n",
       "Professional Development        14\n",
       "Opportunities for promotion     87\n",
       "Staff morale                     6\n",
       "Workplace issue                 34\n",
       "Physical environment             5\n",
       "Worklife balance                 7\n",
       "Stress and pressure support     12\n",
       "Performance of supervisor        9\n",
       "Peer support                    10\n",
       "Initiative                       9\n",
       "Skills                          11\n",
       "Coach                           55\n",
       "Career Aspirations              76\n",
       "Feedback                        30\n",
       "Further PD                      54\n",
       "Communication                    8\n",
       "My say                          10\n",
       "Information                      6\n",
       "Kept informed                    9\n",
       "Wellness programs               56\n",
       "Health & Safety                 29\n",
       "Gender                          24\n",
       "Age                             11\n",
       "Aboriginal                     806\n",
       "Torres Strait                  819\n",
       "South Sea                      815\n",
       "Disability                     799\n",
       "NESB                           790\n",
       "dtype: int64"
      ]
     },
     "execution_count": 10,
     "metadata": {},
     "output_type": "execute_result"
    }
   ],
   "source": [
    "#Checking for missing values\n",
    "null_cols = dete_survey.isnull().sum() > 0\n",
    "\n",
    "dete_survey.isnull().sum()[null_cols]"
   ]
  },
  {
   "cell_type": "code",
   "execution_count": 11,
   "metadata": {},
   "outputs": [
    {
     "data": {
      "text/plain": [
       "CESSATION YEAR                                                                 7\n",
       "Reason for ceasing employment                                                  1\n",
       "Contributing Factors. Career Move - Public Sector                            265\n",
       "Contributing Factors. Career Move - Private Sector                           265\n",
       "Contributing Factors. Career Move - Self-employment                          265\n",
       "                                                                            ... \n",
       "CurrentAge. Current Age                                                      106\n",
       "Employment Type. Employment Type                                             106\n",
       "Classification. Classification                                               106\n",
       "LengthofServiceOverall. Overall Length of Service at Institute (in years)    106\n",
       "LengthofServiceCurrent. Length of Service at current workplace (in years)    106\n",
       "Length: 69, dtype: int64"
      ]
     },
     "execution_count": 11,
     "metadata": {},
     "output_type": "execute_result"
    }
   ],
   "source": [
    "#Checking for missing values\n",
    "null_cols = tafe_survey.isnull().sum() > 0\n",
    "\n",
    "tafe_survey.isnull().sum()[null_cols]"
   ]
  },
  {
   "cell_type": "markdown",
   "metadata": {},
   "source": [
    "Apparently, the two datasets have lots of missing values, so there's plenty of cleaning to be done. \n",
    "\n",
    "But, I need to identify columns that are irrelevant to this analysis and drop those columns. This is especially important because the two datasets contain many columns that I may not need to complete the analysis. So I'll start by dropping irrelevant columns. \n",
    "\n",
    "To harmonize and simplify the data, I identified the unnecessary columns and dropped them."
   ]
  },
  {
   "cell_type": "markdown",
   "metadata": {},
   "source": [
    "### 2.2: Dropping irrelevant columns"
   ]
  },
  {
   "cell_type": "code",
   "execution_count": 12,
   "metadata": {},
   "outputs": [
    {
     "data": {
      "text/plain": [
       "Index(['Professional Development', 'Opportunities for promotion',\n",
       "       'Staff morale', 'Workplace issue', 'Physical environment',\n",
       "       'Worklife balance', 'Stress and pressure support',\n",
       "       'Performance of supervisor', 'Peer support', 'Initiative', 'Skills',\n",
       "       'Coach', 'Career Aspirations', 'Feedback', 'Further PD',\n",
       "       'Communication', 'My say', 'Information', 'Kept informed',\n",
       "       'Wellness programs', 'Health & Safety'],\n",
       "      dtype='object')"
      ]
     },
     "execution_count": 12,
     "metadata": {},
     "output_type": "execute_result"
    }
   ],
   "source": [
    "# Identifying irrelevant columns\n",
    "dete_survey.columns[28:49]"
   ]
  },
  {
   "cell_type": "code",
   "execution_count": 13,
   "metadata": {},
   "outputs": [
    {
     "data": {
      "text/plain": [
       "(822, 35)"
      ]
     },
     "execution_count": 13,
     "metadata": {},
     "output_type": "execute_result"
    }
   ],
   "source": [
    "# Dropping unnecssary columns\n",
    "dete_survey_updated = dete_survey.drop(dete_survey.columns[28:49], axis=1)\n",
    "\n",
    "dete_survey_updated.shape"
   ]
  },
  {
   "cell_type": "markdown",
   "metadata": {},
   "source": [
    "We repeat the same process for the `tafe_survey` dataset, and drop columns 17 to 66."
   ]
  },
  {
   "cell_type": "code",
   "execution_count": 14,
   "metadata": {},
   "outputs": [
    {
     "data": {
      "text/plain": [
       "(702, 23)"
      ]
     },
     "execution_count": 14,
     "metadata": {},
     "output_type": "execute_result"
    }
   ],
   "source": [
    "# Dropping unnecssary columns\n",
    "tafe_survey_updated = tafe_survey.drop(tafe_survey.columns[17:66], axis=1)\n",
    "\n",
    "tafe_survey_updated.shape"
   ]
  },
  {
   "cell_type": "markdown",
   "metadata": {},
   "source": [
    "### 2.3: Cleaning column names"
   ]
  },
  {
   "cell_type": "markdown",
   "metadata": {},
   "source": [
    "Each dataframe contains many of the same columns, but the column names are different. \n",
    "\n",
    "The columns with similar information in both datasets need to be harmonized because at some point in this analysis, I'll have to combine these two datasets, therefore, I want the column names to be standardized.\n",
    "\n",
    "Let's take a look at columns from both datasets with similar information."
   ]
  },
  {
   "cell_type": "markdown",
   "metadata": {},
   "source": [
    "|dete_survey column names| tafe_survey column names|\tColumn definition\n",
    "| --- | --- | --- |\n",
    "|ID\t| Record ID |\tAn id used to identify the participant of the survey\n",
    "| SeparationType\t| Reason for ceasing employment\t| The reason why the participant's employment ended\n",
    "| Cease Date\t| CESSATION YEAR\t| The year or month the participant's employment ended\n",
    "| DETE Start Date\t|  |\tThe year the participant began employment with the DETE\n",
    "| | LengthofServiceOverall.Overall Length of Service at Institute (in years)\t| The length of the person's employment (in years)\n",
    "| Age | \tCurrentAge. | Current Age\tThe age of the participant\n",
    "| Gender\t| Gender. What is your Gender?\t| The gender of the participant"
   ]
  },
  {
   "cell_type": "markdown",
   "metadata": {},
   "source": [
    "Now that I've identified columns from both dataframes with similar information, I'll go ahead and rename these columns. The goal is to give columns with similar information the same column name. "
   ]
  },
  {
   "cell_type": "code",
   "execution_count": 15,
   "metadata": {},
   "outputs": [
    {
     "data": {
      "text/plain": [
       "Index(['id', 'separationtype', 'cease_date', 'dete_start_date',\n",
       "       'role_start_date', 'position', 'classification', 'region',\n",
       "       'business_unit', 'employment_status', 'career_move_to_public_sector',\n",
       "       'career_move_to_private_sector', 'interpersonal_conflicts',\n",
       "       'job_dissatisfaction', 'dissatisfaction_with_the_department',\n",
       "       'physical_work_environment', 'lack_of_recognition',\n",
       "       'lack_of_job_security', 'work_location', 'employment_conditions',\n",
       "       'maternityfamily', 'relocation', 'studytravel', 'ill_health',\n",
       "       'traumatic_incident', 'work_life_balance', 'workload',\n",
       "       'none_of_the_above', 'gender', 'age', 'aboriginal', 'torres_strait',\n",
       "       'south_sea', 'disability', 'nesb'],\n",
       "      dtype='object')"
      ]
     },
     "execution_count": 15,
     "metadata": {},
     "output_type": "execute_result"
    }
   ],
   "source": [
    "# Renaming columns in dete df\n",
    "dete_survey_updated.columns = dete_survey_updated.columns.str.lower().str.strip().str.replace(' ', '_').str.replace('/','')\n",
    "\n",
    "# Inspecting the new columns names\n",
    "dete_survey_updated.columns"
   ]
  },
  {
   "cell_type": "code",
   "execution_count": 16,
   "metadata": {},
   "outputs": [
    {
     "data": {
      "text/plain": [
       "Index(['id', 'Institute', 'WorkArea', 'cease_date', 'separationtype',\n",
       "       'Contributing Factors. Career Move - Public Sector ',\n",
       "       'Contributing Factors. Career Move - Private Sector ',\n",
       "       'Contributing Factors. Career Move - Self-employment',\n",
       "       'Contributing Factors. Ill Health',\n",
       "       'Contributing Factors. Maternity/Family',\n",
       "       'Contributing Factors. Dissatisfaction',\n",
       "       'Contributing Factors. Job Dissatisfaction',\n",
       "       'Contributing Factors. Interpersonal Conflict',\n",
       "       'Contributing Factors. Study', 'Contributing Factors. Travel',\n",
       "       'Contributing Factors. Other', 'Contributing Factors. NONE', 'gender',\n",
       "       'age', 'employment_status', 'position', 'institute_service',\n",
       "       'role_service'],\n",
       "      dtype='object')"
      ]
     },
     "execution_count": 16,
     "metadata": {},
     "output_type": "execute_result"
    }
   ],
   "source": [
    "# Renaming columns in the tafe df\n",
    "\n",
    "tafe_survey_updated = tafe_survey_updated.rename(columns={'Record ID': 'id',\n",
    "'CESSATION YEAR': 'cease_date',\n",
    "'Reason for ceasing employment': 'separationtype',\n",
    "'Gender. What is your Gender?': 'gender',\n",
    "'CurrentAge. Current Age': 'age',\n",
    "'Employment Type. Employment Type': 'employment_status',\n",
    "'Classification. Classification': 'position',\n",
    "'LengthofServiceOverall. Overall Length of Service at Institute (in years)': 'institute_service',\n",
    "'LengthofServiceCurrent. Length of Service at current workplace (in years)': 'role_service'})\n",
    "\n",
    "# Inspecting the new columns names\n",
    "tafe_survey_updated.columns"
   ]
  },
  {
   "cell_type": "markdown",
   "metadata": {},
   "source": [
    "### 2.4: Filtering the Data\n"
   ]
  },
  {
   "cell_type": "markdown",
   "metadata": {},
   "source": [
    "I renamed the columns that I'll use for this analysis. Next, I'll filter the data to remove more of the data I don't need.\n",
    "\n",
    "Recall that the end goal is to answer the following question:\n",
    "\n",
    "* Are employees who have only worked for the institutes for a short period of time resigning due to some kind of dissatisfaction? \n",
    "* What about employees who have been at the job longer?\n",
    "\n",
    "Therefore, I'm only interested in parts of the data that indicate that the employees resigned from their job. \n",
    "\n",
    "I'll start by filtering the data in `separtiontype` columns of both dataframes. This data indicated by employees left their jobs."
   ]
  },
  {
   "cell_type": "code",
   "execution_count": 17,
   "metadata": {},
   "outputs": [
    {
     "data": {
      "text/plain": [
       "Age Retirement                          285\n",
       "Resignation-Other reasons               150\n",
       "Resignation-Other employer               91\n",
       "Resignation-Move overseas/interstate     70\n",
       "Voluntary Early Retirement (VER)         67\n",
       "Ill Health Retirement                    61\n",
       "Other                                    49\n",
       "Contract Expired                         34\n",
       "Termination                              15\n",
       "Name: separationtype, dtype: int64"
      ]
     },
     "execution_count": 17,
     "metadata": {},
     "output_type": "execute_result"
    }
   ],
   "source": [
    "dete_survey_updated['separationtype'].value_counts()"
   ]
  },
  {
   "cell_type": "code",
   "execution_count": 18,
   "metadata": {},
   "outputs": [
    {
     "data": {
      "text/plain": [
       "Resignation                 340\n",
       "Contract Expired            127\n",
       "Retrenchment/ Redundancy    104\n",
       "Retirement                   82\n",
       "Transfer                     25\n",
       "Termination                  23\n",
       "Name: separationtype, dtype: int64"
      ]
     },
     "execution_count": 18,
     "metadata": {},
     "output_type": "execute_result"
    }
   ],
   "source": [
    "tafe_survey_updated['separationtype'].value_counts()"
   ]
  },
  {
   "cell_type": "markdown",
   "metadata": {},
   "source": [
    "For the purpose of this project, I'm only interested in survey respondents who resigned their positions, so I'll be looking at only rows where `separationtype` contains the string `Resignation`.\n",
    "\n",
    "If you look closely, you will also notice other values related to resignation, such as;\n",
    "* `Resignation-Other reasons`\n",
    "* `Resignation-Other employer`\n",
    "* `Resignation-Move overseas/interstate`\n",
    "\n",
    "I'll proceed to select only the data for survey respondents who have a `Resignation` separation type. And I'll do this for each dataset."
   ]
  },
  {
   "cell_type": "code",
   "execution_count": 19,
   "metadata": {},
   "outputs": [],
   "source": [
    "# Selecting data indicating that employees resigned\n",
    "tafe_resignations = tafe_survey_updated.copy()[tafe_survey_updated['separationtype'] == 'Resignation']\n",
    "\n",
    "# Isolating data indicating that employees resigned\n",
    "dete_resignations = dete_survey_updated.copy()[(dete_survey_updated['separationtype'] == 'Resignation-Other reasons')|\n",
    "                                               (dete_survey_updated['separationtype'] == 'Resignation-Other employer')|\n",
    "                                               (dete_survey_updated['separationtype'] == 'Resignation-Move overseas/interstate')]"
   ]
  },
  {
   "cell_type": "code",
   "execution_count": 20,
   "metadata": {},
   "outputs": [
    {
     "data": {
      "text/plain": [
       "Resignation    340\n",
       "Name: separationtype, dtype: int64"
      ]
     },
     "execution_count": 20,
     "metadata": {},
     "output_type": "execute_result"
    }
   ],
   "source": [
    "tafe_resignations['separationtype'].value_counts()"
   ]
  },
  {
   "cell_type": "code",
   "execution_count": 21,
   "metadata": {},
   "outputs": [
    {
     "data": {
      "text/plain": [
       "Resignation-Other reasons               150\n",
       "Resignation-Other employer               91\n",
       "Resignation-Move overseas/interstate     70\n",
       "Name: separationtype, dtype: int64"
      ]
     },
     "execution_count": 21,
     "metadata": {},
     "output_type": "execute_result"
    }
   ],
   "source": [
    "dete_resignations['separationtype'].value_counts()"
   ]
  },
  {
   "cell_type": "markdown",
   "metadata": {},
   "source": [
    "### 2.5: Checking for inconsistencies"
   ]
  },
  {
   "cell_type": "markdown",
   "metadata": {},
   "source": [
    "Before I proceed with the analysis, I'll also need to check and verify that the data does not contain any errors or inconsistent data. For this, I'll focus mainly on the date columns; `cease_date` and `dete_start_date` columns.\n",
    "\n",
    "There are few things I have in mind:\n",
    "* The first is that since the `cease_date` is the last year of the person's employment and the `dete_start_date` is the person's first year of employment,  it wouldn't make sense to have years after the current date.\n",
    "\n",
    "* And secondly, most people in this field start working in their 20s, it's also unlikely that the `dete_start_date` was before the year 1940.\n",
    "\n",
    "With these in mind, I'll carefully examine the columns for any logical inconsistencies. "
   ]
  },
  {
   "cell_type": "code",
   "execution_count": 22,
   "metadata": {},
   "outputs": [
    {
     "data": {
      "text/plain": [
       "2012       126\n",
       "2013        74\n",
       "01/2014     22\n",
       "12/2013     17\n",
       "06/2013     14\n",
       "09/2013     11\n",
       "07/2013      9\n",
       "11/2013      9\n",
       "10/2013      6\n",
       "08/2013      4\n",
       "05/2012      2\n",
       "05/2013      2\n",
       "07/2012      1\n",
       "2010         1\n",
       "09/2010      1\n",
       "07/2006      1\n",
       "Name: cease_date, dtype: int64"
      ]
     },
     "execution_count": 22,
     "metadata": {},
     "output_type": "execute_result"
    }
   ],
   "source": [
    "dete_resignations['cease_date'].value_counts()"
   ]
  },
  {
   "cell_type": "markdown",
   "metadata": {},
   "source": [
    "The first to notice is that the entries for this column are not uniform. Some have the month and year, while others are recorded as only year. \n",
    "\n",
    "I will have to quickly clean up this column, and store the values as only years. "
   ]
  },
  {
   "cell_type": "code",
   "execution_count": 23,
   "metadata": {},
   "outputs": [
    {
     "data": {
      "text/plain": [
       "2013.0    146\n",
       "2012.0    129\n",
       "2014.0     22\n",
       "NaN        11\n",
       "2010.0      2\n",
       "2006.0      1\n",
       "Name: cease_date, dtype: int64"
      ]
     },
     "execution_count": 23,
     "metadata": {},
     "output_type": "execute_result"
    }
   ],
   "source": [
    "# Cleaning up the cease_date column with vectorized string method\n",
    "dete_resignations['cease_date'] = dete_resignations['cease_date'].str.split('/').str.get(-1)\n",
    "\n",
    "# Convert the dates to float\n",
    "dete_resignations['cease_date'] = dete_resignations['cease_date'].astype('float')\n",
    "\n",
    "# Inspecting the values\n",
    "dete_resignations['cease_date'].value_counts(dropna=False)"
   ]
  },
  {
   "cell_type": "markdown",
   "metadata": {},
   "source": [
    "Next, we inspect the `cease_date` column in the `tafe_resignations` dataset"
   ]
  },
  {
   "cell_type": "code",
   "execution_count": 24,
   "metadata": {},
   "outputs": [
    {
     "data": {
      "text/plain": [
       "2011.0    116\n",
       "2012.0     94\n",
       "2010.0     68\n",
       "2013.0     55\n",
       "2009.0      2\n",
       "Name: cease_date, dtype: int64"
      ]
     },
     "execution_count": 24,
     "metadata": {},
     "output_type": "execute_result"
    }
   ],
   "source": [
    "tafe_resignations['cease_date'].value_counts()"
   ]
  },
  {
   "cell_type": "markdown",
   "metadata": {},
   "source": [
    "We proceed to inspect the `dete_start_date` column."
   ]
  },
  {
   "cell_type": "code",
   "execution_count": 25,
   "metadata": {},
   "outputs": [
    {
     "data": {
      "text/plain": [
       "2011.0    24\n",
       "2008.0    22\n",
       "2012.0    21\n",
       "2007.0    21\n",
       "2010.0    17\n",
       "2005.0    15\n",
       "2004.0    14\n",
       "2006.0    13\n",
       "2009.0    13\n",
       "2013.0    10\n",
       "2000.0     9\n",
       "1999.0     8\n",
       "1994.0     6\n",
       "2003.0     6\n",
       "1992.0     6\n",
       "1996.0     6\n",
       "1998.0     6\n",
       "2002.0     6\n",
       "1990.0     5\n",
       "1997.0     5\n",
       "1980.0     5\n",
       "1993.0     5\n",
       "1989.0     4\n",
       "1991.0     4\n",
       "1988.0     4\n",
       "1995.0     4\n",
       "1986.0     3\n",
       "2001.0     3\n",
       "1985.0     3\n",
       "1983.0     2\n",
       "1976.0     2\n",
       "1974.0     2\n",
       "1975.0     1\n",
       "1984.0     1\n",
       "1971.0     1\n",
       "1982.0     1\n",
       "1972.0     1\n",
       "1963.0     1\n",
       "1977.0     1\n",
       "1973.0     1\n",
       "1987.0     1\n",
       "Name: dete_start_date, dtype: int64"
      ]
     },
     "execution_count": 25,
     "metadata": {},
     "output_type": "execute_result"
    }
   ],
   "source": [
    "dete_resignations['dete_start_date'].value_counts()"
   ]
  },
  {
   "cell_type": "markdown",
   "metadata": {},
   "source": [
    "Everything looks good so far.\n",
    "\n",
    "To better appreciate the distribution of values in these columns, I will use boxplots to visualize the data."
   ]
  },
  {
   "cell_type": "code",
   "execution_count": 26,
   "metadata": {},
   "outputs": [
    {
     "data": {
      "text/plain": [
       "<AxesSubplot:>"
      ]
     },
     "execution_count": 26,
     "metadata": {},
     "output_type": "execute_result"
    },
    {
     "data": {
      "image/png": "[encoded data removed]",
      "text/plain": [
       "<Figure size 432x288 with 1 Axes>"
      ]
     },
     "metadata": {
      "needs_background": "light"
     },
     "output_type": "display_data"
    }
   ],
   "source": [
    "dete_resignations.boxplot(column=['dete_start_date', 'cease_date'], meanline=True)"
   ]
  },
  {
   "cell_type": "code",
   "execution_count": 27,
   "metadata": {},
   "outputs": [
    {
     "data": {
      "text/plain": [
       "<AxesSubplot:>"
      ]
     },
     "execution_count": 27,
     "metadata": {},
     "output_type": "execute_result"
    },
    {
     "data": {
      "image/png": "[encoded data removed]",
      "text/plain": [
       "<Figure size 432x288 with 1 Axes>"
      ]
     },
     "metadata": {
      "needs_background": "light"
     },
     "output_type": "display_data"
    }
   ],
   "source": [
    "tafe_resignations.boxplot(column='cease_date', meanline=True)"
   ]
  },
  {
   "cell_type": "markdown",
   "metadata": {},
   "source": [
    "There are some outliers, but I'll leave the data as is because nothing really looks out of place. \n",
    "\n",
    "From what I have done so far, I can verify:\n",
    "\n",
    "* There aren't any major issues with the years.\n",
    "* The years in each dataframe don't span quite the same number of years."
   ]
  },
  {
   "cell_type": "markdown",
   "metadata": {},
   "source": [
    "### 2.6: Calculating years of service"
   ]
  },
  {
   "cell_type": "markdown",
   "metadata": {},
   "source": [
    "Now that I've verified the years in the `dete_resignations` dataframe, I'll use them to create a new column. The end goal of this analysis is to answer the following question:\n",
    "\n",
    "* Are employees who have only worked for the institutes for a short period of time resigning due to some kind of dissatisfaction? What about employees who have been at the job longer?\n",
    "\n",
    "The length of time an employee spent in a workplace is referred to as their years of service. And that is needed to answer the questions above. \n",
    "\n",
    "The `tafe_resignations` dataframe already contains a \"service\" column, which was renamed to `institute_service`. In order to analyze both surveys together, I'll have to create a corresponding `institute_service` column in `dete_resignations`."
   ]
  },
  {
   "cell_type": "code",
   "execution_count": 28,
   "metadata": {},
   "outputs": [],
   "source": [
    "# Create an institute_service column in dete_resignations\n",
    "dete_resignations['institute_service'] = dete_resignations['cease_date'] - dete_resignations['dete_start_date']"
   ]
  },
  {
   "cell_type": "code",
   "execution_count": 29,
   "metadata": {},
   "outputs": [
    {
     "data": {
      "text/plain": [
       "(-0.05, 4.9]    92\n",
       "(4.9, 9.8]      75\n",
       "(9.8, 14.7]     30\n",
       "(14.7, 19.6]    26\n",
       "(19.6, 24.5]    24\n",
       "(24.5, 29.4]     8\n",
       "(29.4, 34.3]     8\n",
       "(34.3, 39.2]     7\n",
       "(39.2, 44.1]     2\n",
       "(44.1, 49.0]     1\n",
       "Name: institute_service, dtype: int64"
      ]
     },
     "execution_count": 29,
     "metadata": {},
     "output_type": "execute_result"
    }
   ],
   "source": [
    "# Inspecting the new column\n",
    "dete_resignations['institute_service'].value_counts(bins=10)"
   ]
  },
  {
   "cell_type": "markdown",
   "metadata": {},
   "source": [
    "> The new `institute_service` column I created will be used to analyze survey respondents according to their length of employment."
   ]
  },
  {
   "cell_type": "markdown",
   "metadata": {},
   "source": [
    "### 2.7: Identifying dissatisfied employees"
   ]
  },
  {
   "cell_type": "markdown",
   "metadata": {},
   "source": [
    "Next, I'll identify any employees who resigned because they were dissatisfied.\n",
    "\n",
    "Below are the columns I'll use to categorize employees as \"dissatisfied\" from each dataframe. \n",
    "\n",
    "`tafe dataset`:\n",
    "* Contributing Factors. Dissatisfaction\n",
    "* Contributing Factors. Job Dissatisfaction\n",
    "\n",
    "`dete dataset`:\n",
    "* job_dissatisfaction\n",
    "* dissatisfaction_with_the_department\n",
    "* physical_work_environment\n",
    "* lack_of_recognition\n",
    "* lack_of_job_security\n",
    "* work_location\n",
    "* employment_conditions\n",
    "* work_life_balance\n",
    "* workload\n",
    "\n",
    "If the employee indicated any of the factors above caused them to resign, I'll mark them as dissatisfied in a new column.\n",
    "\n",
    "The new column I intend to create will contain `True` and `False` values:\n",
    "* `True`: indicates that the employee was dissatisfied with their job (that is; if any element in the selected columns above is True)\n",
    "* `False`: indicates that the employee was not dissatisfied with their job (that is; if none of the elements in the selected columns above is True)"
   ]
  },
  {
   "cell_type": "code",
   "execution_count": 30,
   "metadata": {},
   "outputs": [
    {
     "data": {
      "text/plain": [
       "-                      270\n",
       "Job Dissatisfaction     62\n",
       "NaN                      8\n",
       "Name: Contributing Factors. Job Dissatisfaction, dtype: int64"
      ]
     },
     "execution_count": 30,
     "metadata": {},
     "output_type": "execute_result"
    }
   ],
   "source": [
    "# Exploring the values in Contributing Factors. Job Dissatisfaction and Contributing Factors. Dissatisfaction columns\n",
    "tafe_resignations['Contributing Factors. Job Dissatisfaction'].value_counts(dropna=False)"
   ]
  },
  {
   "cell_type": "code",
   "execution_count": 31,
   "metadata": {},
   "outputs": [
    {
     "data": {
      "text/plain": [
       "-                                         277\n",
       "Contributing Factors. Dissatisfaction      55\n",
       "NaN                                         8\n",
       "Name: Contributing Factors. Dissatisfaction, dtype: int64"
      ]
     },
     "execution_count": 31,
     "metadata": {},
     "output_type": "execute_result"
    }
   ],
   "source": [
    "tafe_resignations['Contributing Factors. Dissatisfaction'].value_counts(dropna=False)"
   ]
  },
  {
   "cell_type": "code",
   "execution_count": 32,
   "metadata": {},
   "outputs": [],
   "source": [
    "def update_vals(col):\n",
    "    \"\"\"\n",
    "    This function will update the values in the \n",
    "    dissatisfaction columns of the tafe dataset\n",
    "    \"\"\"\n",
    "    if col == '-':\n",
    "        return False\n",
    "    elif pd.isnull(col):\n",
    "        return np.nan\n",
    "    else:\n",
    "        return True"
   ]
  },
  {
   "cell_type": "code",
   "execution_count": 33,
   "metadata": {},
   "outputs": [
    {
     "data": {
      "text/plain": [
       "False    249\n",
       "True      91\n",
       "Name: dissatisfied, dtype: int64"
      ]
     },
     "execution_count": 33,
     "metadata": {},
     "output_type": "execute_result"
    }
   ],
   "source": [
    "# Creating a new column with updated values for dissatisfaction: True or False\n",
    "tafe_resignations['dissatisfied'] = tafe_resignations[['Contributing Factors. Dissatisfaction', \n",
    "                                                       'Contributing Factors. Job Dissatisfaction']].applymap(update_vals).any(1, skipna=True)\n",
    "\n",
    "# Exploring the new 'dissatisfied' column\n",
    "tafe_resignations['dissatisfied'].value_counts(dropna=False)"
   ]
  },
  {
   "cell_type": "code",
   "execution_count": 34,
   "metadata": {},
   "outputs": [
    {
     "data": {
      "text/plain": [
       "False    162\n",
       "True     149\n",
       "Name: dissatisfied, dtype: int64"
      ]
     },
     "execution_count": 34,
     "metadata": {},
     "output_type": "execute_result"
    }
   ],
   "source": [
    "# Updating the values in dissatisfaction-related columns with True or False\n",
    "dete_resignations['dissatisfied'] = dete_resignations[['job_dissatisfaction',\n",
    "       'dissatisfaction_with_the_department', 'physical_work_environment',\n",
    "       'lack_of_recognition', 'lack_of_job_security', 'work_location',\n",
    "       'employment_conditions', 'work_life_balance',\n",
    "       'workload']].any(1, skipna=False)\n",
    "\n",
    "dete_resignations['dissatisfied'].value_counts(dropna=False)"
   ]
  },
  {
   "cell_type": "code",
   "execution_count": 35,
   "metadata": {},
   "outputs": [
    {
     "data": {
      "text/plain": [
       "Index(['id', 'separationtype', 'cease_date', 'dete_start_date',\n",
       "       'role_start_date', 'position', 'classification', 'region',\n",
       "       'business_unit', 'employment_status', 'career_move_to_public_sector',\n",
       "       'career_move_to_private_sector', 'interpersonal_conflicts',\n",
       "       'job_dissatisfaction', 'dissatisfaction_with_the_department',\n",
       "       'physical_work_environment', 'lack_of_recognition',\n",
       "       'lack_of_job_security', 'work_location', 'employment_conditions',\n",
       "       'maternityfamily', 'relocation', 'studytravel', 'ill_health',\n",
       "       'traumatic_incident', 'work_life_balance', 'workload',\n",
       "       'none_of_the_above', 'gender', 'age', 'aboriginal', 'torres_strait',\n",
       "       'south_sea', 'disability', 'nesb', 'institute_service', 'dissatisfied'],\n",
       "      dtype='object')"
      ]
     },
     "execution_count": 35,
     "metadata": {},
     "output_type": "execute_result"
    }
   ],
   "source": [
    "dete_resignations.columns"
   ]
  },
  {
   "cell_type": "code",
   "execution_count": 36,
   "metadata": {},
   "outputs": [
    {
     "data": {
      "text/plain": [
       "Index(['id', 'Institute', 'WorkArea', 'cease_date', 'separationtype',\n",
       "       'Contributing Factors. Career Move - Public Sector ',\n",
       "       'Contributing Factors. Career Move - Private Sector ',\n",
       "       'Contributing Factors. Career Move - Self-employment',\n",
       "       'Contributing Factors. Ill Health',\n",
       "       'Contributing Factors. Maternity/Family',\n",
       "       'Contributing Factors. Dissatisfaction',\n",
       "       'Contributing Factors. Job Dissatisfaction',\n",
       "       'Contributing Factors. Interpersonal Conflict',\n",
       "       'Contributing Factors. Study', 'Contributing Factors. Travel',\n",
       "       'Contributing Factors. Other', 'Contributing Factors. NONE', 'gender',\n",
       "       'age', 'employment_status', 'position', 'institute_service',\n",
       "       'role_service', 'dissatisfied'],\n",
       "      dtype='object')"
      ]
     },
     "execution_count": 36,
     "metadata": {},
     "output_type": "execute_result"
    }
   ],
   "source": [
    "tafe_resignations.columns"
   ]
  },
  {
   "cell_type": "code",
   "execution_count": 37,
   "metadata": {},
   "outputs": [],
   "source": [
    "# Find the intersect (common items) in both columns\n",
    "common_columns = np.intersect1d(dete_resignations.columns, tafe_resignations.columns)"
   ]
  },
  {
   "cell_type": "code",
   "execution_count": 38,
   "metadata": {},
   "outputs": [
    {
     "data": {
      "text/plain": [
       "array(['age', 'cease_date', 'dissatisfied', 'employment_status', 'gender',\n",
       "       'id', 'institute_service', 'position', 'separationtype'],\n",
       "      dtype=object)"
      ]
     },
     "execution_count": 38,
     "metadata": {},
     "output_type": "execute_result"
    }
   ],
   "source": [
    "common_columns"
   ]
  },
  {
   "cell_type": "markdown",
   "metadata": {},
   "source": [
    "### 2.8: Combining the dataframes"
   ]
  },
  {
   "cell_type": "markdown",
   "metadata": {},
   "source": [
    "Before combining the two dataframes, I'll add a column to each dataframe that will help to easily distinguish between the two."
   ]
  },
  {
   "cell_type": "code",
   "execution_count": 39,
   "metadata": {},
   "outputs": [],
   "source": [
    "# Differentiating each dataframe with a unique identifier column\n",
    "dete_resignations['institute'] = 'DETE'\n",
    "tafe_resignations['institute'] = 'TAFE'"
   ]
  },
  {
   "cell_type": "code",
   "execution_count": 40,
   "metadata": {},
   "outputs": [],
   "source": [
    "# Combining the two dataframes\n",
    "combined = pd.concat([dete_resignations, tafe_resignations], ignore_index=True)"
   ]
  },
  {
   "cell_type": "code",
   "execution_count": 41,
   "metadata": {},
   "outputs": [
    {
     "data": {
      "text/html": [
       "<div>\n",
       "<style scoped>\n",
       "    .dataframe tbody tr th:only-of-type {\n",
       "        vertical-align: middle;\n",
       "    }\n",
       "\n",
       "    .dataframe tbody tr th {\n",
       "        vertical-align: top;\n",
       "    }\n",
       "\n",
       "    .dataframe thead th {\n",
       "        text-align: right;\n",
       "    }\n",
       "</style>\n",
       "<table border=\"1\" class=\"dataframe\">\n",
       "  <thead>\n",
       "    <tr style=\"text-align: right;\">\n",
       "      <th></th>\n",
       "      <th>id</th>\n",
       "      <th>separationtype</th>\n",
       "      <th>cease_date</th>\n",
       "      <th>dete_start_date</th>\n",
       "      <th>role_start_date</th>\n",
       "      <th>position</th>\n",
       "      <th>classification</th>\n",
       "      <th>region</th>\n",
       "      <th>business_unit</th>\n",
       "      <th>employment_status</th>\n",
       "      <th>career_move_to_public_sector</th>\n",
       "      <th>career_move_to_private_sector</th>\n",
       "      <th>interpersonal_conflicts</th>\n",
       "      <th>job_dissatisfaction</th>\n",
       "      <th>dissatisfaction_with_the_department</th>\n",
       "      <th>physical_work_environment</th>\n",
       "      <th>lack_of_recognition</th>\n",
       "      <th>lack_of_job_security</th>\n",
       "      <th>work_location</th>\n",
       "      <th>employment_conditions</th>\n",
       "      <th>maternityfamily</th>\n",
       "      <th>relocation</th>\n",
       "      <th>studytravel</th>\n",
       "      <th>ill_health</th>\n",
       "      <th>traumatic_incident</th>\n",
       "      <th>work_life_balance</th>\n",
       "      <th>workload</th>\n",
       "      <th>none_of_the_above</th>\n",
       "      <th>gender</th>\n",
       "      <th>age</th>\n",
       "      <th>aboriginal</th>\n",
       "      <th>torres_strait</th>\n",
       "      <th>south_sea</th>\n",
       "      <th>disability</th>\n",
       "      <th>nesb</th>\n",
       "      <th>institute_service</th>\n",
       "      <th>dissatisfied</th>\n",
       "      <th>institute</th>\n",
       "      <th>Institute</th>\n",
       "      <th>WorkArea</th>\n",
       "      <th>Contributing Factors. Career Move - Public Sector</th>\n",
       "      <th>Contributing Factors. Career Move - Private Sector</th>\n",
       "      <th>Contributing Factors. Career Move - Self-employment</th>\n",
       "      <th>Contributing Factors. Ill Health</th>\n",
       "      <th>Contributing Factors. Maternity/Family</th>\n",
       "      <th>Contributing Factors. Dissatisfaction</th>\n",
       "      <th>Contributing Factors. Job Dissatisfaction</th>\n",
       "      <th>Contributing Factors. Interpersonal Conflict</th>\n",
       "      <th>Contributing Factors. Study</th>\n",
       "      <th>Contributing Factors. Travel</th>\n",
       "      <th>Contributing Factors. Other</th>\n",
       "      <th>Contributing Factors. NONE</th>\n",
       "      <th>role_service</th>\n",
       "    </tr>\n",
       "  </thead>\n",
       "  <tbody>\n",
       "    <tr>\n",
       "      <th>214</th>\n",
       "      <td>5.860000e+02</td>\n",
       "      <td>Resignation-Move overseas/interstate</td>\n",
       "      <td>2013.0</td>\n",
       "      <td>2012.0</td>\n",
       "      <td>2013.0</td>\n",
       "      <td>Teacher Aide</td>\n",
       "      <td>NaN</td>\n",
       "      <td>NaN</td>\n",
       "      <td>NaN</td>\n",
       "      <td>Temporary Full-time</td>\n",
       "      <td>False</td>\n",
       "      <td>False</td>\n",
       "      <td>False</td>\n",
       "      <td>False</td>\n",
       "      <td>False</td>\n",
       "      <td>False</td>\n",
       "      <td>False</td>\n",
       "      <td>False</td>\n",
       "      <td>False</td>\n",
       "      <td>False</td>\n",
       "      <td>False</td>\n",
       "      <td>False</td>\n",
       "      <td>True</td>\n",
       "      <td>False</td>\n",
       "      <td>False</td>\n",
       "      <td>False</td>\n",
       "      <td>False</td>\n",
       "      <td>False</td>\n",
       "      <td>Female</td>\n",
       "      <td>21-25</td>\n",
       "      <td>NaN</td>\n",
       "      <td>NaN</td>\n",
       "      <td>NaN</td>\n",
       "      <td>NaN</td>\n",
       "      <td>NaN</td>\n",
       "      <td>1.0</td>\n",
       "      <td>False</td>\n",
       "      <td>DETE</td>\n",
       "      <td>NaN</td>\n",
       "      <td>NaN</td>\n",
       "      <td>NaN</td>\n",
       "      <td>NaN</td>\n",
       "      <td>NaN</td>\n",
       "      <td>NaN</td>\n",
       "      <td>NaN</td>\n",
       "      <td>NaN</td>\n",
       "      <td>NaN</td>\n",
       "      <td>NaN</td>\n",
       "      <td>NaN</td>\n",
       "      <td>NaN</td>\n",
       "      <td>NaN</td>\n",
       "      <td>NaN</td>\n",
       "      <td>NaN</td>\n",
       "    </tr>\n",
       "    <tr>\n",
       "      <th>97</th>\n",
       "      <td>2.940000e+02</td>\n",
       "      <td>Resignation-Move overseas/interstate</td>\n",
       "      <td>2012.0</td>\n",
       "      <td>NaN</td>\n",
       "      <td>NaN</td>\n",
       "      <td>Schools Officer</td>\n",
       "      <td>NaN</td>\n",
       "      <td>South East</td>\n",
       "      <td>NaN</td>\n",
       "      <td>Permanent Part-time</td>\n",
       "      <td>False</td>\n",
       "      <td>False</td>\n",
       "      <td>False</td>\n",
       "      <td>False</td>\n",
       "      <td>False</td>\n",
       "      <td>False</td>\n",
       "      <td>False</td>\n",
       "      <td>False</td>\n",
       "      <td>False</td>\n",
       "      <td>False</td>\n",
       "      <td>True</td>\n",
       "      <td>True</td>\n",
       "      <td>True</td>\n",
       "      <td>False</td>\n",
       "      <td>False</td>\n",
       "      <td>False</td>\n",
       "      <td>False</td>\n",
       "      <td>False</td>\n",
       "      <td>NaN</td>\n",
       "      <td>61 or older</td>\n",
       "      <td>NaN</td>\n",
       "      <td>NaN</td>\n",
       "      <td>NaN</td>\n",
       "      <td>NaN</td>\n",
       "      <td>NaN</td>\n",
       "      <td>NaN</td>\n",
       "      <td>False</td>\n",
       "      <td>DETE</td>\n",
       "      <td>NaN</td>\n",
       "      <td>NaN</td>\n",
       "      <td>NaN</td>\n",
       "      <td>NaN</td>\n",
       "      <td>NaN</td>\n",
       "      <td>NaN</td>\n",
       "      <td>NaN</td>\n",
       "      <td>NaN</td>\n",
       "      <td>NaN</td>\n",
       "      <td>NaN</td>\n",
       "      <td>NaN</td>\n",
       "      <td>NaN</td>\n",
       "      <td>NaN</td>\n",
       "      <td>NaN</td>\n",
       "      <td>NaN</td>\n",
       "    </tr>\n",
       "    <tr>\n",
       "      <th>335</th>\n",
       "      <td>6.342062e+17</td>\n",
       "      <td>Resignation</td>\n",
       "      <td>2010.0</td>\n",
       "      <td>NaN</td>\n",
       "      <td>NaN</td>\n",
       "      <td>NaN</td>\n",
       "      <td>NaN</td>\n",
       "      <td>NaN</td>\n",
       "      <td>NaN</td>\n",
       "      <td>NaN</td>\n",
       "      <td>NaN</td>\n",
       "      <td>NaN</td>\n",
       "      <td>NaN</td>\n",
       "      <td>NaN</td>\n",
       "      <td>NaN</td>\n",
       "      <td>NaN</td>\n",
       "      <td>NaN</td>\n",
       "      <td>NaN</td>\n",
       "      <td>NaN</td>\n",
       "      <td>NaN</td>\n",
       "      <td>NaN</td>\n",
       "      <td>NaN</td>\n",
       "      <td>NaN</td>\n",
       "      <td>NaN</td>\n",
       "      <td>NaN</td>\n",
       "      <td>NaN</td>\n",
       "      <td>NaN</td>\n",
       "      <td>NaN</td>\n",
       "      <td>NaN</td>\n",
       "      <td>NaN</td>\n",
       "      <td>NaN</td>\n",
       "      <td>NaN</td>\n",
       "      <td>NaN</td>\n",
       "      <td>NaN</td>\n",
       "      <td>NaN</td>\n",
       "      <td>NaN</td>\n",
       "      <td>False</td>\n",
       "      <td>TAFE</td>\n",
       "      <td>Sunshine Coast Institute of TAFE</td>\n",
       "      <td>Non-Delivery (corporate)</td>\n",
       "      <td>Career Move - Public Sector</td>\n",
       "      <td>Career Move - Private Sector</td>\n",
       "      <td>-</td>\n",
       "      <td>-</td>\n",
       "      <td>-</td>\n",
       "      <td>-</td>\n",
       "      <td>-</td>\n",
       "      <td>-</td>\n",
       "      <td>-</td>\n",
       "      <td>-</td>\n",
       "      <td>Other</td>\n",
       "      <td>-</td>\n",
       "      <td>NaN</td>\n",
       "    </tr>\n",
       "  </tbody>\n",
       "</table>\n",
       "</div>"
      ],
      "text/plain": [
       "               id                        separationtype  cease_date  \\\n",
       "214  5.860000e+02  Resignation-Move overseas/interstate      2013.0   \n",
       "97   2.940000e+02  Resignation-Move overseas/interstate      2012.0   \n",
       "335  6.342062e+17                           Resignation      2010.0   \n",
       "\n",
       "     dete_start_date  role_start_date         position classification  \\\n",
       "214           2012.0           2013.0     Teacher Aide            NaN   \n",
       "97               NaN              NaN  Schools Officer            NaN   \n",
       "335              NaN              NaN              NaN            NaN   \n",
       "\n",
       "         region business_unit    employment_status  \\\n",
       "214         NaN           NaN  Temporary Full-time   \n",
       "97   South East           NaN  Permanent Part-time   \n",
       "335         NaN           NaN                  NaN   \n",
       "\n",
       "    career_move_to_public_sector career_move_to_private_sector  \\\n",
       "214                        False                         False   \n",
       "97                         False                         False   \n",
       "335                          NaN                           NaN   \n",
       "\n",
       "    interpersonal_conflicts job_dissatisfaction  \\\n",
       "214                   False               False   \n",
       "97                    False               False   \n",
       "335                     NaN                 NaN   \n",
       "\n",
       "    dissatisfaction_with_the_department physical_work_environment  \\\n",
       "214                               False                     False   \n",
       "97                                False                     False   \n",
       "335                                 NaN                       NaN   \n",
       "\n",
       "    lack_of_recognition lack_of_job_security work_location  \\\n",
       "214               False                False         False   \n",
       "97                False                False         False   \n",
       "335                 NaN                  NaN           NaN   \n",
       "\n",
       "    employment_conditions maternityfamily relocation studytravel ill_health  \\\n",
       "214                 False           False      False        True      False   \n",
       "97                  False            True       True        True      False   \n",
       "335                   NaN             NaN        NaN         NaN        NaN   \n",
       "\n",
       "    traumatic_incident work_life_balance workload none_of_the_above  gender  \\\n",
       "214              False             False    False             False  Female   \n",
       "97               False             False    False             False     NaN   \n",
       "335                NaN               NaN      NaN               NaN     NaN   \n",
       "\n",
       "             age aboriginal torres_strait south_sea disability nesb  \\\n",
       "214        21-25        NaN           NaN       NaN        NaN  NaN   \n",
       "97   61 or older        NaN           NaN       NaN        NaN  NaN   \n",
       "335          NaN        NaN           NaN       NaN        NaN  NaN   \n",
       "\n",
       "    institute_service  dissatisfied institute  \\\n",
       "214               1.0         False      DETE   \n",
       "97                NaN         False      DETE   \n",
       "335               NaN         False      TAFE   \n",
       "\n",
       "                            Institute                  WorkArea  \\\n",
       "214                               NaN                       NaN   \n",
       "97                                NaN                       NaN   \n",
       "335  Sunshine Coast Institute of TAFE  Non-Delivery (corporate)   \n",
       "\n",
       "    Contributing Factors. Career Move - Public Sector   \\\n",
       "214                                                NaN   \n",
       "97                                                 NaN   \n",
       "335                        Career Move - Public Sector   \n",
       "\n",
       "    Contributing Factors. Career Move - Private Sector   \\\n",
       "214                                                NaN    \n",
       "97                                                 NaN    \n",
       "335                       Career Move - Private Sector    \n",
       "\n",
       "    Contributing Factors. Career Move - Self-employment  \\\n",
       "214                                                NaN    \n",
       "97                                                 NaN    \n",
       "335                                                  -    \n",
       "\n",
       "    Contributing Factors. Ill Health Contributing Factors. Maternity/Family  \\\n",
       "214                              NaN                                    NaN   \n",
       "97                               NaN                                    NaN   \n",
       "335                                -                                      -   \n",
       "\n",
       "    Contributing Factors. Dissatisfaction  \\\n",
       "214                                   NaN   \n",
       "97                                    NaN   \n",
       "335                                     -   \n",
       "\n",
       "    Contributing Factors. Job Dissatisfaction  \\\n",
       "214                                       NaN   \n",
       "97                                        NaN   \n",
       "335                                         -   \n",
       "\n",
       "    Contributing Factors. Interpersonal Conflict Contributing Factors. Study  \\\n",
       "214                                          NaN                         NaN   \n",
       "97                                           NaN                         NaN   \n",
       "335                                            -                           -   \n",
       "\n",
       "    Contributing Factors. Travel Contributing Factors. Other  \\\n",
       "214                          NaN                         NaN   \n",
       "97                           NaN                         NaN   \n",
       "335                            -                       Other   \n",
       "\n",
       "    Contributing Factors. NONE role_service  \n",
       "214                        NaN          NaN  \n",
       "97                         NaN          NaN  \n",
       "335                          -          NaN  "
      ]
     },
     "execution_count": 41,
     "metadata": {},
     "output_type": "execute_result"
    }
   ],
   "source": [
    "combined.sample(3)"
   ]
  },
  {
   "cell_type": "markdown",
   "metadata": {},
   "source": [
    "The new dataframe has columns with many null values. Columns with too many missing values will be dropped."
   ]
  },
  {
   "cell_type": "code",
   "execution_count": 42,
   "metadata": {},
   "outputs": [
    {
     "data": {
      "text/plain": [
       "torres_strait                                          651\n",
       "south_sea                                              648\n",
       "aboriginal                                             644\n",
       "disability                                             643\n",
       "nesb                                                   642\n",
       "business_unit                                          619\n",
       "classification                                         490\n",
       "region                                                 386\n",
       "role_start_date                                        380\n",
       "dete_start_date                                        368\n",
       "role_service                                           361\n",
       "employment_conditions                                  340\n",
       "none_of_the_above                                      340\n",
       "work_life_balance                                      340\n",
       "traumatic_incident                                     340\n",
       "ill_health                                             340\n",
       "studytravel                                            340\n",
       "relocation                                             340\n",
       "maternityfamily                                        340\n",
       "workload                                               340\n",
       "work_location                                          340\n",
       "job_dissatisfaction                                    340\n",
       "career_move_to_public_sector                           340\n",
       "career_move_to_private_sector                          340\n",
       "interpersonal_conflicts                                340\n",
       "lack_of_job_security                                   340\n",
       "dissatisfaction_with_the_department                    340\n",
       "physical_work_environment                              340\n",
       "lack_of_recognition                                    340\n",
       "Contributing Factors. Interpersonal Conflict           319\n",
       "Contributing Factors. Career Move - Public Sector      319\n",
       "Contributing Factors. Dissatisfaction                  319\n",
       "Contributing Factors. Maternity/Family                 319\n",
       "Contributing Factors. Ill Health                       319\n",
       "Contributing Factors. Career Move - Self-employment    319\n",
       "Contributing Factors. Career Move - Private Sector     319\n",
       "Contributing Factors. Job Dissatisfaction              319\n",
       "Contributing Factors. Study                            319\n",
       "Contributing Factors. Other                            319\n",
       "Contributing Factors. Travel                           319\n",
       "Contributing Factors. NONE                             319\n",
       "Institute                                              311\n",
       "WorkArea                                               311\n",
       "institute_service                                       88\n",
       "gender                                                  59\n",
       "age                                                     55\n",
       "employment_status                                       54\n",
       "position                                                53\n",
       "cease_date                                              16\n",
       "dissatisfied                                             0\n",
       "institute                                                0\n",
       "separationtype                                           0\n",
       "id                                                       0\n",
       "dtype: int64"
      ]
     },
     "execution_count": 42,
     "metadata": {},
     "output_type": "execute_result"
    }
   ],
   "source": [
    "combined.isnull().sum().sort_values(ascending=False)"
   ]
  },
  {
   "cell_type": "markdown",
   "metadata": {},
   "source": [
    "Iill drop columns with more than more than 500 missing values."
   ]
  },
  {
   "cell_type": "code",
   "execution_count": 43,
   "metadata": {},
   "outputs": [
    {
     "data": {
      "text/plain": [
       "institute_service    88\n",
       "gender               59\n",
       "age                  55\n",
       "employment_status    54\n",
       "position             53\n",
       "cease_date           16\n",
       "id                    0\n",
       "separationtype        0\n",
       "dissatisfied          0\n",
       "institute             0\n",
       "dtype: int64"
      ]
     },
     "execution_count": 43,
     "metadata": {},
     "output_type": "execute_result"
    }
   ],
   "source": [
    "# Dropping columns\n",
    "combined.dropna(thresh=500, axis=1, inplace=True)\n",
    "\n",
    "# Inspecting the new dataset\n",
    "combined.isnull().sum().sort_values(ascending=False)"
   ]
  },
  {
   "cell_type": "code",
   "execution_count": 44,
   "metadata": {},
   "outputs": [
    {
     "data": {
      "text/html": [
       "<div>\n",
       "<style scoped>\n",
       "    .dataframe tbody tr th:only-of-type {\n",
       "        vertical-align: middle;\n",
       "    }\n",
       "\n",
       "    .dataframe tbody tr th {\n",
       "        vertical-align: top;\n",
       "    }\n",
       "\n",
       "    .dataframe thead th {\n",
       "        text-align: right;\n",
       "    }\n",
       "</style>\n",
       "<table border=\"1\" class=\"dataframe\">\n",
       "  <thead>\n",
       "    <tr style=\"text-align: right;\">\n",
       "      <th></th>\n",
       "      <th>id</th>\n",
       "      <th>separationtype</th>\n",
       "      <th>cease_date</th>\n",
       "      <th>position</th>\n",
       "      <th>employment_status</th>\n",
       "      <th>gender</th>\n",
       "      <th>age</th>\n",
       "      <th>institute_service</th>\n",
       "      <th>dissatisfied</th>\n",
       "      <th>institute</th>\n",
       "    </tr>\n",
       "  </thead>\n",
       "  <tbody>\n",
       "    <tr>\n",
       "      <th>164</th>\n",
       "      <td>4.550000e+02</td>\n",
       "      <td>Resignation-Move overseas/interstate</td>\n",
       "      <td>2013.0</td>\n",
       "      <td>Public Servant</td>\n",
       "      <td>Permanent Full-time</td>\n",
       "      <td>Female</td>\n",
       "      <td>56-60</td>\n",
       "      <td>0.0</td>\n",
       "      <td>True</td>\n",
       "      <td>DETE</td>\n",
       "    </tr>\n",
       "    <tr>\n",
       "      <th>174</th>\n",
       "      <td>4.780000e+02</td>\n",
       "      <td>Resignation-Move overseas/interstate</td>\n",
       "      <td>2013.0</td>\n",
       "      <td>Cleaner</td>\n",
       "      <td>Permanent Full-time</td>\n",
       "      <td>Male</td>\n",
       "      <td>46-50</td>\n",
       "      <td>9.0</td>\n",
       "      <td>False</td>\n",
       "      <td>DETE</td>\n",
       "    </tr>\n",
       "    <tr>\n",
       "      <th>226</th>\n",
       "      <td>6.130000e+02</td>\n",
       "      <td>Resignation-Other reasons</td>\n",
       "      <td>2013.0</td>\n",
       "      <td>Teacher</td>\n",
       "      <td>Permanent Part-time</td>\n",
       "      <td>Female</td>\n",
       "      <td>51-55</td>\n",
       "      <td>20.0</td>\n",
       "      <td>False</td>\n",
       "      <td>DETE</td>\n",
       "    </tr>\n",
       "    <tr>\n",
       "      <th>317</th>\n",
       "      <td>6.341588e+17</td>\n",
       "      <td>Resignation</td>\n",
       "      <td>2010.0</td>\n",
       "      <td>Administration (AO)</td>\n",
       "      <td>Permanent Full-time</td>\n",
       "      <td>Female</td>\n",
       "      <td>21  25</td>\n",
       "      <td>1-2</td>\n",
       "      <td>False</td>\n",
       "      <td>TAFE</td>\n",
       "    </tr>\n",
       "    <tr>\n",
       "      <th>550</th>\n",
       "      <td>6.347949e+17</td>\n",
       "      <td>Resignation</td>\n",
       "      <td>2012.0</td>\n",
       "      <td>Teacher (including LVT)</td>\n",
       "      <td>Permanent Part-time</td>\n",
       "      <td>Male</td>\n",
       "      <td>56 or older</td>\n",
       "      <td>1-2</td>\n",
       "      <td>True</td>\n",
       "      <td>TAFE</td>\n",
       "    </tr>\n",
       "  </tbody>\n",
       "</table>\n",
       "</div>"
      ],
      "text/plain": [
       "               id                        separationtype  cease_date  \\\n",
       "164  4.550000e+02  Resignation-Move overseas/interstate      2013.0   \n",
       "174  4.780000e+02  Resignation-Move overseas/interstate      2013.0   \n",
       "226  6.130000e+02             Resignation-Other reasons      2013.0   \n",
       "317  6.341588e+17                           Resignation      2010.0   \n",
       "550  6.347949e+17                           Resignation      2012.0   \n",
       "\n",
       "                    position    employment_status  gender          age  \\\n",
       "164           Public Servant  Permanent Full-time  Female        56-60   \n",
       "174                  Cleaner  Permanent Full-time    Male        46-50   \n",
       "226                  Teacher  Permanent Part-time  Female        51-55   \n",
       "317      Administration (AO)  Permanent Full-time  Female       21  25   \n",
       "550  Teacher (including LVT)  Permanent Part-time    Male  56 or older   \n",
       "\n",
       "    institute_service  dissatisfied institute  \n",
       "164               0.0          True      DETE  \n",
       "174               9.0         False      DETE  \n",
       "226              20.0         False      DETE  \n",
       "317               1-2         False      TAFE  \n",
       "550               1-2          True      TAFE  "
      ]
     },
     "execution_count": 44,
     "metadata": {},
     "output_type": "execute_result"
    }
   ],
   "source": [
    "combined.sample(5)"
   ]
  },
  {
   "cell_type": "markdown",
   "metadata": {},
   "source": [
    "### 2.9: Cleaning the 'institute_service' column"
   ]
  },
  {
   "cell_type": "markdown",
   "metadata": {},
   "source": [
    "Next is to clean the `institute_service` column."
   ]
  },
  {
   "cell_type": "code",
   "execution_count": 45,
   "metadata": {},
   "outputs": [
    {
     "data": {
      "text/plain": [
       "NaN                   88\n",
       "Less than 1 year      73\n",
       "1-2                   64\n",
       "3-4                   63\n",
       "5-6                   33\n",
       "11-20                 26\n",
       "5.0                   23\n",
       "1.0                   22\n",
       "7-10                  21\n",
       "3.0                   20\n",
       "0.0                   20\n",
       "6.0                   17\n",
       "4.0                   16\n",
       "9.0                   14\n",
       "2.0                   14\n",
       "7.0                   13\n",
       "More than 20 years    10\n",
       "13.0                   8\n",
       "8.0                    8\n",
       "15.0                   7\n",
       "20.0                   7\n",
       "10.0                   6\n",
       "14.0                   6\n",
       "12.0                   6\n",
       "17.0                   6\n",
       "22.0                   6\n",
       "18.0                   5\n",
       "16.0                   5\n",
       "11.0                   4\n",
       "23.0                   4\n",
       "24.0                   4\n",
       "32.0                   3\n",
       "39.0                   3\n",
       "19.0                   3\n",
       "21.0                   3\n",
       "36.0                   2\n",
       "25.0                   2\n",
       "30.0                   2\n",
       "26.0                   2\n",
       "28.0                   2\n",
       "49.0                   1\n",
       "41.0                   1\n",
       "27.0                   1\n",
       "42.0                   1\n",
       "29.0                   1\n",
       "34.0                   1\n",
       "31.0                   1\n",
       "33.0                   1\n",
       "35.0                   1\n",
       "38.0                   1\n",
       "Name: institute_service, dtype: int64"
      ]
     },
     "execution_count": 45,
     "metadata": {},
     "output_type": "execute_result"
    }
   ],
   "source": [
    "combined['institute_service'].value_counts(dropna=False)"
   ]
  },
  {
   "cell_type": "markdown",
   "metadata": {},
   "source": [
    "The `institute_service` column is very messy. It contains data that is stored in different formats. \n",
    "\n",
    "One way to clean this column is to create categories for the years. And then group the years of service and place them in categories. \n",
    "\n",
    "Here are the categories I'll use and their definitions\n",
    "\n",
    "* New: Less than 3 years at a company\n",
    "* Experienced: 3-6 years at a company\n",
    "* Established: 7-10 years at a company\n",
    "* Veteran: 11 or more years at a company"
   ]
  },
  {
   "cell_type": "code",
   "execution_count": 46,
   "metadata": {},
   "outputs": [],
   "source": [
    "# Extracting the years of service from the institute_service column\n",
    "combined = combined.copy()\n",
    "\n",
    "pattern = r\"(\\d+)\" # regex pattern to match one or more repetitions of numbers between the range [0-9]\n",
    "\n",
    "combined['institute_service'] = combined['institute_service'].astype('str').str.extract(pattern).astype('float')"
   ]
  },
  {
   "cell_type": "code",
   "execution_count": 47,
   "metadata": {},
   "outputs": [
    {
     "data": {
      "text/plain": [
       "New            276\n",
       "Veteran        136\n",
       "Experienced     89\n",
       "NaN             88\n",
       "Established     62\n",
       "Name: service_category, dtype: int64"
      ]
     },
     "execution_count": 47,
     "metadata": {},
     "output_type": "execute_result"
    }
   ],
   "source": [
    "# We define a function for categorizing the service years\n",
    "def categorize(val):\n",
    "    if val <= 3:\n",
    "        return 'New'\n",
    "    elif val <= 6:\n",
    "        return 'Experienced'\n",
    "    elif val <= 10:\n",
    "        return 'Established'\n",
    "    elif val >= 11:\n",
    "        return 'Veteran'\n",
    "    else:\n",
    "        pd.isnull(val)\n",
    "        return np.nan\n",
    "    \n",
    "\n",
    "# Applying the function to the create a new column (service_category)\n",
    "combined['service_category'] = combined['institute_service'].apply(categorize) \n",
    "combined.drop('institute_service', axis=1, inplace=True)\n",
    "\n",
    "combined['service_category'].value_counts(dropna=False)"
   ]
  },
  {
   "cell_type": "markdown",
   "metadata": {},
   "source": [
    "### 2.9: Cleaning the 'age' column"
   ]
  },
  {
   "cell_type": "code",
   "execution_count": 48,
   "metadata": {},
   "outputs": [
    {
     "data": {
      "text/plain": [
       "51-55            71\n",
       "NaN              55\n",
       "41-45            48\n",
       "41  45           45\n",
       "46-50            42\n",
       "36-40            41\n",
       "46  50           39\n",
       "26-30            35\n",
       "21  25           33\n",
       "36  40           32\n",
       "31  35           32\n",
       "26  30           32\n",
       "21-25            29\n",
       "31-35            29\n",
       "56 or older      29\n",
       "56-60            26\n",
       "61 or older      23\n",
       "20 or younger    10\n",
       "Name: age, dtype: int64"
      ]
     },
     "execution_count": 48,
     "metadata": {},
     "output_type": "execute_result"
    }
   ],
   "source": [
    "# Exploring the age column\n",
    "combined['age'].value_counts(dropna=False)"
   ]
  },
  {
   "cell_type": "markdown",
   "metadata": {},
   "source": [
    "The `age` column is just as messy as the `institute_service` column once was. I'll clean it up and categorize it just like we did with the `institute_service` column.\n",
    "\n",
    "However, I'll create 3 groups for the `age` category. Each group will represent employee in different stages of their career, for instance, I'll have:\n",
    "* Group 1: (24 and below) this group is for young people just entering the labour market\n",
    "* Group 2: (25 to 54) this group is for employee in their prime working lives\n",
    "* Group 3: (54 and above) this group is employee who have passed the peak of their careers and entering the retirement age."
   ]
  },
  {
   "cell_type": "code",
   "execution_count": 49,
   "metadata": {},
   "outputs": [
    {
     "data": {
      "text/plain": [
       "(33.667, 47.333]    247\n",
       "(19.958, 33.667]    200\n",
       "(47.333, 61.0]      149\n",
       "Name: age, dtype: int64"
      ]
     },
     "execution_count": 49,
     "metadata": {},
     "output_type": "execute_result"
    }
   ],
   "source": [
    "combined['age'] = combined['age'].astype('str').str.extract(pattern).astype('float')\n",
    "\n",
    "combined.age.value_counts(bins=3)"
   ]
  },
  {
   "cell_type": "code",
   "execution_count": 50,
   "metadata": {},
   "outputs": [
    {
     "data": {
      "text/plain": [
       "Group 2: (25 to 50 years)        446\n",
       "Group 3: (55 years and above)     78\n",
       "Group 1: (24 years and below)     72\n",
       "NaN                               55\n",
       "Name: age_groups, dtype: int64"
      ]
     },
     "execution_count": 50,
     "metadata": {},
     "output_type": "execute_result"
    }
   ],
   "source": [
    "# Define a function to aggregate the age ranges into groups\n",
    "def aggregate_age(value):\n",
    "    if value <= 24:\n",
    "        return 'Group 1: (24 years and below)'\n",
    "    elif value == 25 or value <= 54:\n",
    "        return 'Group 2: (25 to 50 years)'\n",
    "    elif value >= 55:\n",
    "        return 'Group 3: (55 years and above)'\n",
    "    else:\n",
    "        pd.isnull(value)\n",
    "        return np.nan\n",
    "    \n",
    "\n",
    "# Applying the aggregate function to the age column\n",
    "combined['age_groups'] = combined['age'].apply(aggregate_age)\n",
    "combined.drop('age', axis=1, inplace=True)\n",
    "\n",
    "combined['age_groups'].value_counts(dropna=False)"
   ]
  },
  {
   "cell_type": "markdown",
   "metadata": {},
   "source": [
    "The dataset still has some missing values, let's look at the columns with missing values."
   ]
  },
  {
   "cell_type": "code",
   "execution_count": 51,
   "metadata": {},
   "outputs": [
    {
     "data": {
      "text/plain": [
       "service_category     88\n",
       "gender               59\n",
       "age_groups           55\n",
       "employment_status    54\n",
       "position             53\n",
       "cease_date           16\n",
       "id                    0\n",
       "separationtype        0\n",
       "dissatisfied          0\n",
       "institute             0\n",
       "dtype: int64"
      ]
     },
     "execution_count": 51,
     "metadata": {},
     "output_type": "execute_result"
    }
   ],
   "source": [
    "combined.isnull().sum().sort_values(ascending=False)"
   ]
  },
  {
   "cell_type": "markdown",
   "metadata": {},
   "source": [
    "Among the columns with missing values, the `service_category` and `age_groups` are 2 columns that contain information that are vital to this analysis.\n",
    "\n",
    "I may have to use some of Pandas built-in methods for filling in missing values.\n",
    "\n",
    "First, let's see the descriptive statistics of these columns."
   ]
  },
  {
   "cell_type": "code",
   "execution_count": 52,
   "metadata": {},
   "outputs": [
    {
     "data": {
      "text/html": [
       "<div>\n",
       "<style scoped>\n",
       "    .dataframe tbody tr th:only-of-type {\n",
       "        vertical-align: middle;\n",
       "    }\n",
       "\n",
       "    .dataframe tbody tr th {\n",
       "        vertical-align: top;\n",
       "    }\n",
       "\n",
       "    .dataframe thead th {\n",
       "        text-align: right;\n",
       "    }\n",
       "</style>\n",
       "<table border=\"1\" class=\"dataframe\">\n",
       "  <thead>\n",
       "    <tr style=\"text-align: right;\">\n",
       "      <th></th>\n",
       "      <th>age_groups</th>\n",
       "      <th>service_category</th>\n",
       "    </tr>\n",
       "  </thead>\n",
       "  <tbody>\n",
       "    <tr>\n",
       "      <th>count</th>\n",
       "      <td>596</td>\n",
       "      <td>563</td>\n",
       "    </tr>\n",
       "    <tr>\n",
       "      <th>unique</th>\n",
       "      <td>3</td>\n",
       "      <td>4</td>\n",
       "    </tr>\n",
       "    <tr>\n",
       "      <th>top</th>\n",
       "      <td>Group 2: (25 to 50 years)</td>\n",
       "      <td>New</td>\n",
       "    </tr>\n",
       "    <tr>\n",
       "      <th>freq</th>\n",
       "      <td>446</td>\n",
       "      <td>276</td>\n",
       "    </tr>\n",
       "  </tbody>\n",
       "</table>\n",
       "</div>"
      ],
      "text/plain": [
       "                       age_groups service_category\n",
       "count                         596              563\n",
       "unique                          3                4\n",
       "top     Group 2: (25 to 50 years)              New\n",
       "freq                          446              276"
      ]
     },
     "execution_count": 52,
     "metadata": {},
     "output_type": "execute_result"
    }
   ],
   "source": [
    "combined[['age_groups', 'service_category']].describe()"
   ]
  },
  {
   "cell_type": "markdown",
   "metadata": {},
   "source": [
    "Since the data points are categorical, I can't just use the mean. meadian or mode values, to fill the missing values. So, I'll proceed to use the forward fill method to fill in the missing values in the dataset. \n",
    "\n",
    "A forward fill will ensure that every data point is well-represented and this will prevent a skewed data. Plus the mean will remain the same."
   ]
  },
  {
   "cell_type": "code",
   "execution_count": 53,
   "metadata": {},
   "outputs": [
    {
     "data": {
      "text/html": [
       "<div>\n",
       "<style scoped>\n",
       "    .dataframe tbody tr th:only-of-type {\n",
       "        vertical-align: middle;\n",
       "    }\n",
       "\n",
       "    .dataframe tbody tr th {\n",
       "        vertical-align: top;\n",
       "    }\n",
       "\n",
       "    .dataframe thead th {\n",
       "        text-align: right;\n",
       "    }\n",
       "</style>\n",
       "<table border=\"1\" class=\"dataframe\">\n",
       "  <thead>\n",
       "    <tr style=\"text-align: right;\">\n",
       "      <th></th>\n",
       "      <th>age_groups</th>\n",
       "      <th>service_category</th>\n",
       "    </tr>\n",
       "  </thead>\n",
       "  <tbody>\n",
       "    <tr>\n",
       "      <th>count</th>\n",
       "      <td>651</td>\n",
       "      <td>651</td>\n",
       "    </tr>\n",
       "    <tr>\n",
       "      <th>unique</th>\n",
       "      <td>3</td>\n",
       "      <td>4</td>\n",
       "    </tr>\n",
       "    <tr>\n",
       "      <th>top</th>\n",
       "      <td>Group 2: (25 to 50 years)</td>\n",
       "      <td>New</td>\n",
       "    </tr>\n",
       "    <tr>\n",
       "      <th>freq</th>\n",
       "      <td>490</td>\n",
       "      <td>315</td>\n",
       "    </tr>\n",
       "  </tbody>\n",
       "</table>\n",
       "</div>"
      ],
      "text/plain": [
       "                       age_groups service_category\n",
       "count                         651              651\n",
       "unique                          3                4\n",
       "top     Group 2: (25 to 50 years)              New\n",
       "freq                          490              315"
      ]
     },
     "execution_count": 53,
     "metadata": {},
     "output_type": "execute_result"
    }
   ],
   "source": [
    "# Filling the missing values\n",
    "combined['age_groups'] = combined['age_groups'].fillna(method='ffill')\n",
    "combined['service_category'] = combined['service_category'].fillna(method='ffill')\n",
    "\n",
    "# combined['age_groups'].value_counts(dropna=False)\n",
    "combined[['age_groups', 'service_category']].describe()"
   ]
  },
  {
   "cell_type": "markdown",
   "metadata": {},
   "source": [
    "### 2.9.1: Cleaning the 'gender' & 'employment_status' columns"
   ]
  },
  {
   "cell_type": "markdown",
   "metadata": {},
   "source": [
    "Next is to examine the `employment_status` and `gender` columns. "
   ]
  },
  {
   "cell_type": "code",
   "execution_count": 54,
   "metadata": {},
   "outputs": [
    {
     "data": {
      "text/plain": [
       "Permanent Full-time    256\n",
       "Permanent Part-time    150\n",
       "Temporary Full-time    120\n",
       "NaN                     54\n",
       "Temporary Part-time     37\n",
       "Contract/casual         29\n",
       "Casual                   5\n",
       "Name: employment_status, dtype: int64"
      ]
     },
     "execution_count": 54,
     "metadata": {},
     "output_type": "execute_result"
    }
   ],
   "source": [
    "combined['employment_status'].value_counts(dropna=False)"
   ]
  },
  {
   "cell_type": "markdown",
   "metadata": {},
   "source": [
    "The data in the `employement_status` needs a little bit of cleaning. I'll do that quickly:"
   ]
  },
  {
   "cell_type": "code",
   "execution_count": 55,
   "metadata": {},
   "outputs": [
    {
     "data": {
      "text/plain": [
       "Permanent Full-time    256\n",
       "Permanent Part-time    150\n",
       "Temporary Full-time    120\n",
       "NaN                     54\n",
       "Temporary Part-time     37\n",
       "Contract/casual         34\n",
       "Name: employment_status, dtype: int64"
      ]
     },
     "execution_count": 55,
     "metadata": {},
     "output_type": "execute_result"
    }
   ],
   "source": [
    "mapping_dict = {\n",
    "    'Permanent Full-time': 'Permanent Full-time',\n",
    "    'Permanent Part-time': 'Permanent Part-time',\n",
    "    'Temporary Full-time': 'Temporary Full-time',\n",
    "    'Temporary Part-time': 'Temporary Part-time',\n",
    "    'Contract/casual': 'Contract/casual',\n",
    "    'Casual': 'Contract/casual',\n",
    "    'Nan':'Nan',\n",
    "}\n",
    "\n",
    "#passing the dict as a argument to series.map()\n",
    "combined['employment_status'] = combined['employment_status'].map(mapping_dict)\n",
    "combined['employment_status'].value_counts(dropna=False)"
   ]
  },
  {
   "cell_type": "code",
   "execution_count": 56,
   "metadata": {},
   "outputs": [
    {
     "data": {
      "text/plain": [
       "Female    424\n",
       "Male      168\n",
       "NaN        59\n",
       "Name: gender, dtype: int64"
      ]
     },
     "execution_count": 56,
     "metadata": {},
     "output_type": "execute_result"
    }
   ],
   "source": [
    "combined['gender'].value_counts(dropna=False)"
   ]
  },
  {
   "cell_type": "code",
   "execution_count": 57,
   "metadata": {},
   "outputs": [
    {
     "data": {
      "text/html": [
       "<div>\n",
       "<style scoped>\n",
       "    .dataframe tbody tr th:only-of-type {\n",
       "        vertical-align: middle;\n",
       "    }\n",
       "\n",
       "    .dataframe tbody tr th {\n",
       "        vertical-align: top;\n",
       "    }\n",
       "\n",
       "    .dataframe thead th {\n",
       "        text-align: right;\n",
       "    }\n",
       "</style>\n",
       "<table border=\"1\" class=\"dataframe\">\n",
       "  <thead>\n",
       "    <tr style=\"text-align: right;\">\n",
       "      <th></th>\n",
       "      <th>employment_status</th>\n",
       "      <th>gender</th>\n",
       "    </tr>\n",
       "  </thead>\n",
       "  <tbody>\n",
       "    <tr>\n",
       "      <th>count</th>\n",
       "      <td>597</td>\n",
       "      <td>592</td>\n",
       "    </tr>\n",
       "    <tr>\n",
       "      <th>unique</th>\n",
       "      <td>5</td>\n",
       "      <td>2</td>\n",
       "    </tr>\n",
       "    <tr>\n",
       "      <th>top</th>\n",
       "      <td>Permanent Full-time</td>\n",
       "      <td>Female</td>\n",
       "    </tr>\n",
       "    <tr>\n",
       "      <th>freq</th>\n",
       "      <td>256</td>\n",
       "      <td>424</td>\n",
       "    </tr>\n",
       "  </tbody>\n",
       "</table>\n",
       "</div>"
      ],
      "text/plain": [
       "          employment_status  gender\n",
       "count                   597     592\n",
       "unique                    5       2\n",
       "top     Permanent Full-time  Female\n",
       "freq                    256     424"
      ]
     },
     "execution_count": 57,
     "metadata": {},
     "output_type": "execute_result"
    }
   ],
   "source": [
    "combined[['employment_status', 'gender']].describe()"
   ]
  },
  {
   "cell_type": "markdown",
   "metadata": {},
   "source": [
    "Since the `employment_status` and `gender` are categorical columns and the number of missing values in each of the columns are less than 10%. I can also use the forward fill pandas method to fill the null values. "
   ]
  },
  {
   "cell_type": "code",
   "execution_count": 58,
   "metadata": {},
   "outputs": [
    {
     "data": {
      "text/html": [
       "<div>\n",
       "<style scoped>\n",
       "    .dataframe tbody tr th:only-of-type {\n",
       "        vertical-align: middle;\n",
       "    }\n",
       "\n",
       "    .dataframe tbody tr th {\n",
       "        vertical-align: top;\n",
       "    }\n",
       "\n",
       "    .dataframe thead th {\n",
       "        text-align: right;\n",
       "    }\n",
       "</style>\n",
       "<table border=\"1\" class=\"dataframe\">\n",
       "  <thead>\n",
       "    <tr style=\"text-align: right;\">\n",
       "      <th></th>\n",
       "      <th>employment_status</th>\n",
       "      <th>gender</th>\n",
       "    </tr>\n",
       "  </thead>\n",
       "  <tbody>\n",
       "    <tr>\n",
       "      <th>count</th>\n",
       "      <td>651</td>\n",
       "      <td>651</td>\n",
       "    </tr>\n",
       "    <tr>\n",
       "      <th>unique</th>\n",
       "      <td>5</td>\n",
       "      <td>2</td>\n",
       "    </tr>\n",
       "    <tr>\n",
       "      <th>top</th>\n",
       "      <td>Permanent Full-time</td>\n",
       "      <td>Female</td>\n",
       "    </tr>\n",
       "    <tr>\n",
       "      <th>freq</th>\n",
       "      <td>278</td>\n",
       "      <td>473</td>\n",
       "    </tr>\n",
       "  </tbody>\n",
       "</table>\n",
       "</div>"
      ],
      "text/plain": [
       "          employment_status  gender\n",
       "count                   651     651\n",
       "unique                    5       2\n",
       "top     Permanent Full-time  Female\n",
       "freq                    278     473"
      ]
     },
     "execution_count": 58,
     "metadata": {},
     "output_type": "execute_result"
    }
   ],
   "source": [
    "# Filling the missing values\n",
    "combined['employment_status'] = combined['employment_status'].fillna(method='ffill')\n",
    "combined['gender'] = combined['gender'].fillna(method='ffill')\n",
    "\n",
    "# combined['age_groups'].value_counts(dropna=False)\n",
    "combined[['employment_status', 'gender']].describe()"
   ]
  },
  {
   "cell_type": "markdown",
   "metadata": {},
   "source": [
    "### 2.9.2: Cleaning the 'position' column"
   ]
  },
  {
   "cell_type": "code",
   "execution_count": 59,
   "metadata": {},
   "outputs": [
    {
     "data": {
      "text/plain": [
       "position             53\n",
       "cease_date           16\n",
       "id                    0\n",
       "separationtype        0\n",
       "employment_status     0\n",
       "gender                0\n",
       "dissatisfied          0\n",
       "institute             0\n",
       "service_category      0\n",
       "age_groups            0\n",
       "dtype: int64"
      ]
     },
     "execution_count": 59,
     "metadata": {},
     "output_type": "execute_result"
    }
   ],
   "source": [
    "combined.isnull().sum().sort_values(ascending=False)"
   ]
  },
  {
   "cell_type": "code",
   "execution_count": 60,
   "metadata": {},
   "outputs": [
    {
     "data": {
      "text/plain": [
       "Administration (AO)                                        148\n",
       "Teacher                                                    129\n",
       "Teacher (including LVT)                                     95\n",
       "Teacher Aide                                                63\n",
       "NaN                                                         53\n",
       "Cleaner                                                     39\n",
       "Public Servant                                              30\n",
       "Professional Officer (PO)                                   16\n",
       "Operational (OO)                                            13\n",
       "Head of Curriculum/Head of Special Education                10\n",
       "School Administrative Staff                                  8\n",
       "Technical Officer                                            8\n",
       "Schools Officer                                              7\n",
       "Workplace Training Officer                                   6\n",
       "Technical Officer (TO)                                       5\n",
       "School Based Professional Staff (Therapist, nurse, etc)      5\n",
       "Executive (SES/SO)                                           4\n",
       "Other                                                        3\n",
       "Tutor                                                        3\n",
       "Guidance Officer                                             3\n",
       "Professional Officer                                         2\n",
       "Business Service Manager                                     1\n",
       "Name: position, dtype: int64"
      ]
     },
     "execution_count": 60,
     "metadata": {},
     "output_type": "execute_result"
    }
   ],
   "source": [
    "combined['position'].value_counts(dropna=False)"
   ]
  },
  {
   "cell_type": "markdown",
   "metadata": {},
   "source": [
    "Since the dataset is from the Department of Education in Australia, all survey respondents were employed in schools as either 'Teaching staff' and 'Non-teaching staff.'\n",
    "\n",
    "With this mind, I can clean up the `position` column by grouping them in these categories. \n",
    "\n",
    "Every position that is concerned with teaching will be classified as 'Teaching staff', while every other role will be collectively grouped as 'Non-teaching staff.'"
   ]
  },
  {
   "cell_type": "code",
   "execution_count": 61,
   "metadata": {},
   "outputs": [
    {
     "data": {
      "text/plain": [
       "Administration (AO)                                        174\n",
       "Teacher                                                    131\n",
       "Teacher (including LVT)                                    107\n",
       "Teacher Aide                                                64\n",
       "Cleaner                                                     39\n",
       "Public Servant                                              30\n",
       "Professional Officer (PO)                                   23\n",
       "Operational (OO)                                            13\n",
       "Head of Curriculum/Head of Special Education                10\n",
       "Workplace Training Officer                                   8\n",
       "Technical Officer                                            8\n",
       "School Administrative Staff                                  8\n",
       "Schools Officer                                              7\n",
       "Technical Officer (TO)                                       6\n",
       "School Based Professional Staff (Therapist, nurse, etc)      5\n",
       "Guidance Officer                                             4\n",
       "Tutor                                                        4\n",
       "Executive (SES/SO)                                           4\n",
       "Other                                                        3\n",
       "Professional Officer                                         2\n",
       "Business Service Manager                                     1\n",
       "Name: position, dtype: int64"
      ]
     },
     "execution_count": 61,
     "metadata": {},
     "output_type": "execute_result"
    }
   ],
   "source": [
    "combined['position'] = combined['position'].fillna(method='ffill')\n",
    "combined['position'].value_counts(dropna=False)"
   ]
  },
  {
   "cell_type": "code",
   "execution_count": 62,
   "metadata": {},
   "outputs": [],
   "source": [
    "teaching_staff = ['Teacher', 'Teacher (including LVT)', 'Teacher Aide', 'Workplace Training Officer', \n",
    "                  'Tutor', 'Guidance Officer']\n",
    "\n",
    "# Define a function to categorize the values in the position column\n",
    "def update_position(role):\n",
    "    if role in teaching_staff:\n",
    "        return 'Teaching staff'\n",
    "    else:\n",
    "        return 'Non-Teaching staff'\n",
    "\n",
    "\n",
    "# Apply function to the position column\n",
    "combined['role'] = combined['position'].apply(update_position)"
   ]
  },
  {
   "cell_type": "code",
   "execution_count": 63,
   "metadata": {},
   "outputs": [
    {
     "data": {
      "text/plain": [
       "Non-Teaching staff    333\n",
       "Teaching staff        318\n",
       "Name: role, dtype: int64"
      ]
     },
     "execution_count": 63,
     "metadata": {},
     "output_type": "execute_result"
    }
   ],
   "source": [
    "combined['role'].value_counts(dropna=False)"
   ]
  },
  {
   "cell_type": "code",
   "execution_count": 64,
   "metadata": {},
   "outputs": [
    {
     "data": {
      "text/plain": [
       "id                    0\n",
       "separationtype        0\n",
       "cease_date           16\n",
       "position              0\n",
       "employment_status     0\n",
       "gender                0\n",
       "dissatisfied          0\n",
       "institute             0\n",
       "service_category      0\n",
       "age_groups            0\n",
       "role                  0\n",
       "dtype: int64"
      ]
     },
     "execution_count": 64,
     "metadata": {},
     "output_type": "execute_result"
    }
   ],
   "source": [
    "combined.isnull().sum()"
   ]
  },
  {
   "cell_type": "code",
   "execution_count": 65,
   "metadata": {},
   "outputs": [
    {
     "data": {
      "text/plain": [
       "New            315\n",
       "Veteran        154\n",
       "Experienced    108\n",
       "Established     74\n",
       "Name: service_category, dtype: int64"
      ]
     },
     "execution_count": 65,
     "metadata": {},
     "output_type": "execute_result"
    }
   ],
   "source": [
    "combined['service_category'].value_counts()"
   ]
  },
  {
   "cell_type": "markdown",
   "metadata": {},
   "source": [
    "I have successfully cleaned up our dataset and effectively handled the missing values, except for the `cease_date.` But I don't really need that column for this analysis, so I can ignore it for now and proceed to the next step of the data analysis."
   ]
  },
  {
   "cell_type": "markdown",
   "metadata": {},
   "source": [
    "## Part 3: Data Analysis 1"
   ]
  },
  {
   "cell_type": "markdown",
   "metadata": {},
   "source": [
    "At the start of this project, I defined our objectives for this project, and that is to find out:\n",
    "\n",
    "* If employees who only worked for the institutes for a short period of time are resigning due to some kind of dissatisfaction? What about employees who have been there longer?\n",
    "\n",
    "* If younger employees are resigning due to some kind of dissatisfaction? What about older employees?\n",
    "\n",
    "\n",
    "So, the first step in the analysis is to use the dataset to find answers to the above problems.\n",
    "\n",
    "To answer the find question, I will examine the `service_category` column, because this column tells us how long each employee worked in each institute before resigning.\n",
    "\n",
    "And to answer the second question, I will examine the `age_group` column, because this column places each employee that resigned in a certain age group, depending on the employee's age. \n",
    "\n",
    "I will first create some functions to simplify the analysis."
   ]
  },
  {
   "cell_type": "code",
   "execution_count": 96,
   "metadata": {},
   "outputs": [],
   "source": [
    "def generate_df(df, group_col, count_col):\n",
    "    \"\"\"\n",
    "    Creates a new df from provided arguments\n",
    "        Params:\n",
    "            :df (dataframe): dataframe of interest\n",
    "            :group_col(pandas series): column to group by\n",
    "            :count_col(pandas series): numerical column to aggregate\n",
    "        Output:\n",
    "            A new df showing the percentage of dissatisfied employees.\n",
    "    \"\"\"\n",
    "    new_df = (df.groupby(by=group_col).sum()[count_col]).to_frame()\n",
    "    new_df['% of total'] = round(df[group_col].value_counts(normalize=True)*100).astype(int)\n",
    "    new_df = new_df.reset_index()\n",
    "    return new_df.sort_values(by=['% of total'], ascending=False)\n",
    "\n",
    "\n",
    "def plot_bar(data_x, data_y, fig = [8,4], colors = '#2e5530', \n",
    "             title={'x':1.0, 'y':1.0, 's':'', 'size':10}, \n",
    "             text={'x':- 25.9, 'y':- 0.1, 's':'', 'color':''}):\n",
    "    \"\"\"\n",
    "    Plots and customizes a bar plot from provided arguments\n",
    "        Params:\n",
    "            :data_x and data_y: input for x and y axis\n",
    "            :fig: fig size for the bar plot\n",
    "            :colors: custom color for bar plot\n",
    "            :title: title of bar plot\n",
    "            :text: custom label for each bar\n",
    "        Output:\n",
    "            A new df showing the percentage of dissatisfied employees.\n",
    "    \"\"\"\n",
    "    plt.style.use('fivethirtyeight')\n",
    "    plt.figure(figsize =(fig[0], fig[1]))\n",
    "    \n",
    "    # Plot bar\n",
    "    ax = sns.barplot(x=data_y, y=data_x, color=colors, orient='h')\n",
    "    \n",
    "    # Customize plot\n",
    "    ax.text(x=title['x'], y=title['y'], s=title['s'], size=title['size'])\n",
    "    plt.grid(False)\n",
    "    ax.set_xticks([])\n",
    "    plt.xlabel(None)\n",
    "    plt.ylabel(None)\n",
    "    \n",
    "    # Add labels to each bar\n",
    "    for i, v in enumerate(data_y):\n",
    "        plt.text(x=int(v)+text['x'], y=int(i)+text['y'], s=str(v)+'%', color=text['color'])\n",
    "\n",
    "    return ax"
   ]
  },
  {
   "cell_type": "markdown",
   "metadata": {},
   "source": [
    "### 3.0: What percentage of employees resigned due to dissatisfaction?"
   ]
  },
  {
   "cell_type": "markdown",
   "metadata": {},
   "source": [
    "Here I'll compare the percentage of resignations from employees who worked for the institute in a short period vs employees for worked for longer.\n",
    "\n",
    "In other words, I'm investigating the percentage of dissatisfation by length of service. "
   ]
  },
  {
   "cell_type": "code",
   "execution_count": 98,
   "metadata": {},
   "outputs": [
    {
     "data": {
      "text/plain": [
       "<AxesSubplot:>"
      ]
     },
     "execution_count": 98,
     "metadata": {},
     "output_type": "execute_result"
    },
    {
     "data": {
      "image/png": "[encoded data removed]",
      "text/plain": [
       "<Figure size 576x259.2 with 1 Axes>"
      ]
     },
     "metadata": {},
     "output_type": "display_data"
    }
   ],
   "source": [
    "# percentage of dissatisfation by length of service\n",
    "dissatisfaction_by_service_year = generate_df(combined, 'service_category', 'dissatisfied')\n",
    "\n",
    "plot_bar(dissatisfaction_by_service_year.service_category, dissatisfaction_by_service_year['% of total'], fig=[8,3.6], colors='#1b9e77',\n",
    "         title={'x':-9, 'y':-0.8, 's':'Percentage of dissatisfation by length of service', 'size':20},\n",
    "         text={'x':-5, 'y':+0.03, 's':'', 'color':'w'})\n"
   ]
  },
  {
   "cell_type": "markdown",
   "metadata": {},
   "source": [
    "The table above tells us that majority of dissatisfied employees only worked in the institute for a relatively short time. \n",
    "\n",
    "#### Insight:\n",
    "* We can clearly see that 48% of dissatisfied employees worked for the institute for a relatively short time.\n",
    "* This is followed by veteran employees (employee who have worked for the longest time), who make up 24% of dissatisfied employees."
   ]
  },
  {
   "cell_type": "markdown",
   "metadata": {},
   "source": [
    "### 3.1: Percentage of dissatisfied employees by age"
   ]
  },
  {
   "cell_type": "markdown",
   "metadata": {},
   "source": [
    "Here, I'll examine how many people in each age group resigned due to some kind of dissatisfaction."
   ]
  },
  {
   "cell_type": "code",
   "execution_count": 100,
   "metadata": {},
   "outputs": [
    {
     "data": {
      "text/plain": [
       "([<matplotlib.axis.YTick at 0x26dfa686ee0>,\n",
       "  <matplotlib.axis.YTick at 0x26dfa686760>,\n",
       "  <matplotlib.axis.YTick at 0x26dfa67e610>],\n",
       " [Text(0, 0, '25 to 50 years'),\n",
       "  Text(0, 1, '55 years and above'),\n",
       "  Text(0, 2, '24 years and below')])"
      ]
     },
     "execution_count": 100,
     "metadata": {},
     "output_type": "execute_result"
    },
    {
     "data": {
      "image/png": "[encoded data removed]",
      "text/plain": [
       "<Figure size 576x216 with 1 Axes>"
      ]
     },
     "metadata": {},
     "output_type": "display_data"
    }
   ],
   "source": [
    "# percentage of dissatisfation by age\n",
    "dissatisfied_employees_by_age = generate_df(combined, 'age_groups', 'dissatisfied')\n",
    "\n",
    "plot_bar(dissatisfied_employees_by_age.age_groups, dissatisfied_employees_by_age['% of total'], fig=[8,3], colors='#1b9e77',\n",
    "         title={'x':-22, 'y':-0.85, 's':'Percentage of dissatisfation by employee age', 'size':20},\n",
    "         text={'x':-8, 'y':+0.03, 's':'', 'color':'w'})\n",
    "\n",
    "plt.yticks(range(3), ['25 to 50 years', '55 years and above', '24 years and below'], rotation=0)"
   ]
  },
  {
   "cell_type": "markdown",
   "metadata": {},
   "source": [
    "From the chart above, we can see that most of the employees that resigned fall in the age group of 25 to 50 years. These are people in their prime working lives. Which can explain why they're resigned, since they're in their prime, it's possible that their resignation is because they were dissatisfied with their role and wanted a career change.\n",
    "\n",
    "We can also see that the young employees who are just entering into the job market (from 24 years and below), have the least resignation, which is closely follwed by older employees. "
   ]
  },
  {
   "cell_type": "markdown",
   "metadata": {},
   "source": [
    "### 3.2: Percentage of dissatisfied employees by gender"
   ]
  },
  {
   "cell_type": "code",
   "execution_count": 299,
   "metadata": {},
   "outputs": [
    {
     "data": {
      "text/plain": [
       "<AxesSubplot:>"
      ]
     },
     "execution_count": 299,
     "metadata": {},
     "output_type": "execute_result"
    },
    {
     "data": {
      "image/png": "[encoded data removed]",
      "text/plain": [
       "<Figure size 576x144 with 1 Axes>"
      ]
     },
     "metadata": {},
     "output_type": "display_data"
    }
   ],
   "source": [
    "# percentage of dissatisfation by gender\n",
    "dissatisfied_employees_by_gender = generate_df(combined, 'gender', 'dissatisfied')\n",
    "\n",
    "plot_bar(dissatisfied_employees_by_gender.gender, dissatisfied_employees_by_gender['% of total'], fig=[8,2], colors='#1b9e77',\n",
    "         title={'x':-9, 'y':-0.8, 's':'Percentage of dissatisfation by employee gender', 'size':20},\n",
    "         text={'x':-8, 'y':+0.03, 's':'', 'color':'w'})"
   ]
  },
  {
   "cell_type": "markdown",
   "metadata": {},
   "source": [
    "From the chart above, we can see that 73% of dissatisfied employees are female, while only 27% of dissatisfied employees are male."
   ]
  },
  {
   "cell_type": "markdown",
   "metadata": {},
   "source": [
    "### 3.3: Percentage of dissatisfied employees by role"
   ]
  },
  {
   "cell_type": "code",
   "execution_count": 300,
   "metadata": {},
   "outputs": [
    {
     "data": {
      "text/plain": [
       "<AxesSubplot:>"
      ]
     },
     "execution_count": 300,
     "metadata": {},
     "output_type": "execute_result"
    },
    {
     "data": {
      "image/png": "[encoded data removed]",
      "text/plain": [
       "<Figure size 504x144 with 1 Axes>"
      ]
     },
     "metadata": {},
     "output_type": "display_data"
    }
   ],
   "source": [
    "# percentage of dissatisfation by role\n",
    "dissatisfied_employees_by_role = generate_df(combined, 'role', 'dissatisfied')\n",
    "\n",
    "plot_bar(dissatisfied_employees_by_role.role, dissatisfied_employees_by_role['% of total'], fig=[7,2], colors='#1b9e77',\n",
    "         title={'x':-16, 'y':-0.8, 's':'Percentage of dissatisfation by employee role', 'size':20},\n",
    "         text={'x':-8, 'y':+0.03, 's':'', 'color':'w'})"
   ]
  },
  {
   "cell_type": "markdown",
   "metadata": {},
   "source": [
    "Non-Teaching staff are slightly more dissatisfied with their job than teaching staff. "
   ]
  },
  {
   "cell_type": "markdown",
   "metadata": {},
   "source": [
    "### 3.4: Percentage of dissatisfied employees by employee status"
   ]
  },
  {
   "cell_type": "code",
   "execution_count": 106,
   "metadata": {},
   "outputs": [
    {
     "data": {
      "text/plain": [
       "<AxesSubplot:>"
      ]
     },
     "execution_count": 106,
     "metadata": {},
     "output_type": "execute_result"
    },
    {
     "data": {
      "image/png": "[encoded data removed]",
      "text/plain": [
       "<Figure size 576x288 with 1 Axes>"
      ]
     },
     "metadata": {},
     "output_type": "display_data"
    }
   ],
   "source": [
    "# percentage of dissatisfation by employment status\n",
    "dissatisfied_employees_by_status = generate_df(combined, 'employment_status', 'dissatisfied')\n",
    "\n",
    "plot_bar(dissatisfied_employees_by_status.employment_status, dissatisfied_employees_by_status['% of total'], fig=[8,4], colors='#1b9e77',\n",
    "         title={'x':-13, 'y':-0.8, 's':'Percentage of dissatisfation by employee status', 'size':20},\n",
    "         text={'x':-4.3, 'y':+0.03, 's':'', 'color':'w'})"
   ]
  },
  {
   "cell_type": "markdown",
   "metadata": {},
   "source": [
    "The data tells us that employees who hold permanent full-time positions are more dissatisfied that other employees, at 43%. "
   ]
  },
  {
   "cell_type": "markdown",
   "metadata": {},
   "source": [
    "## Part 4: Data Anlysis 2"
   ]
  },
  {
   "cell_type": "markdown",
   "metadata": {},
   "source": [
    "For the second part of this data analysis, I will split the `combined` dataset by the `institute` column to analyze data from each survey separately. \n",
    "\n",
    "I'll do the same analysis as before, but this time for each institute."
   ]
  },
  {
   "cell_type": "code",
   "execution_count": 77,
   "metadata": {},
   "outputs": [
    {
     "data": {
      "text/plain": [
       "TAFE    340\n",
       "DETE    311\n",
       "Name: institute, dtype: int64"
      ]
     },
     "execution_count": 77,
     "metadata": {},
     "output_type": "execute_result"
    }
   ],
   "source": [
    "combined['institute'].value_counts()"
   ]
  },
  {
   "cell_type": "code",
   "execution_count": 78,
   "metadata": {},
   "outputs": [],
   "source": [
    "# split the dataframe on the institute column\n",
    "dete = combined[combined['institute'] == 'DETE']\n",
    "\n",
    "tafe = combined[combined['institute'] == 'TAFE']\n"
   ]
  },
  {
   "cell_type": "markdown",
   "metadata": {},
   "source": [
    "Before I begin, I'll define another function to help make calculations and generate tables."
   ]
  },
  {
   "cell_type": "code",
   "execution_count": 107,
   "metadata": {},
   "outputs": [],
   "source": [
    "def create_df(df1, df2, group_col, count_col):\n",
    "    first_df = (df1.groupby(by=group_col).sum()[count_col]).sort_values(ascending=False).to_frame()\n",
    "    first_df['dete_percent'] = round(df1[group_col].value_counts(normalize=True)*100).astype(int)\n",
    "\n",
    "    first_df = first_df.reset_index()\n",
    "    first_df.rename(columns = {'dissatisfied':'dete'}, inplace = True)\n",
    "\n",
    "    second_df = (df2.groupby(by=group_col).sum()[count_col]).sort_values(ascending=False).to_frame()\n",
    "    second_df['tafe_percent'] = round(df2[group_col].value_counts(normalize=True)*100).astype(int)\n",
    "\n",
    "    second_df = second_df.reset_index()\n",
    "    second_df.rename(columns = {'dissatisfied':'tafe'}, inplace = True)\n",
    "    \n",
    "    new_df = first_df.set_index(group_col).join(second_df.set_index(group_col))\n",
    "    new_df = new_df.reset_index()\n",
    "    return new_df\n",
    "\n",
    "\n",
    "def plot_bars(data_y, data_x, data_x2, fig = [8,4], left=[-14, 4], colors = ['#A890F0', '#93c47d'], \n",
    "             title={'x':15, 'y':4.5, 's':'', 'size':23}, \n",
    "             bar1_labels={'x':-14, 'y':-0.05, 's':'', 'color':'w'},\n",
    "             bar2_labels={'x':-4, 'y':-0.05, 's':'', 'color':'w'},\n",
    "             chart_titles={'bar1_x':9, 'bar1_y':3.8, 'bar2_x':30, 'bar2_y': 3.8},\n",
    "             axis_labels={'First_bar': -11.8, 'Second_bar': -12}, xlim=[0.0, 100.0, 0.0, 100.0], y_coord = 3.0):\n",
    "    \n",
    "    plt.style.use('fivethirtyeight')\n",
    "    fig, axes = plt.subplots(ncols=2, sharey=True, figsize=fig)\n",
    "    \n",
    "    data_y = list(reversed(data_y))\n",
    "    data_x = data_x.iloc[::-1]\n",
    "    data_x2 = data_x2.iloc[::-1]\n",
    "    \n",
    "    axes[0].set_xlim(xlim[0], xlim[1])\n",
    "    axes[0].barh(range(len(data_y)), data_x, left=left[0], height=0.65, align='center', color=colors[0])\n",
    "    axes[0].text(x=title['x'], y=title['y'], s=title['s'], size=title['size'])\n",
    "    axes[0].text(x=chart_titles['bar1_x'], y=chart_titles['bar1_y'], s='DETE', size=15, weight='bold', color=colors[0])\n",
    "    axes[0].grid(False)\n",
    "\n",
    "    axes[0].set_xticks([])\n",
    "    axes[0].set_yticks([])\n",
    "    axes[0].yaxis.tick_right()\n",
    "    axes[0].invert_xaxis()\n",
    "\n",
    "\n",
    "    # Add labels to each bar\n",
    "    for i, v in enumerate(data_x):\n",
    "        axes[0].text(x=int(v)+bar1_labels['x'], y=int(i)+bar1_labels['y'], s=str(v)+'%', color=bar1_labels['color'])\n",
    "\n",
    "    axes[1].set_xlim(xlim[2], xlim[3])\n",
    "    axes[1].barh(range(len(data_y)), data_x2, left=left[1], height=0.65, align='center', color=colors[1])\n",
    "    axes[1].set_xticks([])\n",
    "    axes[1].grid(False)\n",
    "\n",
    "    axes[1].text(x=chart_titles['bar2_x'], y=chart_titles['bar2_y'], s='TAFE', size=15, weight='bold', color=colors[1])\n",
    "\n",
    "    for i, z in enumerate(data_x2):\n",
    "        axes[1].text(x=int(z)+bar2_labels['x'], y=int(i)+bar2_labels['y'], s=str(z)+'%', color=bar2_labels['color'])\n",
    "\n",
    "    # Adding texts and labels to the chart\n",
    "    for y_label, x_coord in axis_labels.items():\n",
    "        axes[1].text(x_coord, y_coord, y_label, size=14)\n",
    "        y_coord -=1"
   ]
  },
  {
   "cell_type": "markdown",
   "metadata": {},
   "source": [
    "### 4.0: Percentage of dissatisfied employees by length of service"
   ]
  },
  {
   "cell_type": "code",
   "execution_count": 124,
   "metadata": {},
   "outputs": [
    {
     "data": {
      "image/png": "[encoded data removed]",
      "text/plain": [
       "<Figure size 1080x288 with 2 Axes>"
      ]
     },
     "metadata": {},
     "output_type": "display_data"
    }
   ],
   "source": [
    "dissatisfaction_by_year = create_df(dete, tafe, 'service_category', 'dissatisfied')\n",
    "\n",
    "plot_bars(dissatisfaction_by_year.index, dissatisfaction_by_year['dete_percent'], dissatisfaction_by_year['tafe_percent'], fig = [15,4],\n",
    "          title={'x':15, 'y':4.5, 's':'Percentage Of Dissatisfaction By Length Of Service', 'size':23},\n",
    "          bar1_labels={'x':-15, 'y':-0.05, 's':'', 'color':'w'},\n",
    "          axis_labels={'Veteran': -11, 'New': -9, 'Experienced': -13, 'Established': -12.8}, xlim=[-9, 38, 0.0, 75.0])"
   ]
  },
  {
   "cell_type": "markdown",
   "metadata": {},
   "source": [
    "When looking at each dataset individually, we see a slightly different pattern;\n",
    "* Veteran employees are the most dissatisfied in DETE (37%)\n",
    "* While new employees are the most dissatisfied in TAFE (68%)\n",
    "\n",
    "In fact, the percentage of dissatisfied veteran employees in TAFE is very low, compared to that of DETE. "
   ]
  },
  {
   "cell_type": "markdown",
   "metadata": {},
   "source": [
    "### 4.1: Percentage of dissatisfied employees by age"
   ]
  },
  {
   "cell_type": "code",
   "execution_count": 316,
   "metadata": {},
   "outputs": [
    {
     "data": {
      "image/png": "[encoded data removed]",
      "text/plain": [
       "<Figure size 1080x216 with 2 Axes>"
      ]
     },
     "metadata": {},
     "output_type": "display_data"
    }
   ],
   "source": [
    "dissatisfaction_by_age = create_df(dete, tafe, 'age_groups', 'dissatisfied')\n",
    "\n",
    "plot_bars(dissatisfaction_by_age.index, dissatisfaction_by_age['dete_percent'], dissatisfaction_by_age['tafe_percent'], fig = [15,3], left=[-12, 10],\n",
    "          title={'x':10, 'y':3.5, 's':'Percentage Of Dissatisfaction By Age', 'size':23},\n",
    "          chart_titles={'bar1_x':9, 'bar1_y':2.8, 'bar2_x':30, 'bar2_y': 2.8},\n",
    "          bar1_labels={'x':-13, 'y':-0.05, 's':'', 'color':'w'},\n",
    "          bar2_labels={'x':2.5, 'y':-0.05, 's':'', 'color':'w'},\n",
    "          axis_labels={'24 years and below': -22, '55 years and above': -22, '25 to 54 years': -19}, xlim=[-20, 65, 0.0, 90.0], y_coord = 2.0\n",
    ")"
   ]
  },
  {
   "cell_type": "markdown",
   "metadata": {},
   "source": [
    "Here the 2 datasets almost have a similar pattern:\n",
    "* The overwhelming majority of dissatisfied employees are 24 years and below (over 70% for both datasets). "
   ]
  },
  {
   "cell_type": "markdown",
   "metadata": {},
   "source": [
    "### 4.2: Percentage of dissatisfied employees by gender"
   ]
  },
  {
   "cell_type": "code",
   "execution_count": 233,
   "metadata": {},
   "outputs": [
    {
     "data": {
      "image/png": "[encoded data removed]",
      "text/plain": [
       "<Figure size 1080x144 with 2 Axes>"
      ]
     },
     "metadata": {},
     "output_type": "display_data"
    }
   ],
   "source": [
    "dissatisfaction_by_gender = create_df(dete, tafe, 'gender', 'dissatisfied')\n",
    "\n",
    "plot_bars(dissatisfaction_by_gender.index, dissatisfaction_by_gender['dete_percent'], dissatisfaction_by_gender['tafe_percent'], fig = [15,2], left=[-17, 2],\n",
    "          title={'x':14, 'y':2.5, 's':'Percentage Of Dissatisfaction By Gender', 'size':23},\n",
    "          chart_titles={'bar1_x':9, 'bar1_y':1.8, 'bar2_x':30, 'bar2_y': 1.8},\n",
    "          bar1_labels={'x':-19, 'y':-0.05, 's':'', 'color':'w'},\n",
    "          bar2_labels={'x':-6, 'y':-0.05, 's':'', 'color':'w'},\n",
    "          axis_labels={'Female': -12, 'Male': -10.8}, xlim=[-17, 70, 0.0, 80.0], y_coord = 1.0\n",
    ")"
   ]
  },
  {
   "cell_type": "markdown",
   "metadata": {},
   "source": [
    "We also see a similar pattern in both datasets:\n",
    "* The overwhelming majority of dissatisfied employees are female (77% for DETE and 68% for TAFE). "
   ]
  },
  {
   "cell_type": "markdown",
   "metadata": {},
   "source": [
    "### 4.3: Percentage of dissatisfied employees by role"
   ]
  },
  {
   "cell_type": "code",
   "execution_count": 314,
   "metadata": {},
   "outputs": [
    {
     "data": {
      "image/png": "[encoded data removed]",
      "text/plain": [
       "<Figure size 1080x144 with 2 Axes>"
      ]
     },
     "metadata": {},
     "output_type": "display_data"
    }
   ],
   "source": [
    "dissatisfaction_by_role = create_df(dete, tafe, 'role', 'dissatisfied')\n",
    "\n",
    "plot_bars(dissatisfaction_by_role.index, dissatisfaction_by_role['dete_percent'], dissatisfaction_by_role['tafe_percent'], fig = [15,2], left=[-12, 9],\n",
    "          title={'x':10, 'y':2.5, 's':'Percentage Of Dissatisfaction By Role', 'size':23},\n",
    "          chart_titles={'bar1_x':9, 'bar1_y':1.8, 'bar2_x':30, 'bar2_y': 1.8},\n",
    "          bar1_labels={'x':-13, 'y':-0.05, 's':'', 'color':'w'},\n",
    "          bar2_labels={'x':2, 'y':-0.05, 's':'', 'color':'w'},\n",
    "          axis_labels={'Teaching Staff': -12, 'Non-Teaching Staff': -14}, xlim=[-22, 60, 8.0, 80.0], y_coord = 1.0\n",
    ")"
   ]
  },
  {
   "cell_type": "markdown",
   "metadata": {},
   "source": [
    "We see a difference in the pattern in both datasets:\n",
    "* For DETE, more teaching staff (64%) reported to be dissatisfied with the jobs\n",
    "* While for TAFE, more non-teaching staff (65%) reported to be dissatisfied with their jobs."
   ]
  },
  {
   "cell_type": "markdown",
   "metadata": {},
   "source": [
    "### 4.4: Percentage of dissatisfied employees by employment status"
   ]
  },
  {
   "cell_type": "code",
   "execution_count": 287,
   "metadata": {},
   "outputs": [
    {
     "data": {
      "image/png": "[encoded data removed]",
      "text/plain": [
       "<Figure size 1080x360 with 2 Axes>"
      ]
     },
     "metadata": {},
     "output_type": "display_data"
    }
   ],
   "source": [
    "dissatisfaction_by_status = create_df(dete, tafe, 'employment_status', 'dissatisfied')\n",
    "\n",
    "plot_bars(dissatisfaction_by_status.index, dissatisfaction_by_status['dete_percent'], dissatisfaction_by_status['tafe_percent'], fig = [15,5], left=[-15, 12],\n",
    "          title={'x':17, 'y':5.5, 's':'Percentage Of Dissatisfaction By Employment Status', 'size':23},\n",
    "          chart_titles={'bar1_x':9, 'bar1_y':4.8, 'bar2_x':30, 'bar2_y': 4.8},\n",
    "          bar1_labels={'x':-15.5, 'y':-0.05, 's':'', 'color':'w'},\n",
    "          bar2_labels={'x':8, 'y':-0.05, 's':'', 'color':'w'},\n",
    "          axis_labels={'Permanent Full-time': -6, 'Permanent Part-time': -6, 'Temporary Full-time': -6, 'Temporary Part-time': -6, 'Contract/casual': -4}, xlim=[-21, 50, 8.0, 60.0], y_coord = 4.0\n",
    ")"
   ]
  },
  {
   "cell_type": "markdown",
   "metadata": {},
   "source": [
    "We also see some difference in the pattern here:\n",
    "* For DETE, 51% of employees with permanent full-time roles where dissatisfied with their jobs. \n",
    "* While for TAFE, 37% of employees with temporary part-time roles where dissatisfied with their jobs, and 35% of employees with permanent full-time roles where dissatisfied with thier jobs.\n"
   ]
  },
  {
   "cell_type": "markdown",
   "metadata": {},
   "source": [
    "## Conclusion\n",
    "\n",
    "### Summary of Key Findings and Insights"
   ]
  },
  {
   "cell_type": "markdown",
   "metadata": {},
   "source": [
    "When analyzing both datasets together, it was revealed that:\n",
    "\n",
    "* Employees who worked for a relatively short period of time were more likely to resign due to dissatisfaction, constituting 48% of dissatisfied employees. On the other hand, veteran employees accounted for 24% of dissatisfied employees.\n",
    "\n",
    "* A significant proportion of dissatisfied employees fall in the age group of 25 to 50 years, suggesting that employees in their prime working years might resign due to dissatisfaction and seek career changes.\n",
    "\n",
    "* Young employees (aged 24 and below) had the lowest resignation rates, followed closely by older employees (55 years anf above), indicating that dissatisfaction leading to resignations is less prevalent in these age groups.\n",
    "\n",
    "* Female employees comprised a substantial majority (73%) of the dissatisfied workforce, while male employees constituted only 27% of dissatisfied employees.\n",
    "\n",
    "* Non-teaching staff reported slightly higher dissatisfaction levels (51%) compared to teaching staff (49%), suggesting a potential difference in job satisfaction between the two roles.\n",
    "\n",
    "* Permanent full-time employees experienced higher dissatisfaction rates (43%) compared to other employment types, indicating potential issues specific to this employment category."
   ]
  },
  {
   "cell_type": "markdown",
   "metadata": {},
   "source": [
    "When analyzing both datasets separately, it was revealed that:\n",
    "\n",
    "* Within DETE, veteran employees had the highest dissatisfaction rate (37%), while in TAFE, new employees had the highest dissatisfaction rate (68%). This indicates varying factors affecting employee satisfaction in different institutes.\n",
    "\n",
    "* A significant majority (over 70%) of dissatisfied employees in both institutes were aged 24 and below, warranting attention to address potential issues faced by younger employees.\n",
    "\n",
    "* Female employees were notably more dissatisfied (77% in DETE and 68% in TAFE), emphasizing the need to investigate potential gender-related concerns impacting job satisfaction.\n",
    "\n",
    "* Job dissatisfaction was higher among teaching staff in DETE (64%), while in TAFE, non-teaching staff reported higher dissatisfaction (65%), indicating sector-specific concerns.\n",
    "\n",
    "* The proportion of dissatisfied permanent full-time employees was higher in DETE (51%), while temporary part-time employees experienced higher dissatisfaction rates in TAFE (37%). Understanding the reasons behind these differences can aid in targeted interventions.\n"
   ]
  },
  {
   "cell_type": "markdown",
   "metadata": {},
   "source": [
    "These key findings provide valuable insights into the factors contributing to employee resignations and dissatisfaction in the Department of Education, Training, and Employment (DETE) and the Technical and Further Education (TAFE) institute in Queensland, Australia. Addressing these insights can help improve employee satisfaction, retention, and overall organizational effectiveness."
   ]
  }
 ],
 "metadata": {
  "kernelspec": {
   "display_name": "Anaconda (Base)",
   "language": "python",
   "name": "anaconda-base"
  },
  "language_info": {
   "codemirror_mode": {
    "name": "ipython",
    "version": 3
   },
   "file_extension": ".py",
   "mimetype": "text/x-python",
   "name": "python",
   "nbconvert_exporter": "python",
   "pygments_lexer": "ipython3",
   "version": "3.9.7"
  },
  "orig_nbformat": 4
 },
 "nbformat": 4,
 "nbformat_minor": 2
}
